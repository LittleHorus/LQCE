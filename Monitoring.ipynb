{
 "cells": [
  {
   "cell_type": "code",
   "execution_count": 116,
   "metadata": {},
   "outputs": [],
   "source": [
    "import serial\n",
    "from ctypes import (Union, Array, c_uint8, c_float, cdll, CDLL)\n",
    "from enum import Enum\n",
    "import crcmod\n",
    "import matplotlib.pyplot as plt\n",
    "import time\n",
    "import visa\n",
    "import struct\n",
    "import numpy as np\n",
    "class uint8_array(Array):\n",
    "    _type_ = c_uint8\n",
    "    _length_ = 4\n",
    "class f_type(Union):\n",
    "    _fields_ = (\"float\", c_float), (\"char\", uint8_array)\n",
    "\n",
    "    \n"
   ]
  },
  {
   "cell_type": "code",
   "execution_count": 14,
   "metadata": {},
   "outputs": [],
   "source": [
    "class voltageSource(object):\n",
    "    def __init__(self, com_name):\n",
    "        self.com_name = com_name\n",
    "        self.session_open = 0\n",
    "        self.serial_device = serial.Serial()\n",
    "        self.serial_device.port = com_name\n",
    "        self.serial_device.baudrate = 115200\n",
    "        self.serial_device.timeout = 5\n",
    "        \n",
    "        '''\n",
    "        try:\n",
    "            self.serial_device = serial.Serial(port = com_name, baudrate = 115200, timeout = 5)\n",
    "            self.session_open = 1\n",
    "        except  serial.SerialException:\n",
    "                print(\"COM port already initialize\")\n",
    "                \n",
    "        ''' \n",
    "        self.datain_buf = []\n",
    "        self.dataout_buf = []\n",
    "    def close(self):\n",
    "        try:\n",
    "            self.serial_device.close()\n",
    "            self.session_open = 0\n",
    "        except:\n",
    "            print(\"close error\")\n",
    "    def open(self):\n",
    "        if self.session_open == 0:\n",
    "            try:\n",
    "                self.serial_device.open()\n",
    "                self.session_open = 1\n",
    "            except serial.SerialException:\n",
    "                print(\"com port not open\")\n",
    "        else:\n",
    "            print(\"device already initialize\")\n",
    "    def write(self, data_bytearray):\n",
    "        self.serial_device.write(data_bytearray)\n",
    "    def read(self, bytes_num):\n",
    "        return (self.serial_device.read(bytes_num))\n",
    "    \n",
    "    def float_to4bytes(self, float_data):\n",
    "        temp_data = f_type()\n",
    "        temp_data.float = float_data\n",
    "        return temp_data.char[:]\n",
    "    def byteArray_toFloat(self, data_array, offset = 0):\n",
    "        temp_data = f_type()\n",
    "        temp_data.char[:] = (data_array[0+offset],data_array[1+offset],data_array[2+offset],data_array[3+offset])\n",
    "        return temp_data.float\n",
    "    def formated_data(self, data_in):\n",
    "        return (bytearray(data_in))            "
   ]
  },
  {
   "cell_type": "code",
   "execution_count": 123,
   "metadata": {},
   "outputs": [],
   "source": [
    "vs = voltageSource(\"COM5\")\n",
    "vs.open()"
   ]
  },
  {
   "cell_type": "code",
   "execution_count": 107,
   "metadata": {},
   "outputs": [],
   "source": [
    "data = list()\n",
    "vs.write([0xa5])\n",
    "data = vs.read(68)"
   ]
  },
  {
   "cell_type": "code",
   "execution_count": 108,
   "metadata": {},
   "outputs": [
    {
     "data": {
      "text/plain": [
       "(0.3304029405117035,)"
      ]
     },
     "execution_count": 108,
     "metadata": {},
     "output_type": "execute_result"
    }
   ],
   "source": [
    "data_exs = data[2:66]\n",
    "#vs.byteArray_toFloat(data_exs,60)\n",
    "#data_exs[]\n",
    "off = 20\n",
    "struct.unpack('f', data_exs[0+off:4+off])"
   ]
  },
  {
   "cell_type": "code",
   "execution_count": 94,
   "metadata": {},
   "outputs": [
    {
     "name": "stdout",
     "output_type": "stream",
     "text": [
      "[0.560879111289978, 1.1459341049194336, 1.1040292978286743, 1.118534803390503]\n",
      "[0.24377290904521942, 0.22846154868602753, 0.2220146656036377, 0.22362639009952545]\n",
      "[10.218315124511719, 0.29816851019859314, 0.35457876324653625, 0.29816851019859314]\n",
      "[0.7655677795410156, 0.36263737082481384, 0.523809552192688, 0.24175824224948883]\n"
     ]
    }
   ],
   "source": [
    "vs.byteArray_toFloat(data_exs,20)\n",
    "voltPos = list()\n",
    "for i in range(4):\n",
    "    voltPos.append(vs.byteArray_toFloat(data_exs,0+16*i))\n",
    "print(voltPos)\n",
    "voltNeg = list()\n",
    "for i in range(4):\n",
    "    voltNeg.append(vs.byteArray_toFloat(data_exs,8+16*i))\n",
    "print(voltNeg)\n",
    "currPos = list()\n",
    "for i in range(4):\n",
    "    currPos.append(vs.byteArray_toFloat(data_exs,4+16*i))\n",
    "print(currPos)\n",
    "currNeg = list()\n",
    "for i in range(4):\n",
    "    currNeg.append(vs.byteArray_toFloat(data_exs,12+16*i))\n",
    "print(currNeg)"
   ]
  },
  {
   "cell_type": "code",
   "execution_count": 124,
   "metadata": {},
   "outputs": [
    {
     "data": {
      "text/plain": [
       "[<matplotlib.lines.Line2D at 0x9cd2908>]"
      ]
     },
     "execution_count": 124,
     "metadata": {},
     "output_type": "execute_result"
    },
    {
     "data": {
      "image/png": "[encoded data removed]",
      "text/plain": [
       "<Figure size 432x288 with 1 Axes>"
      ]
     },
     "metadata": {
      "needs_background": "light"
     },
     "output_type": "display_data"
    }
   ],
   "source": [
    "\n",
    "data_array = list()\n",
    "for i in range(240):\n",
    "    vs.write([0xa5])\n",
    "    data = vs.read(86)\n",
    "    data_exs = data[2:66]\n",
    "    data_array.append(vs.byteArray_toFloat(data_exs,4))\n",
    "    #print(\"{:0.3f}  count - {}\".format(data_array[i], i+1))\n",
    "    time.sleep(1)\n",
    "plt.plot(data_array)\n",
    "    \n",
    "    \n",
    "    "
   ]
  },
  {
   "cell_type": "code",
   "execution_count": 125,
   "metadata": {},
   "outputs": [
    {
     "name": "stdout",
     "output_type": "stream",
     "text": [
      "1.2406403441494374\n"
     ]
    }
   ],
   "source": [
    "print((np.max(data_array)- np.min(data_array))/np.mean(data_array))"
   ]
  },
  {
   "cell_type": "code",
   "execution_count": 126,
   "metadata": {},
   "outputs": [],
   "source": [
    "vs.close()"
   ]
  }
 ],
 "metadata": {
  "kernelspec": {
   "display_name": "Python 3",
   "language": "python",
   "name": "python3"
  },
  "language_info": {
   "codemirror_mode": {
    "name": "ipython",
    "version": 3
   },
   "file_extension": ".py",
   "mimetype": "text/x-python",
   "name": "python",
   "nbconvert_exporter": "python",
   "pygments_lexer": "ipython3",
   "version": "3.7.1"
  }
 },
 "nbformat": 4,
 "nbformat_minor": 2
}
