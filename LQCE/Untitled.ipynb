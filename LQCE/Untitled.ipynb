{
 "cells": [
  {
   "cell_type": "code",
   "execution_count": 5,
   "metadata": {},
   "outputs": [],
   "source": [
    "from LQCE.ncs513 import *\n",
    "\n",
    "#ncs = Nsk_current_source(\"COM32\")\n",
    "#ncs.open()"
   ]
  },
  {
   "cell_type": "code",
   "execution_count": 10,
   "metadata": {},
   "outputs": [
    {
     "data": {
      "text/plain": [
       "b\"\\xc1\\xe3\\xac\\xc5'7\\xef\\xef\\xefV\""
      ]
     },
     "execution_count": 10,
     "metadata": {},
     "output_type": "execute_result"
    }
   ],
   "source": [
    "ncs.enable_channel(3)\n",
    "ncs.set_output_state(3,1)\n",
    "ncs.set_range(3,\"1mA\")\n",
    "ncs.set_current(3,10e-6)\n",
    "#ncs.disable_channel(3)"
   ]
  },
  {
   "cell_type": "code",
   "execution_count": 33,
   "metadata": {},
   "outputs": [
    {
     "data": {
      "text/plain": [
       "True"
      ]
     },
     "execution_count": 33,
     "metadata": {},
     "output_type": "execute_result"
    }
   ],
   "source": [
    "import serial\n",
    "#ser1 = serial.Serial('COM32')\n",
    "ser = serial.Serial()\n",
    "ser.baudrate = 115200\n",
    "ser.port = 'COM32'\n",
    "\n",
    "ser.open()\n",
    "ser.is_open"
   ]
  },
  {
   "cell_type": "code",
   "execution_count": 9,
   "metadata": {},
   "outputs": [],
   "source": [
    "from drivers.NCS513 import *\n",
    "NCS = NCS513('COM32')"
   ]
  },
  {
   "cell_type": "code",
   "execution_count": 10,
   "metadata": {},
   "outputs": [
    {
     "data": {
      "text/plain": [
       "b'\\xc1\\xe1\\xbd7\\x865\\xef\\xef\\xef\\xf3'"
      ]
     },
     "execution_count": 10,
     "metadata": {},
     "output_type": "execute_result"
    }
   ],
   "source": [
    "NCS.enable_channel(2)\n",
    "NCS.set_range_backend(2, '10uA')\n",
    "NCS.set_current(1e-6)\n",
    "NCS.set_output_state(2,1)"
   ]
  },
  {
   "cell_type": "code",
   "execution_count": 11,
   "metadata": {},
   "outputs": [],
   "source": [
    "NCS.active_channel = 2"
   ]
  },
  {
   "cell_type": "code",
   "execution_count": 15,
   "metadata": {},
   "outputs": [
    {
     "data": {
      "text/plain": [
       "True"
      ]
     },
     "execution_count": 15,
     "metadata": {},
     "output_type": "execute_result"
    }
   ],
   "source": [
    "from lib2.SingleToneSpectroscopy import *\n",
    "\n",
    "currents = linspace(-.05e-4, .05e-4, 101)\n",
    "\n",
    "STS = SingleToneSpectroscopy('STS', 'lol', plot_update_interval = 1, vna = ['vna1'], src = [NCS])\n",
    "STS._src[0].set_current(currents[30])"
   ]
  },
  {
   "cell_type": "code",
   "execution_count": 22,
   "metadata": {},
   "outputs": [
    {
     "data": {
      "text/plain": [
       "b'\\xc1\\xe1\\x00\\x00\\x00\\x9e\\xef\\xef\\xefJ'"
      ]
     },
     "execution_count": 22,
     "metadata": {},
     "output_type": "execute_result"
    }
   ],
   "source": [
    "NCS.set_out_mode(1, \"INNER_LOGND_OUTER_LOGND\")"
   ]
  },
  {
   "cell_type": "code",
   "execution_count": 14,
   "metadata": {},
   "outputs": [
    {
     "data": {
      "text/plain": [
       "True"
      ]
     },
     "execution_count": 14,
     "metadata": {},
     "output_type": "execute_result"
    }
   ],
   "source": [
    "from lib2.SingleToneSpectroscopy import *\n",
    "\n",
    "currents = linspace(-.05e-4, .05e-4, 101)\n",
    "\n",
    "STS = SingleToneSpectroscopy('STS', 'lol', plot_update_interval = 1, vna = ['vna1'], src = [NCS])\n",
    "STS._src[0].set_current(currents[70])"
   ]
  },
  {
   "cell_type": "code",
   "execution_count": 13,
   "metadata": {},
   "outputs": [
    {
     "name": "stdout",
     "output_type": "stream",
     "text": [
      "None\n"
     ]
    }
   ],
   "source": []
  },
  {
   "cell_type": "code",
   "execution_count": 8,
   "metadata": {},
   "outputs": [],
   "source": [
    "import sys\n",
    "sys.path\n",
    "sys.path.insert(0, 'C:\\\\Users\\\\Dmitry\\\\Python Jupyter\\\\Measurement-automation-master')"
   ]
  },
  {
   "cell_type": "code",
   "execution_count": 15,
   "metadata": {},
   "outputs": [
    {
     "data": {
      "text/plain": [
       "['C:\\\\Users\\\\Dmitry\\\\Python Jupyter\\\\LQCE',\n",
       " 'C:\\\\Users\\\\Dmitry\\\\Python Jupyter',\n",
       " 'C:\\\\Users\\\\Dmitry\\\\Python Jupyter',\n",
       " 'D:\\\\RSF\\\\run28',\n",
       " 'C:\\\\Users\\\\Dmitry\\\\Python Jupyter\\\\Measurement-automation-master\\\\lib2',\n",
       " 'C:\\\\Users\\\\Dmitry\\\\Anaconda3\\\\python37.zip',\n",
       " 'C:\\\\Users\\\\Dmitry\\\\Anaconda3\\\\DLLs',\n",
       " 'C:\\\\Users\\\\Dmitry\\\\Anaconda3\\\\lib',\n",
       " 'C:\\\\Users\\\\Dmitry\\\\Anaconda3',\n",
       " '',\n",
       " 'C:\\\\Users\\\\Dmitry\\\\Anaconda3\\\\lib\\\\site-packages',\n",
       " 'C:\\\\Users\\\\Dmitry\\\\Anaconda3\\\\lib\\\\site-packages\\\\win32',\n",
       " 'C:\\\\Users\\\\Dmitry\\\\Anaconda3\\\\lib\\\\site-packages\\\\win32\\\\lib',\n",
       " 'C:\\\\Users\\\\Dmitry\\\\Anaconda3\\\\lib\\\\site-packages\\\\Pythonwin',\n",
       " 'C:\\\\Users\\\\Dmitry\\\\Anaconda3\\\\lib\\\\site-packages\\\\IPython\\\\extensions',\n",
       " 'C:\\\\Users\\\\Dmitry\\\\.ipython']"
      ]
     },
     "execution_count": 15,
     "metadata": {},
     "output_type": "execute_result"
    }
   ],
   "source": [
    "sys.path"
   ]
  },
  {
   "cell_type": "code",
   "execution_count": 28,
   "metadata": {},
   "outputs": [],
   "source": [
    "import numpy as np\n",
    "import matplotlib.pyplot as plt"
   ]
  },
  {
   "cell_type": "code",
   "execution_count": 14,
   "metadata": {},
   "outputs": [
    {
     "name": "stdout",
     "output_type": "stream",
     "text": [
      "14\n",
      "4300000.0\n"
     ]
    },
    {
     "data": {
      "text/plain": [
       "Text(0, 0.5, 'Qubit exitation frequency, GHz')"
      ]
     },
     "execution_count": 14,
     "metadata": {},
     "output_type": "execute_result"
    },
    {
     "data": {
      "image/png": "[encoded data removed]",
      "text/plain": [
       "<Figure size 432x288 with 1 Axes>"
      ]
     },
     "metadata": {
      "needs_background": "light"
     },
     "output_type": "display_data"
    }
   ],
   "source": [
    "h=6.6260693*10**(-34)\n",
    "kappa=2.5*10**6\n",
    "f_627 = {'dBm': [-18.3, -16.3, -14.3, -12.3, - 10.3, -7, -5, -3, -1, 1, 3, 5, 7, 9], \"Frequency\": [5.7925, 5.79, 5.795, 5.785, 5.7775, 5.74, 5.75, 5.7275, 5.71125, 5.68, 5.625, 5.57, 5.51, 5.345]}\n",
    "f_663 = {'dBm': [-7,-3,0,7,8,10,13], 'Frequency': [5.8, 5.7975, 5.7875, 5.73, 5.71]}\n",
    "f_667 = {'dBm': [-18.3, -16.3, -14.3, -10.3, -8.3, -7,-6,-5,-4,-3,-2,-1], \"Frequency\": [5.78, 5.775, 5.7775, 5.735, 5.7075, 5.65, 5.615, 5.58, 5.55, 5.49, 5.4525, 5.3775]}\n",
    "f_674 = {'dBm': [-7,-3,0,7,13], 'Frequency': [5.8, 5.7925, 5.795, 5.77, 5.58]}\n",
    "f_746 = {'dBm': [-7,-5,-3,-1,1,3,5,7,9, 13], 'Frequency': [5.795,5.7925,5.785, 5.7825, 5.77, 5.7525, 5.7325, 5.695, 5.6475, 5.445]}\n",
    "f_765 = {'dBm': [9,13], 'Frequency': [5.7775e9, 5.765e9]}\n",
    "\n",
    "print(len(f_627['dBm']))\n",
    "h=6.62*10**(-34)\n",
    "C_c=14*(10**-15)\n",
    "C_r=391*10**-15\n",
    "f_res=6.46*10**9\n",
    "G1=4.3*10**6\n",
    "V_n=np.sqrt(h*f_res/C_r)\n",
    "print(G1)\n",
    "Pow1=np.empty(14)\n",
    "Pow2=np.empty(7)\n",
    "Pow3=np.empty(12)\n",
    "Pow4=np.empty(5)\n",
    "Pow5=np.empty(10)\n",
    "\n",
    "Vin=np.empty(14)\n",
    "Vin2=np.empty(7)\n",
    "Vin3=np.empty(12)\n",
    "Vin4=np.empty(5)\n",
    "Vin5=np.empty(10)\n",
    "\n",
    "\n",
    "n627=np.empty(14)\n",
    "n663=np.empty(5)\n",
    "n667=np.empty(12)\n",
    "n674=np.empty(5)\n",
    "n746=np.empty(10)\n",
    "\n",
    "\n",
    "\n",
    "\n",
    "\n",
    "for i in range(14):\n",
    "        Pow1[i]=10**((f_627['dBm'][i]-87-30)/10)\n",
    "        Vin[i]=np.sqrt(Pow1[i]*50)\n",
    "        n627[i]=(2*C_c*V_n*Vin[i])**2/((4*(6.27*10**9-f_res)**2+G1**2)*h**2)      \n",
    "for i in range(5):\n",
    "        Pow2[i]=10**((f_663['dBm'][i]-87-30)/10)\n",
    "        Vin2[i]=np.sqrt(Pow2[i]*50)\n",
    "        n663[i]=(2*C_c*V_n*Vin2[i])**2/((4*(6.63*10**9-f_res)**2+G1**2)*h**2)          \n",
    "for i in range(12):\n",
    "        Pow3[i]=10**((f_667['dBm'][i]-87-30)/10)\n",
    "        Vin3[i]=np.sqrt(Pow3[i]*50)\n",
    "        n667[i]=(2*C_c*V_n*Vin3[i])**2/((4*(6.67*10**9-f_res)**2+G1**2)*h**2)\n",
    "for i in range(5):\n",
    "        Pow4[i]=10**((f_674['dBm'][i]-87-30)/10)\n",
    "        Vin4[i]=np.sqrt(Pow4[i]*50)\n",
    "        n674[i]=(2*C_c*V_n*Vin4[i])**2/((4*(6.74*10**9-f_res)**2+G1**2)*h**2)\n",
    "for i in range(10):\n",
    "        Pow5[i]=10**((f_746['dBm'][i]-87-30)/10)\n",
    "        Vin5[i]=np.sqrt(Pow5[i]*50)\n",
    "        n746[i]=(2*C_c*V_n*Vin5[i])**2/((4*(7.46*10**9-f_res)**2+G1**2)*h**2)                                        \n",
    "                                       \n",
    "#a=dri[2]-f_res\n",
    "#print(n1)\n",
    "\n",
    "#f3 = {'f3':[6.670430e9, 6.672398e9, 6.674192e9, 6.675200e9, 6.676021e9, 6.677629e9], \"f1\": [5.745e9, 5.6e9, 5.455e9, 5.6e9, 5.674e9, 5.7425e9]}\n",
    "\n",
    "\n",
    "fig = plt.figure()\n",
    "plt.plot(n627,f_627['Frequency'])\n",
    "plt.plot(n663,f_663['Frequency'])\n",
    "plt.plot(n667,f_667['Frequency'])\n",
    "plt.plot(n674,f_674['Frequency'])\n",
    "plt.plot(n746,f_746['Frequency'])\n",
    "plt.legend([\"$f_{r1}$=6.27 GHz\", \"$f_{out1}$=6.63 GHz\", \"$f_{r3}$=6.67 GHz\",\"$f_{out2}$=6.74 GHz\",\"$f_{r4}$=7.46 GHz\"],loc =\"best\",\n",
    "          bbox_to_anchor=(0.5, 0.4, 0.0, 0.0))\n",
    "plt.xlabel('Averaged number of photons')\n",
    "plt.ylabel('Qubit exitation frequency, GHz')"
   ]
  },
  {
   "cell_type": "code",
   "execution_count": 15,
   "metadata": {},
   "outputs": [
    {
     "name": "stdout",
     "output_type": "stream",
     "text": [
      "43000000.0\n"
     ]
    },
    {
     "data": {
      "text/plain": [
       "array([1.67319642e+00, 2.56602695e+00, 3.93527873e+00, 6.03517384e+00,\n",
       "       9.25558918e+00, 1.41944430e+01, 2.17687074e+01, 3.33846576e+01,\n",
       "       5.11989687e+01, 7.85191335e+01, 1.20417549e+02, 1.84673283e+02,\n",
       "       2.83216372e+02, 4.34342815e+02, 6.66111493e+02, 1.02155373e+03,\n",
       "       1.56666268e+03, 2.40264598e+03, 3.68471642e+03, 5.65090955e+03,\n",
       "       8.66627850e+03, 1.32906716e+04, 2.03826765e+04, 3.12590301e+04,\n",
       "       4.79390898e+04, 7.35197582e+04, 1.12750469e+05, 1.72914989e+05,\n",
       "       2.65183762e+05, 4.06687864e+05, 6.23699647e+05, 9.56510593e+05,\n",
       "       1.46691203e+06, 2.24966761e+06, 3.45010761e+06, 5.29111166e+06])"
      ]
     },
     "execution_count": 15,
     "metadata": {},
     "output_type": "execute_result"
    }
   ],
   "source": [
    "h=6.62*10e-34\n",
    "C_c=14*10e-15\n",
    "C_r=391*10e-15\n",
    "f_res=6.46*10e9\n",
    "G1=4.3*10e6\n",
    "V_n=np.sqrt(h*f_res/C_r)\n",
    "print(G1)\n",
    "\n",
    "dBStark = np.linspace(-127,-90, 36)\n",
    "dBStark\n",
    "powerStark = np.empty(36)\n",
    "VinStark = np.empty(36)\n",
    "nStark = np.empty(36)\n",
    "for i in range(36):\n",
    "        powerStark[i]=10**(dBStark[i]/10)\n",
    "        VinStark[i]=np.sqrt(powerStark[i]*50)\n",
    "        nStark[i]=((2*C_c*V_n*VinStark[i])**2)/((G1**2)*h**2)\n",
    "nStark"
   ]
  },
  {
   "cell_type": "code",
   "execution_count": null,
   "metadata": {},
   "outputs": [],
   "source": [
    "for i in range(14):\n",
    "        Pow1[i]=10**((f_627['dBm'][i]-87-30)/10)\n",
    "        Vin[i]=np.sqrt(Pow1[i]*50)\n",
    "        n627[i]=(2*C_c*V_n*Vin[i])**2/((4*(6.27*10**9-f_res)**2+G1**2)*h**2)  "
   ]
  },
  {
   "cell_type": "code",
   "execution_count": 1,
   "metadata": {},
   "outputs": [],
   "source": [
    "import sys\n",
    "import visa\n",
    "#from LQCE.Lecroy104Xi import *\n",
    "import sys\n",
    "sys.path\n",
    "sys.path.insert(0, 'C:\\\\Users\\\\Dmitry\\\\Python Jupyter\\\\LQCE')"
   ]
  },
  {
   "cell_type": "code",
   "execution_count": 1,
   "metadata": {},
   "outputs": [],
   "source": [
    "from LQCE.Lecroy104Xi import *\n",
    "osc = Lecroy('VICP::192.168.1.37::INSTR')"
   ]
  },
  {
   "cell_type": "code",
   "execution_count": 79,
   "metadata": {},
   "outputs": [
    {
     "name": "stdout",
     "output_type": "stream",
     "text": [
      "-4242 -4256 -4245 -4242 1002\n"
     ]
    },
    {
     "data": {
      "image/png": "[encoded data removed]",
      "text/plain": [
       "<Figure size 432x288 with 1 Axes>"
      ]
     },
     "metadata": {
      "needs_background": "light"
     },
     "output_type": "display_data"
    }
   ],
   "source": [
    "#osc.clear()\n",
    "data = osc.get_waveform(1, 2021)\n",
    "data_ch2 = osc.get_waveform(2, 2021)\n",
    "plt.plot(data[0])\n",
    "plt.plot(data_ch2[0])\n",
    "print(data[0][0], data[0][1], data[0][2], data[0][3], len(data[0]))\n"
   ]
  },
  {
   "cell_type": "code",
   "execution_count": 74,
   "metadata": {},
   "outputs": [],
   "source": [
    "osc.set_channel_state(2, \"ON\")\n"
   ]
  },
  {
   "cell_type": "code",
   "execution_count": 178,
   "metadata": {},
   "outputs": [
    {
     "data": {
      "text/plain": [
       "'*OPC 1\\n'"
      ]
     },
     "execution_count": 178,
     "metadata": {},
     "output_type": "execute_result"
    }
   ],
   "source": [
    "#osc.set_bandwidth_limit(1, 0)\n",
    "#osc.get_bandwidth_limit(1)\n",
    "\n",
    "osc.write(\"COMM_FORMAT DEF9, WORD, BIN\")\n",
    "osc.query(\"COMM_FORMAT?\")\n",
    "\n",
    "osc.write(\"C1:CPL D1M\")\n",
    "osc.query(\"C1:CPL?\")\n",
    "\n",
    "#osc.write(\"FRTR\") # - force trigger\n",
    "osc.query(\"MSIZ?\")\n",
    "osc.query(\"C1:OFST?\")\n",
    "#osc.write(\"*OPC\")\n",
    "osc.query(\"*OPC?\")\n",
    "#osc.write(\"STOP\")\n",
    "#osc.write(\"FRTR\")\n"
   ]
  },
  {
   "cell_type": "code",
   "execution_count": 66,
   "metadata": {},
   "outputs": [
    {
     "data": {
      "text/plain": [
       "'OFF\\n'"
      ]
     },
     "execution_count": 66,
     "metadata": {},
     "output_type": "execute_result"
    }
   ],
   "source": [
    "#msiz = osc.query(\"TDIV?\")\n",
    "#msiz = osc.query(\"TRLV?\")\n",
    "#msiz = osc.query(\"C1:TRA?\")\n",
    "osc.write(\"CHDR OFF\")\n",
    "msiz =osc.query(\"COMM_HEADER?\")\n",
    "msiz"
   ]
  },
  {
   "cell_type": "code",
   "execution_count": 283,
   "metadata": {},
   "outputs": [
    {
     "data": {
      "text/plain": [
       "['SHORT', '']"
      ]
     },
     "execution_count": 283,
     "metadata": {},
     "output_type": "execute_result"
    }
   ],
   "source": [
    "#msiz = osc.query(\"MSIZ?\")\n",
    "ms = msiz.split('CHDR ')\n",
    "m = ms[1].split('\\n')\n",
    "#(float(m[0]))\n",
    "m"
   ]
  },
  {
   "cell_type": "code",
   "execution_count": 63,
   "metadata": {},
   "outputs": [],
   "source": [
    "#osc.write(\"TDIV 100E-9\")\n",
    "#osc.query(\"TDIV?\")\n",
    "#osc.write(\"C1:TRA ON\")\n",
    "#osc.write(\"TRDL 10e-9\")\n",
    "#osc.query(\"TRDL?\")\n",
    "#osc.write(\"EX:TRLV 100e-3\")\n",
    "#osc.query(\"EX:TRLV?\")#trig level\n",
    "#osc.write(\"TRMD NORM\")#trig mode - AUTO NORM SINGLE STOP\n",
    "#osc.write(\"TRSE EDGE, SR, EX, HT, OFF\")# EDGE Source - external, HoldTime - off\n",
    "#osc.query(\"TRSE?\") #'TRSE EDGE,SR,EX,HT,OFF'\n",
    "#osc.write(\"C1:VDIV 2e-3\") \n",
    "#osc.query(\"C1:VDIV?\")\n",
    "#osc.write(\"STOP\")\n",
    "\n",
    "#osc.write(\"TRSL POS\")# - trigger slope POS NEG\n",
    "#osc.query(\"TRSL?\")\n",
    "\n",
    "#osc.write(\"*TRG\")\n",
    "#osc.write(\"EX:TRCP DC\") #no correct working, need future tests\n",
    "\n",
    "#osc.write(\"TRMD NORM\")\n",
    "\n",
    "#osc.write(\"*TRG\")\n",
    "\n",
    "#osc.write(\"COMM_HEADER OFF\")\n",
    "\n",
    "osc.write(\"C1:WF? DAT1\")#fetch data\n",
    "#osc.timeout = 20000\n",
    "string_data = osc.read_bytes(2021)\n",
    "#osc.read_raw()\n"
   ]
  },
  {
   "cell_type": "code",
   "execution_count": 65,
   "metadata": {},
   "outputs": [
    {
     "name": "stdout",
     "output_type": "stream",
     "text": [
      "69\n",
      "b\"C1:WF DAT1,#9000002004C\\xeeH\\xeeK\\xeeI\\xeeK\\xeeO\\xeeA\\xee?\\xeeP\\xee?\\xeeF\\xeeL\\xeeH\\xeeB\\xeeP\\xeeD\\xeeD\\xeeP\\xeeH\\xee<\\xeeJ\\xeeI\\xeeN\\xeeN\\xeeH\\xeeC\\xeeK\\xeeJ\\xee>\\xeeI\\xee@\\xeeG\\xeeJ\\xeeD\\xeeA\\xeeG\\xeeA\\xeeD\\xeeG\\xeeI\\xeeG\\xeeG\\xeeH\\xeeB\\xeeJ\\xeeI\\xeeJ\\xeeK\\xeeG\\xeeG\\xeeJ\\xeeI\\xeeD\\xeeD\\xeeF\\xeeI\\xeeK\\xeeB\\xeeH\\xeeJ\\xeeF\\xeeO\\xeeE\\xeeD\\xeeF\\xeeF\\xeeA\\xeeD\\xeeF\\xee@\\xeeB\\xeeL\\xee?\\xeeH\\xeeH\\xeeE\\xeeA\\xeeN\\xeeH\\xeeJ\\xeeL\\xeeB\\xeeC\\xeeC\\xeeJ\\xeeB\\xeeG\\xeeA\\xeeI\\xeeF\\xeeF\\xeeB\\xeeK\\xeeE\\xeeG\\xeeN\\xeeD\\xeeG\\xeeE\\xeeC\\xeeH\\xeeI\\xeeH\\xee>\\xeeC\\xeeH\\xee@\\xeeH\\xeeA\\xeeD\\xeeH\\xeeH\\xeeC\\xeeH\\xeeE\\xee?\\xeeL\\xeeH\\xeeF\\xeeF\\xeeJ\\xee?\\xeeM\\xeeC\\xeeK\\xeeF\\xeeD\\xeeB\\xeeM\\xee@\\xee@\\xeeK\\xeeD\\xeeH\\xeeB\\xeeL\\xeeD\\xeeJ\\xeeH\\xeeD\\xeeF\\xeeG\\xeeF\\xeeM\\xeeE\\xee=\\xeeE\\xeeD\\xeeG\\xeeJ\\xee>\\xeeF\\xeeH\\xeeL\\xeeG\\xeeL\\xeeG\\xee@\\xeeF\\xeeE\\xeeC\\xee@\\xee@\\xeeB\\xeeI\\xeeB\\xeeA\\xeeH\\xeeE\\xeeF\\xeeJ\\xeeG\\xeeD\\xeeH\\xeeE\\xeeD\\xeeK\\xeeG\\xeeB\\xeeK\\xeeC\\xeeD\\xeeQ\\xeeJ\\xee?\\xeeJ\\xee?\\xeeB\\xeeM\\xeeJ\\xeeB\\xeeN\\xeeG\\xeeG\\xeeI\\xeeJ\\xeeD\\xeeL\\xeeD\\xeeH\\xeeF\\xeeD\\xeeA\\xeeF\\xeeL\\xee>\\xeeI\\xeeE\\xeeC\\xeeI\\xeeF\\xeeC\\xeeF\\xeeM\\xeeE\\xeeB\\xeeD\\xeeB\\xeeJ\\xeeC\\xeeC\\xeeM\\xeeD\\xeeA\\xeeI\\xeeC\\xeeF\\xeeE\\xeeK\\xee@\\xeeI\\xeeA\\xeeJ\\xeeM\\xeeB\\xeeB\\xeeJ\\xeeG\\xeeB\\xeeO\\xeeH\\xeeB\\xeeB\\xeeF\\xeeC\\xeeF\\xeeF\\xee=\\xeeM\\xeeE\\xee7\\xeeD\\xeeE\\xeeG\\xeeE\\xee@\\xeeE\\xeeE\\xeeD\\xeeI\\xeeN\\xee>\\xeeF\\xeeH\\xee@\\xeeF\\xeeK\\xeeC\\xeeF\\xeeI\\xee@\\xeeB\\xeeO\\xeeE\\xeeG\\xeeE\\xeeF\\xeeB\\xeeH\\xeeI\\xeeE\\xeeE\\xeeE\\xeeB\\xeeJ\\xeeF\\xeeD\\xeeJ\\xeeH\\xeeD\\xeeM\\xeeC\\xeeE\\xeeI\\xeeE\\xeeF\\xeeL\\xeeE\\xeeF\\xeeK\\xeeG\\xeeF\\xeeI\\xeeE\\xeeI\\xeeK\\xeeC\\xeeC\\xeeL\\xeeI\\xeeF\\xeeJ\\xeeD\\xeeA\\xeeM\\xee<\\xee>\\xeeJ\\xeeC\\xeeH\\xeeI\\xeeG\\xeeC\\xeeJ\\xeeL\\xeeC\\xeeL\\xeeH\\xee=\\xeeJ\\xeeD\\xeeC\\xeeC\\xeeH\\xeeC\\xeeI\\xeeD\\xee;\\xeeQ\\xeeD\\xeeA\\xeeK\\xeeB\\xeeH\\xeeK\\xeeG\\xeeA\\xeeN\\xeeM\\xeeB\\xeeK\\xeeB\\xeeJ\\xeeJ\\xee?\\xeeA\\xeeG\\xeeF\\xee?\\xeeF\\xeeI\\xeeE\\xeeD\\xeeH\\xeeB\\xeeE\\xeeB\\xeeF\\xeeG\\xee?\\xeeA\\xeeH\\xeeD\\xeeC\\xeeF\\xeeP\\xeeG\\xeeC\\xee>\\xee@\\xeeH\\xeeG\\xee=\\xeeL\\xeeG\\xeeC\\xeeE\\xeeE\\xee@\\xeeG\\xeeH\\xeeD\\xeeK\\xeeJ\\xee?\\xeeM\\xeeE\\xeeF\\xeeA\\xeeE\\xeeB\\xeeJ\\xeeH\\xeeE\\xeeH\\xee=\\xee@\\xeeM\\xeeI\\xeeF\\xeeH\\xeeJ\\xeeA\\xeeN\\xeeE\\xeeA\\xeeG\\xeeC\\xeeB\\xeeL\\xeeF\\xeeB\\xeeJ\\xeeJ\\xeeE\\xeeD\\xeeE\\xeeD\\xeeI\\xeeI\\xeeD\\xeeC\\xeeI\\xee?\\xeeD\\xeeF\\xeeG\\xeeI\\xeeD\\xeeH\\xeeF\\xeeI\\xeeD\\xeeD\\xeeI\\xee@\\xee@\\xeeD\\xee?\\xeeH\\xeeB\\xeeC\\xeeE\\xeeH\\xee?\\xeeK\\xeeC\\xeeF\\xeeI\\xeeF\\xeeE\\xeeF\\xeeA\\xeeA\\xeeD\\xeeJ\\xeeB\\xeeF\\xeeG\\xeeB\\xeeF\\xeeC\\xee<\\xeeG\\xeeK\\xee<\\xeeP\\xeeF\\xeeD\\xeeI\\xeeE\\xeeF\\xeeM\\xeeA\\xee@\\xeeB\\xeeD\\xeeH\\xeeI\\xeeF\\xeeF\\xee\\\\\\xeeZ\\xeem\\xee\\x97\\xee\\xdf\\xeeO\\xef\\xf4\\xef\\xe2\\xf0\\x1a\\xf2\\xcf\\xf3\\xce\\xf5\\xd0\\xf75\\xfa\\xca\\xfc\\t\\xff\\xff\\x00\\xd1\\x02^\\x04\\xda\\x05\\x03\\x07\\xf1\\x07\\xd5\\x08\\x93\\t-\\n\\xb0\\n\\x18\\x0bu\\x0b\\xcf\\x0b\\x1b\\x0cd\\x0c\\x93\\x0c\\xc7\\x0c\\xf5\\x0c\\x1a\\r=\\rS\\rn\\r\\x7f\\r\\x8f\\r\\xa5\\r\\xaa\\r\\xb2\\r\\xbf\\r\\xc4\\r\\xd3\\r\\xe1\\r\\xdb\\r\\xe0\\r\\xec\\r\\xe9\\r\\xee\\r\\xea\\r\\xeb\\r\\xf4\\r\\xf9\\r\\xfc\\r\\xfc\\r\\xfc\\r\\xfa\\r\\xfd\\r\\xfe\\r\\x00\\x0e\\xfc\\r\\x01\\x0e\\xf9\\r\\xf9\\r\\x01\\x0e\\xfd\\r\\xfb\\r\\x04\\x0e\\xff\\r\\x02\\x0e\\x00\\x0e\\x03\\x0e\\t\\x0e\\x03\\x0e\\x05\\x0e\\x06\\x0e\\x05\\x0e\\xff\\r\\x01\\x0e\\x05\\x0e\\xfe\\r\\xfd\\r\\x02\\x0e\\x01\\x0e\\x06\\x0e\\x03\\x0e\\xf9\\r\\xfb\\r\\xff\\r\\xfe\\r\\xfe\\r\\xfe\\r\\xf9\\r\\xfb\\r\\xfe\\r\\xf7\\r\\xf9\\r\\xf5\\r\\xef\\r\\xe0\\r\\xcb\\r\\x9c\\rR\\r\\xdb\\x0c\\x1f\\x0c\\x07\\x0b\\x90\\t\\xc5\\x07\\xba\\x05\\x9b\\x03L\\x01\\xf6\\xfe\\xaf\\xfc\\xa6\\xfa\\x89\\xf8\\x07\\xf7\\xae\\xf5\\x9a\\xf4\\xa6\\xf3\\xdc\\xf2\\x1c\\xf2\\x8e\\xf1'\\xf1\\xc2\\xf0u\\xf0+\\xf0\\xe9\\xef\\xae\\xef|\\xefJ\\xef.\\xef\\x0b\\xef\\xf0\\xee\\xd6\\xee\\xc1\\xee\\xac\\xee\\xa5\\xee\\x95\\xee\\x81\\xeex\\xeei\\xeel\\xeee\\xeeT\\xeeR\\xeeP\\xeeM\\xeeG\\xeeJ\\xeeA\\xeeC\\xee;\\xee>\\xee:\\xee=\\xee2\\xee-\\xee7\\xee7\\xee1\\xee6\\xee1\\xee4\\xee2\\xee6\\xee1\\xee7\\xee/\\xee3\\xee6\\xee2\\xee-\\xee2\\xee4\\xee-\\xee7\\xee0\\xee/\\xee4\\xee.\\xee/\\xee0\\xee4\\xee4\\xee9\\xee*\\xee4\\xee6\\xee/\\xee/\\xee7\\xee5\\xee/\\xee2\\xee8\\xee*\\xee8\\xee3\\xee4\\xee2\\xee5\\xee-\\xee8\\xee-\\xee5\\xee6\\xee3\\xee1\\xee<\\xee4\\xee4\\xee5\\xee4\\xee5\\xee6\\xee0\\xee6\\xee8\\xee9\\xee:\\xee>\\xee;\\xee9\\xee>\\xee7\\xee1\\xee5\\xee:\\xee3\\xee?\\xee5\\xee2\\xee>\\xee8\\xee<\\xee:\\xee1\\xee3\\xee8\\xee4\\xee,\\xee9\\xee4\\xee7\\xee:\\xee5\\xee5\\xee7\\xee5\\xee1\\xee>\\xee9\\xee6\\xee>\\xee6\\xee4\\xee:\\xee2\\xee8\\xee9\\xee<\\xee8\\xee=\\xee=\\xee4\\xeeE\\xee:\\xee>\\xee>\\xee7\\xee;\\xee9\\xee7\\xee5\\xee;\\xee9\\xee6\\xee<\\xee<\\xee8\\xee;\\xee7\\xee4\\xee;\\xee9\\xee8\\xee=\\xee;\\xee5\\xee9\\xee<\\xee9\\xee=\\xee5\\xee;\\xeeB\\xee<\\xee8\\xee>\\xee<\\xee>\\xee@\\xeeA\\xee7\\xee<\\xee;\\xee=\\xeeF\\xee<\\xee5\\xee@\\xee>\\xee=\\xeeC\\xee<\\xeeA\\xeeE\\xee;\\xee3\\xee;\\xeeE\\xee?\\xeeF\\xee:\\xee<\\xeeD\\xee@\\xee=\\xeeF\\xee@\\xee@\\xeeD\\xee?\\xee;\\xeeA\\xeeA\\xee<\\xee;\\xeeB\\xeeB\\xeeA\\xee>\\xee@\\xeeE\\xeeD\\xeeD\\xee@\\xeeA\\xee=\\xeeF\\xee6\\xeeB\\xee@\\xeeE\\xeeE\\xeeG\\xeeD\\xee?\\xeeD\\xee>\\xeeD\\xeeA\\xee6\\xee>\\xeeC\\xee?\\xee>\\xee>\\xee;\\xee=\\xeeM\\xeeB\\xee;\\xeeI\\xeeC\\xeeC\\xeeH\\xeeB\\xeeA\\xee?\\xee:\\xee7\\xeeB\\xee?\\xee>\\xee>\\xee@\\xeeC\\xeeH\\xeeD\\xee@\\xeeG\\xee@\\xeeA\\xeeF\\xeeA\\xee<\\xee@\\xee;\\xeeB\\xeeE\\xee;\\xeeF\\xeeF\\xee;\\xee?\\xeeF\\xeeL\\xee>\\xeeC\\xeeG\\xee:\\xeeG\\xeeE\\xeeD\\xeeH\\xeeK\\xee@\\xeeH\\xee;\\xeeE\\xeeG\\xeeD\\xeeC\\xeeG\\xee>\\xeeL\\xeeF\\xeeJ\\xeeD\\xeeG\\xeeE\\xeeB\\xeeF\\xeeB\\xee@\\xeeD\\xeeA\\xeeD\\xeeD\\xee@\\xeeH\\xeeD\\xee>\\xee>\\xeeF\\xeeC\\xee?\\xeeA\\xeeG\\xeeE\\xeeC\\xeeE\\xeeC\\xeeJ\\xeeI\\xeeB\\xee?\\xeeG\\xeeI\\xeeG\\xeeH\\xeeH\\xeeJ\\xeeG\\xeeE\\xeeJ\\xeeG\\xeeJ\\xeeN\\xeeC\\xeeF\\xeeI\\xee?\\xeeF\\xeeL\\xeeN\\xeeF\\xeeR\\xeeH\\xeeJ\\xeeJ\\xeeF\\xeeD\\xeeF\\xeeM\\xeeG\\xeeN\\xeeP\\xeeJ\\xeeN\\xeeM\\xeeJ\\xeeH\\xeeG\\xeeC\\xeeQ\\xeeM\\xeeE\\xeeN\\xeeL\\xee?\\xeeJ\\xeeD\\xeeE\\xeeJ\\xeeG\"\n"
     ]
    },
    {
     "data": {
      "text/plain": [
       "12152"
      ]
     },
     "execution_count": 65,
     "metadata": {},
     "output_type": "execute_result"
    }
   ],
   "source": [
    "sdata = string_data\n",
    "sdata\n",
    "print(sdata[2004])\n",
    "print(sdata)\n",
    "(47<<8) + 120\n"
   ]
  },
  {
   "cell_type": "code",
   "execution_count": 300,
   "metadata": {},
   "outputs": [
    {
     "data": {
      "text/plain": [
       "b'\\x87'"
      ]
     },
     "execution_count": 300,
     "metadata": {},
     "output_type": "execute_result"
    }
   ],
   "source": [
    "sd = sdata[0:1]\n",
    "sd"
   ]
  },
  {
   "cell_type": "code",
   "execution_count": 289,
   "metadata": {},
   "outputs": [
    {
     "data": {
      "image/png": "[encoded data removed]",
      "text/plain": [
       "<Figure size 432x288 with 1 Axes>"
      ]
     },
     "metadata": {
      "needs_background": "light"
     },
     "output_type": "display_data"
    },
    {
     "name": "stdout",
     "output_type": "stream",
     "text": [
      "2.816574321243171 1002\n"
     ]
    }
   ],
   "source": [
    "import matplotlib.pyplot as plt\n",
    "\n",
    "temp = []\n",
    "en = 0\n",
    "for i in range(int(len(sdata)/2)):# need test len\n",
    "    sd = sdata[2*i:2*i+2]\n",
    "    temp.append(int.from_bytes(sd, byteorder='little', signed=True)/65535*800e-3)\n",
    "    en += temp[i]**2\n",
    "plt.plot(temp[3:])\n",
    "plt.ylabel(\"Ampl, V\")\n",
    "plt.show()\n",
    "print(en, len(temp))\n",
    "\n"
   ]
  },
  {
   "cell_type": "code",
   "execution_count": 212,
   "metadata": {},
   "outputs": [
    {
     "name": "stdout",
     "output_type": "stream",
     "text": [
      "-112.90455481803616\n",
      "87.46471351186389\n"
     ]
    }
   ],
   "source": [
    "print(temp[200]/(65535)*800)\n",
    "print(temp[570]/(65535)*800)\n"
   ]
  },
  {
   "cell_type": "code",
   "execution_count": null,
   "metadata": {},
   "outputs": [],
   "source": []
  },
  {
   "cell_type": "code",
   "execution_count": 157,
   "metadata": {},
   "outputs": [
    {
     "data": {
      "text/plain": [
       "[<matplotlib.lines.Line2D at 0xaf32b00>]"
      ]
     },
     "execution_count": 157,
     "metadata": {},
     "output_type": "execute_result"
    },
    {
     "data": {
      "image/png": "[encoded data removed]",
      "text/plain": [
       "<Figure size 432x288 with 1 Axes>"
      ]
     },
     "metadata": {
      "needs_background": "light"
     },
     "output_type": "display_data"
    }
   ],
   "source": [
    "plotData = []\n",
    "for i in range(int(len(temp)/2)):\n",
    "    \n",
    "    plotData.append((temp[2*i]<<8) + temp[2*i+1])\n",
    "    \n",
    "plt.plot(plotData)\n",
    "    "
   ]
  },
  {
   "cell_type": "code",
   "execution_count": 152,
   "metadata": {},
   "outputs": [
    {
     "data": {
      "text/plain": [
       "2005"
      ]
     },
     "execution_count": 152,
     "metadata": {},
     "output_type": "execute_result"
    }
   ],
   "source": [
    "sd = sdata[2004:2005]\n",
    "sd\n",
    "len(sdata)"
   ]
  },
  {
   "cell_type": "code",
   "execution_count": 17,
   "metadata": {},
   "outputs": [],
   "source": [
    "import visa\n",
    "from pyvisa.resources import MessageBasedResource\n",
    "rm = visa.ResourceManager()\n",
    "scope = rm.open_resource('VICP::192.168.1.37::INSTR', resource_pyclass=MessageBasedResource)\n"
   ]
  },
  {
   "cell_type": "code",
   "execution_count": 60,
   "metadata": {},
   "outputs": [
    {
     "name": "stdout",
     "output_type": "stream",
     "text": [
      "*IDN LECROY,WR104XI,LCRY0611M19032,5.1.3\n",
      "\n"
     ]
    }
   ],
   "source": [
    "scope.write(\"BWL C1, 200MHz\")\n",
    "print(scope.query('*IDN?'))\n",
    "bdstring = scope.query(\"BWL?\")"
   ]
  },
  {
   "cell_type": "code",
   "execution_count": 59,
   "metadata": {},
   "outputs": [
    {
     "name": "stdout",
     "output_type": "stream",
     "text": [
      "BWL C1,OFF,C2,200MHZ,C3,ON,C4,ON\n",
      "\n",
      "['OFF', '200MHZ', 'ON', 'ON']\n",
      "CH2 has 200MHz LPF\n"
     ]
    }
   ],
   "source": [
    "import re\n",
    "print(bdstring)\n",
    "data = re.split(r'\\W+', bdstring)\n",
    "dt = []\n",
    "for i in range(4):\n",
    "    dt.append(data[2*i+2])\n",
    "print(dt)\n",
    "if dt[1] == '200MHZ':\n",
    "    print(\"CH2 has 200MHz LPF\")\n"
   ]
  },
  {
   "cell_type": "code",
   "execution_count": 64,
   "metadata": {},
   "outputs": [
    {
     "name": "stdout",
     "output_type": "stream",
     "text": [
      "correct\n"
     ]
    },
    {
     "data": {
      "text/plain": [
       "str"
      ]
     },
     "execution_count": 64,
     "metadata": {},
     "output_type": "execute_result"
    }
   ],
   "source": [
    "c = 20e6\n",
    "type(c)\n",
    "if type(c) is float or type(c) is int:\n",
    "    print(\"correct\")\n",
    "s = '200MHz'\n",
    "type(s)\n",
    "ch = 'c'\n",
    "type(ch)"
   ]
  },
  {
   "cell_type": "markdown",
   "metadata": {},
   "source": [
    "# _K2636B_"
   ]
  },
  {
   "cell_type": "code",
   "execution_count": 2,
   "metadata": {},
   "outputs": [],
   "source": [
    "from LQCE.K2636B import *\n",
    "csource = K2636B(\"TCPIP0::192.168.1.37::INSTR\")\n"
   ]
  },
  {
   "cell_type": "code",
   "execution_count": 35,
   "metadata": {},
   "outputs": [],
   "source": [
    "#csource._set_current_mode()\n",
    "csource._set_current_range(\"a\", crange = 1e-3)\n",
    "csource._set_current_level(\"a\", level = 10e-6)\n",
    "csource._set_output_state(\"a\",0)\n",
    "csource.close()"
   ]
  },
  {
   "cell_type": "code",
   "execution_count": 11,
   "metadata": {},
   "outputs": [],
   "source": [
    "import visa\n",
    "rm = visa.ResourceManager()\n",
    "rm.list_resources()\n",
    "inst = rm.open_resource('GPIB::12::INSTR')\n"
   ]
  },
  {
   "cell_type": "code",
   "execution_count": 14,
   "metadata": {},
   "outputs": [],
   "source": [
    "inst.write(\"SOUR:CURR 2e-5\")\n",
    "inst.write(\"SOUR:CURR:COMP 5\")\n",
    "inst.write(\"SOUR:CURR:RANG 2e-4\")\n",
    "inst.write(\"OUTP OFF\")\n",
    "inst.close()"
   ]
  }
 ],
 "metadata": {
  "kernelspec": {
   "display_name": "Python 3",
   "language": "python",
   "name": "python3"
  },
  "language_info": {
   "codemirror_mode": {
    "name": "ipython",
    "version": 3
   },
   "file_extension": ".py",
   "mimetype": "text/x-python",
   "name": "python",
   "nbconvert_exporter": "python",
   "pygments_lexer": "ipython3",
   "version": "3.7.1"
  }
 },
 "nbformat": 4,
 "nbformat_minor": 2
}
