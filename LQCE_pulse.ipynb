{
 "cells": [
  {
   "cell_type": "code",
   "execution_count": 292,
   "metadata": {},
   "outputs": [
    {
     "name": "stdout",
     "output_type": "stream",
     "text": [
      "Using matplotlib backend: Qt5Agg\n"
     ]
    }
   ],
   "source": [
    "import serial\n",
    "import plotly\n",
    "#import matplotlib as plt\n",
    "import sys\n",
    "import visa\n",
    "from LQCE.zvl13 import *\n",
    "from LQCE.ncs513 import *\n",
    "from LQCE.N5173B import *\n",
    "from LQCE.awg33500 import *\n",
    "import matplotlib.pyplot as plt\n",
    "import numpy as np\n",
    "import math\n",
    "import matplotlib.cm as cm\n",
    "from matplotlib.backends.backend_pdf import PdfPages\n",
    "import time\n",
    "import scipy.signal\n",
    "import scipy.optimize\n",
    "%matplotlib \n",
    "#%matplotlib inline\n"
   ]
  },
  {
   "cell_type": "markdown",
   "metadata": {},
   "source": [
    "# __AWG Init cell__\n",
    "## ch1 - pulse with offset\n",
    "## ch2 - dc offset\n",
    "## sync - trigger out for n5173b"
   ]
  },
  {
   "cell_type": "code",
   "execution_count": 286,
   "metadata": {},
   "outputs": [],
   "source": [
    "def awg_init_burst_mode():  \n",
    "    awg.set_modulation_source(\"INT\")\n",
    "    awg.set_waveform_type(1,\"PULSe\")\n",
    "    awg.set_waveform_type(2,\"DC\")\n",
    "    awg.set_voltage_offset(2, 0)\n",
    "    awg.set_voltage_offset(1, 0.05)\n",
    "    awg.set_pulse_width(1,1e-6)#set width 100ns\n",
    "    awg.set_pulse_period(1,1e-4)#set period 1ms\n",
    "    awg.set_pulse_both_edge(1, 20e-9)\n",
    "    awg.set_sync_source(\"CH1\")\n",
    "    awg.set_sync_mode(1, \"CARRier\")\n",
    "    awg.set_burst_state(1,\"ON\")\n",
    "    awg.set_burst_mode(1, \"TRIGgered\")\n",
    "    awg.set_burst_count(1, 10000)\n",
    "    awg.set_burst_trigger_source(1, \"BUS\")\n",
    "    awg.set_sync_output(\"ON\")\n",
    "    awg.set_output(1, \"ON\")\n",
    "    awg.set_output(2, \"ON\")\n",
    "def awg_init(mixer_calibration_result):  \n",
    "    awg.set_modulation_source(\"INT\")\n",
    "    awg.set_waveform_type(1,\"PULSe\")\n",
    "    awg.set_waveform_type(2,\"DC\")\n",
    "    awg.set_voltage_offset(2, mixer_calibration_result[1])\n",
    "    awg.set_voltage_offset(1, 0.05 + mixer_calibration_result[0])\n",
    "    awg.set_voltage(1,100e-3)\n",
    "    awg.set_pulse_width(1,1e-6)\n",
    "    awg.set_pulse_period(1,1e-4)\n",
    "    awg.set_pulse_both_edge(1, 20e-9)\n",
    "    awg.set_sync_source(\"CH1\")\n",
    "    awg.set_sync_mode(1, \"CARRier\")\n",
    "    awg.set_sync_output(\"ON\")\n",
    "    awg.set_output(1, \"ON\")\n",
    "    awg.set_output(2, \"ON\")\n",
    "def awg_base_init():  \n",
    "    awg.set_waveform_type(1,\"DC\")\n",
    "    awg.set_waveform_type(2,\"DC\")\n",
    "    awg.set_voltage_offset(1, 0)\n",
    "    awg.set_voltage_offset(2, 0)\n",
    "    awg.set_sync_output(\"OFF\")\n",
    "    awg.set_output(1, \"ON\")\n",
    "    awg.set_output(2, \"ON\")\n",
    "def awg_set_voltage_with_offset(value, offset):\n",
    "    awg.set_voltage_offset(1, offset[0] + value/2)\n",
    "    awg.set_voltage(1, value)\n",
    "def awg_set_delay(delay):\n",
    "    awg.set_phase_units(\"SEC\")\n",
    "    awg.write(\"SOURce1:PHASe {}\".format(-100e-9 - delay*1e-9))\n",
    "    \n",
    "#n5173b part    \n",
    "def gen_init_pulse_mode(freq, pulse_start_len):\n",
    "    gen.set_output_state(\"OFF\")\n",
    "    gen.set_frequency(freq)\n",
    "    gen.set_alc_state(\"OFF\")\n",
    "    gen.set_modulation_state(\"ON\")\n",
    "    gen.set_pulse_out_state(\"ON\")\n",
    "    gen.set_power(-5)\n",
    "    gen.set_trigger_source(\"EXTernal\")\n",
    "    gen.set_trigger_external_source(\"PULSe\")\n",
    "    gen.set_pulse_mode(\"PTRain\")\n",
    "    gen.set_pulse_train_ontime(pulse_start_len)\n",
    "    gen.set_pulse_train_offtime(20e-9)\n",
    "    gen.set_pulse_train_repetition(1)\n",
    "    gen.set_pulse_train_trigger(\"TRIGgered\")\n",
    "    gen.set_pulse_internal_step_delay(10e-9)\n",
    "    gen.set_pulse_internal_delay(0)\n",
    "    gen.set_output_state(\"ON\")\n",
    "\n",
    "    \n",
    "#mixer calibration part    \n",
    "def find_minimum(x):\n",
    "    awg.set_voltage_offset(2, x[1])\n",
    "    awg.set_voltage_offset(1, x[0])\n",
    "    time.sleep(0.1)\n",
    "    nwa.trig_meas()\n",
    "    temp_data = nwa.get_data(10)\n",
    "    data_averaged = np.average(temp_data[0],0)\n",
    "    #temp_slice = data_averaged[1]\n",
    "    return (data_averaged[1])\n",
    "\n",
    "def calibrate():\n",
    "    nwa.set_standard_config({\"power\": 0,\"nop\":2, \"cf_span\":[7.055e9, 2], \"bandwidth\":100, \"meas_counts\":10})\n",
    "    nwa.set_output_state(\"ON\")\n",
    "    awg_base_init()\n",
    "    #gen.set_output_state(\"OFF\")  \n",
    "    awg.set_output(1, \"ON\")\n",
    "    awg.set_output(2, \"ON\") \n",
    "    \n",
    "    calibrate_res = scipy.optimize.minimize(find_minimum,(0.00,-0.00), method='Nelder-Mead', options = {\"maxiter\": 50, 'xtol': 1e-2, 'disp': True}, bounds = ((-0.1,0.1), (-0.1,0.1)))\n",
    "    print(calibrate_res)\n",
    "    return (calibrate_res.x, calibrate_res.fun)    \n",
    "    "
   ]
  },
  {
   "cell_type": "markdown",
   "metadata": {},
   "source": [
    "# __INIT__"
   ]
  },
  {
   "cell_type": "code",
   "execution_count": 170,
   "metadata": {},
   "outputs": [],
   "source": [
    "nwa = zvl13(\"TCPIP0::192.168.1.51::INSTR\")\n",
    "awg = awg33500(\"TCPIP0::192.168.1.50::INSTR\")\n",
    "gen = N5173B_gen(\"TCPIP0::192.168.1.34::INSTR\")\n",
    "#ncs = Nsk_current_source(\"COM5\")\n",
    "#ncs.enable_channel(3)\n",
    "#ncs.set_output_state(3,1)\n",
    "#ncs.set_range(3,\"1mA\")\n",
    "#ncs.set_current(3,105e-6)"
   ]
  },
  {
   "cell_type": "code",
   "execution_count": 181,
   "metadata": {},
   "outputs": [],
   "source": [
    "gen.set_pulse_train_ontime(100e-9)\n",
    "gen.set_power(-5)\n",
    "gen.set_output_state(\"ON\")\n",
    "awg_set_delay(100)"
   ]
  },
  {
   "cell_type": "code",
   "execution_count": 124,
   "metadata": {},
   "outputs": [
    {
     "data": {
      "text/plain": [
       "[<matplotlib.lines.Line2D at 0x102c86a0>]"
      ]
     },
     "execution_count": 124,
     "metadata": {},
     "output_type": "execute_result"
    },
    {
     "data": {
      "image/png": "[encoded data removed]",
      "text/plain": [
       "<Figure size 432x288 with 1 Axes>"
      ]
     },
     "metadata": {
      "needs_background": "light"
     },
     "output_type": "display_data"
    }
   ],
   "source": [
    "awg_init(cal_result[0])\n",
    "nwa.set_standard_config({\"power\":0,\"nop\":2, \"cf_span\":[7.055e9, 2], \"bandwidth\":100, \"meas_counts\":10})\n",
    "dt_sin = []\n",
    "for i in range(10):\n",
    "    awg_set_voltage_with_offset((i+1)*10e-3, cal_result[0])\n",
    "    time.sleep(0.1)\n",
    "    nwa.trig_meas()\n",
    "    temp_data = nwa.get_data(10)\n",
    "    data_sin = np.average(temp_data[0],0)\n",
    "    dt_sin.append(data_sin[0])\n",
    "plt.plot(dt_sin)"
   ]
  },
  {
   "cell_type": "markdown",
   "metadata": {},
   "source": [
    "# __Mixer Calibration__"
   ]
  },
  {
   "cell_type": "code",
   "execution_count": 123,
   "metadata": {},
   "outputs": [
    {
     "name": "stdout",
     "output_type": "stream",
     "text": [
      "Warning: Maximum number of iterations has been exceeded.\n",
      "(array([ 0.10434525, -0.02172289]), -85.39530067811566)\n"
     ]
    }
   ],
   "source": [
    "cal_result = calibrate()"
   ]
  },
  {
   "cell_type": "markdown",
   "metadata": {},
   "source": [
    "# __Decay__"
   ]
  },
  {
   "cell_type": "code",
   "execution_count": 314,
   "metadata": {},
   "outputs": [],
   "source": [
    "# |DP\\__delay(loop)__|RO|\n",
    "awg_init(cal_result[0])\n",
    "gen_init_pulse_mode(100e6, 20e-9)#at this moment gen wait a trigger to start pulse\n",
    "awg_set_delay(20)#in ns| for ex. (100) = 100ns (with offset 100ns = 200ns)\n",
    "nwa.set_standard_config({\"power\":0,\"nop\":2, \"cf_span\":[7.055e9, 2], \"bandwidth\":10, \"meas_counts\":1})\n",
    "\n",
    "decay_step = 4\n",
    "\n",
    "decay_data_result = []\n",
    "decay_x_axis = []\n",
    "plt.ion()\n",
    "fig = plt.figure()\n",
    "\n",
    "for i in range(11):\n",
    "    awg_set_delay(20 + i*decay_step)\n",
    "    time.sleep(0.5)\n",
    "    nwa.trig_meas()\n",
    "    temp_data = nwa.get_data(1)\n",
    "    temp_dB = temp_data[0][0]\n",
    "    decay_data_result.append(temp_dB[1])\n",
    "    decay_x_axis.append(20 + i*decay_step)\n",
    "    plt.ylabel(\"dB\")\n",
    "    plt.xlabel(\"delay, ns\")\n",
    "    plt.title(\"Decay\")\n",
    "    plt.plot(decay_x_axis, decay_data_result, 'ro')\n",
    "    \n",
    "    fig.canvas.draw()\n",
    "    fig.canvas.flush_events()\n"
   ]
  },
  {
   "cell_type": "code",
   "execution_count": 327,
   "metadata": {},
   "outputs": [],
   "source": [
    "gen.close()\n",
    "nwa.close()\n",
    "awg.close()"
   ]
  },
  {
   "cell_type": "markdown",
   "metadata": {},
   "source": [
    "# __Rabi__\n",
    "### _DP(in loop)__delay(fixed)__RO(fixed)_"
   ]
  },
  {
   "cell_type": "code",
   "execution_count": 326,
   "metadata": {},
   "outputs": [],
   "source": [
    "awg_init(cal_result[0])\n",
    "gen_init_pulse_mode(200e6, 20e-9)#at this moment gen wait a trigger to start pulse\n",
    "awg_set_delay(20)#in ns| for ex. (100) = 100ns (with offset 100ns = 200ns)\n",
    "nwa.set_standard_config({\"power\":0,\"nop\":2, \"cf_span\":[7.055e9, 2], \"bandwidth\":10, \"meas_counts\":1})\n",
    "\n",
    "rabi_step = 4\n",
    "\n",
    "decay_data_result = []\n",
    "decay_x_axis = []\n",
    "plt.ion()\n",
    "fig = plt.figure()\n",
    "\n",
    "for i in range(11):\n",
    "    awg.set_sync_output(\"OFF\")\n",
    "    gen.set_output_state(\"OFF\")\n",
    "    time.sleep(1)\n",
    "    gen.set_pulse_train_ontime(20e-9 + i*20e-9)\n",
    "    awg_set_delay(20 + i*rabi_step)\n",
    "    awg.set_sync_output(\"ON\")\n",
    "    gen.set_output_state(\"ON\")\n",
    "    time.sleep(1)\n",
    "    nwa.trig_meas()\n",
    "    temp_data = nwa.get_data(1)\n",
    "    temp_dB = temp_data[0][0]\n",
    "    decay_data_result.append(temp_dB[1])\n",
    "    decay_x_axis.append(20 + i*decay_step)\n",
    "    plt.ylabel(\"dB\")\n",
    "    plt.xlabel(\"dt width, ns\")\n",
    "    plt.title(\"Rabi\")\n",
    "    plt.plot(decay_x_axis, decay_data_result, 'ro')\n",
    "    \n",
    "    fig.canvas.draw()\n",
    "    fig.canvas.flush_events()\n"
   ]
  },
  {
   "cell_type": "code",
   "execution_count": 343,
   "metadata": {},
   "outputs": [
    {
     "name": "stdout",
     "output_type": "stream",
     "text": [
      "2.0e-08\n",
      "4.0e-08\n",
      "6.0e-08\n",
      "8.0e-08\n",
      "1.0e-07\n",
      "1.2e-07\n",
      "1.4e-07\n",
      "1.6e-07\n",
      "1.8e-07\n",
      "2.0e-07\n",
      "2.2e-07\n"
     ]
    }
   ],
   "source": [
    "for i in range(11):\n",
    "    #print(20e-9 + i*20e-9)\n",
    "    #print(format(20e-9 + i*20e-9, \"5.3f\"))\n",
    "    print(\"{:.1e}\".format(20e-9 + i*20e-9))"
   ]
  },
  {
   "cell_type": "markdown",
   "metadata": {},
   "source": [
    "# __FIT SIN(F * x) * exp(decay)__"
   ]
  },
  {
   "cell_type": "code",
   "execution_count": 285,
   "metadata": {},
   "outputs": [
    {
     "name": "stdout",
     "output_type": "stream",
     "text": [
      "[5.08334067 5.00065798]\n"
     ]
    },
    {
     "data": {
      "text/plain": [
       "[<matplotlib.lines.Line2D at 0x15035278>]"
      ]
     },
     "execution_count": 285,
     "metadata": {},
     "output_type": "execute_result"
    },
    {
     "data": {
      "image/png": "[encoded data removed]",
      "text/plain": [
       "<Figure size 432x288 with 1 Axes>"
      ]
     },
     "metadata": {
      "needs_background": "light"
     },
     "output_type": "display_data"
    }
   ],
   "source": [
    "\n",
    "def fit_func(xi, ai, bi):\n",
    "    return ai*np.sin(bi * xi)\n",
    "def fit_decay_rabi(xi, ai, bi, decay):\n",
    "    return ai*np.sin(bi * xi)*np.exp(decay)\n",
    "\n",
    "x = np.linspace(0, 10*np.pi, 1000)\n",
    "\n",
    "ydata = 5*np.sin(5*x) + np.random.normal(size=1000)    \n",
    "xdata = np.linspace(0, 10*np.pi, 1000)   \n",
    "\n",
    "params, params_covariance  = scipy.optimize.curve_fit(fit_func, xdata, ydata, p0 = [5, 5])\n",
    "\n",
    "print(params)\n",
    "\n",
    "plt.plot(fit_func(xdata, params[0], params[1]))\n",
    "plt.plot(ydata)\n"
   ]
  },
  {
   "cell_type": "code",
   "execution_count": null,
   "metadata": {},
   "outputs": [],
   "source": [
    "nwa.set_output_state(\"ON\")\n",
    "nwa.set_standard_config({\"power\":-50,\"nop\":101,\"averages\": 1, \"cf_span\":[2.5e9, 2e9], \"bandwidth\":10, \"meas_counts\":1})\n",
    "\n",
    "ncs.enable_channel(1)\n",
    "ncs.set_output_state(1,1)\n",
    "ncs.set_range(1,\"10mA\")\n",
    "ncs.set_current(1,0)\n",
    "nwa.set_timeout(200000)\n",
    "\n",
    "\n",
    "plt.ion()\n",
    "\n",
    "fig = plt.figure()\n",
    "z_upd = []\n",
    "\n",
    "for i in range(10):\n",
    "    ncs.set_current(1,i*1e-4)\n",
    "    nwa.trig_meas()\n",
    "    x_axis = nwa.get_X_axis_values()   \n",
    "    data = nwa.get_data(int(nwa.get_meas_counts()))\n",
    "    x_upd = x_axis#[]\n",
    "    y_upd = []\n",
    "    nx = 101#x_upd.shape[0]\n",
    "    no_labels = 5\n",
    "    step_x = int(nx/(no_labels -1))\n",
    "    x_positions = np.arange(0,nx,step_x)\n",
    "    x_labels = x_upd[::step_x]\n",
    "    plt.yticks(x_positions, x_labels)\n",
    "    \n",
    "    z_upd.append(data[0][0])\n",
    "    y_upd.append(i)\n",
    "    plt.imshow(np.transpose(z_upd),interpolation='nearest', aspect='auto', cmap=cm.seismic, origin = 'lower')\n",
    "    #nwa.set_timeout(1000)\n",
    "    #plt.plot(x_axis, np.average(data[0],0))\n",
    "    #line1.set_ydata(data[0][i][50])\n",
    "    fig.canvas.draw()\n",
    "    fig.canvas.flush_events()\n"
   ]
  },
  {
   "cell_type": "code",
   "execution_count": 11,
   "metadata": {},
   "outputs": [
    {
     "data": {
      "text/plain": [
       "<matplotlib.colorbar.Colorbar at 0xeb0b208>"
      ]
     },
     "execution_count": 11,
     "metadata": {},
     "output_type": "execute_result"
    }
   ],
   "source": [
    "from __future__ import division\n",
    "from matplotlib.patches import Patch\n",
    "from pylab import *\n",
    "\n",
    "\n",
    "y = np.linspace(0,1e-3,5)\n",
    "x = x_axis\n",
    "X,Y = meshgrid(y, x)\n",
    "\n",
    "\n",
    "Z = np.transpose(np.array(act_data))\n",
    "\n",
    "pcolor(X, Y, Z, cmap=cm.RdBu, vmax=abs(Z).max(), vmin=-abs(Z).max())\n",
    "colorbar()\n",
    "#axis([-3,3,-3,3])\n",
    "\n",
    "plt.ion()\n",
    "\n",
    "    fig.canvas.draw()\n",
    "    fig.canvas.flush_events()\n",
    "\n"
   ]
  },
  {
   "cell_type": "code",
   "execution_count": 74,
   "metadata": {},
   "outputs": [
    {
     "data": {
      "text/plain": [
       "<matplotlib.collections.QuadMesh at 0xfe82ba8>"
      ]
     },
     "execution_count": 74,
     "metadata": {},
     "output_type": "execute_result"
    }
   ],
   "source": [
    "import matplotlib.animation as animation\n",
    "\n",
    "\n",
    "fig2 = plt.figure()\n",
    "x = x_axis\n",
    "y = [np.arange(3)]\n",
    "base = np.array(act_data[0:3])\n",
    "X,Y = meshgrid(x, y)\n",
    "ims = []\n",
    "plt.pcolormesh(X, Y, base)\n",
    "\n",
    "\n"
   ]
  },
  {
   "cell_type": "code",
   "execution_count": 4,
   "metadata": {},
   "outputs": [],
   "source": [
    "x = np.arange(100)\n",
    "y = np.arange(100)\n",
    "temp = [[0]*len(x)]*len(y)\n",
    "nrows, ncols = 100, 100\n",
    "grid = temp #.reshape((nrows, ncols))\n",
    "\n",
    "for i in range(len(x)):\n",
    "    temp[i] = np.random.rand(100)\n",
    "fig = plt.figure()\n",
    "plt.imshow(grid, extent=(x.min(), x.max(), y.max(), y.min()),\n",
    "           interpolation='nearest', aspect='equal', cmap=cm.jet)\n",
    "plt.colorbar()\n",
    "\n",
    "plt.ion()\n",
    "x_upd = []\n",
    "y_upd = np.array([])\n",
    "z_upd = []\n",
    "\n",
    "for i in range(10):    \n",
    "    time.sleep(1)\n",
    "    #z_upd.append([1,2,3,4])\n",
    "    z_upd.append(np.random.rand(4))\n",
    "    plt.imshow(np.transpose(z_upd),interpolation='nearest', aspect='auto', cmap=cm.RdBu)\n",
    "    \n",
    "    fig.canvas.draw()\n",
    "    fig.canvas.flush_events()    \n",
    "\n"
   ]
  },
  {
   "cell_type": "code",
   "execution_count": 2,
   "metadata": {
    "collapsed": true
   },
   "outputs": [],
   "source": [
    "def serial_ports():\n",
    "    \"\"\" Lists serial port names\n",
    "\n",
    "        :raises EnvironmentError:\n",
    "            On unsupported or unknown platforms\n",
    "        :returns:\n",
    "            A list of the serial ports available on the system\n",
    "    \"\"\"\n",
    "    if sys.platform.startswith('win'):\n",
    "        ports = ['COM%s' % (i + 1) for i in range(256)]\n",
    "    elif sys.platform.startswith('linux') or sys.platform.startswith('cygwin'):\n",
    "        # this excludes your current terminal \"/dev/tty\"\n",
    "        ports = glob.glob('/dev/tty[A-Za-z]*')\n",
    "    elif sys.platform.startswith('darwin'):\n",
    "        ports = glob.glob('/dev/tty.*')\n",
    "    else:\n",
    "        raise EnvironmentError('Unsupported platform')\n",
    "\n",
    "    result = []\n",
    "    for port in ports:\n",
    "        try:\n",
    "            s = serial.Serial(port)\n",
    "            s.close()\n",
    "            result.append(port)\n",
    "        except (OSError, serial.SerialException):\n",
    "            pass\n",
    "    return result\n",
    "\n",
    "\n",
    "data_averaged = np.average(data,0)\n",
    "peak_data = scipy.signal.find_peaks(data_averaged, height=4, distance=100)\n",
    "print(peak_data[0])\n",
    "print(x_axis[peak_data[0][0]])#,x_axis[peak_data[0][1]],x_axis[peak_data[0][2]], x_axis[peak_data[0][3]],x_axis[peak_data[0][4]],x_axis[peak_data[0][5]])\n"
   ]
  }
 ],
 "metadata": {
  "kernelspec": {
   "display_name": "Python 3",
   "language": "python",
   "name": "python3"
  },
  "language_info": {
   "codemirror_mode": {
    "name": "ipython",
    "version": 3
   },
   "file_extension": ".py",
   "mimetype": "text/x-python",
   "name": "python",
   "nbconvert_exporter": "python",
   "pygments_lexer": "ipython3",
   "version": "3.7.1"
  }
 },
 "nbformat": 4,
 "nbformat_minor": 2
}
