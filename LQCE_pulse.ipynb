{
 "cells": [
  {
   "cell_type": "code",
   "execution_count": 362,
   "metadata": {},
   "outputs": [
    {
     "name": "stdout",
     "output_type": "stream",
     "text": [
      "Using matplotlib backend: Qt5Agg\n"
     ]
    }
   ],
   "source": [
    "import serial\n",
    "\n",
    "#import matplotlib as plt\n",
    "import sys\n",
    "import visa\n",
    "from LQCE.zvl13 import *\n",
    "from LQCE.ncs513 import *\n",
    "from LQCE.N5173B import *\n",
    "from LQCE.awg33500 import *\n",
    "import matplotlib.pyplot as plt\n",
    "import numpy as np\n",
    "import math\n",
    "import matplotlib.cm as cm\n",
    "from matplotlib.backends.backend_pdf import PdfPages\n",
    "import time\n",
    "import scipy.signal\n",
    "import scipy.optimize\n",
    "%matplotlib \n",
    "#%matplotlib inline\n"
   ]
  },
  {
   "cell_type": "markdown",
   "metadata": {},
   "source": [
    "# __AWG Init cell__\n",
    "## ch1 - pulse with offset\n",
    "## ch2 - dc offset\n",
    "## sync - trigger out for n5173b"
   ]
  },
  {
   "cell_type": "code",
   "execution_count": 699,
   "metadata": {},
   "outputs": [],
   "source": [
    "def awg_init_burst_mode():  \n",
    "    awg.set_modulation_source(\"INT\")\n",
    "    awg.set_waveform_type(1,\"PULSe\")\n",
    "    awg.set_waveform_type(2,\"DC\")\n",
    "    awg.set_voltage_offset(2, 0)\n",
    "    awg.set_voltage_offset(1, 0.05)\n",
    "    awg.set_pulse_width(1,1e-6)#set width 100ns\n",
    "    awg.set_pulse_period(1,1e-4)#set period 1ms\n",
    "    awg.set_pulse_both_edge(1, 20e-9)\n",
    "    awg.set_sync_source(\"CH1\")\n",
    "    awg.set_sync_mode(1, \"CARRier\")\n",
    "    awg.set_burst_state(1,\"ON\")\n",
    "    awg.set_burst_mode(1, \"TRIGgered\")\n",
    "    awg.set_burst_count(1, 10000)\n",
    "    awg.set_burst_trigger_source(1, \"BUS\")\n",
    "    awg.set_sync_output(\"ON\")\n",
    "    awg.set_output(1, \"ON\")\n",
    "    awg.set_output(2, \"ON\")\n",
    "def awg_init(mixer_calibration_result):  \n",
    "    awg.set_modulation_source(\"INT\")\n",
    "    awg.set_waveform_type(1,\"PULSe\")\n",
    "    awg.set_waveform_type(2,\"DC\")\n",
    "    awg.set_voltage_offset(2, mixer_calibration_result[1])\n",
    "    awg.set_voltage_offset(1, 0.05 + mixer_calibration_result[0])\n",
    "    awg.set_pulse_period(1,13e-6)\n",
    "    awg.set_voltage(1,100e-3)\n",
    "    awg.set_pulse_width(1,9e-6)\n",
    "    awg.set_pulse_period(1,13e-6)\n",
    "    awg.set_pulse_both_edge(1, 20e-9)\n",
    "    awg.set_sync_source(\"CH1\")\n",
    "    awg.set_sync_mode(1, \"CARRier\")\n",
    "    awg.set_sync_output(\"ON\")\n",
    "    awg.set_output(1, \"ON\")\n",
    "    awg.set_output(2, \"ON\")\n",
    "def awg_init_custom(mixer_calibration_result, readout_width, period):  \n",
    "    awg.set_modulation_source(\"INT\")\n",
    "    awg.set_waveform_type(1,\"PULSe\")\n",
    "    awg.set_waveform_type(2,\"DC\")\n",
    "    awg.set_voltage_offset(2, mixer_calibration_result[1])\n",
    "    awg.set_voltage_offset(1, 0.05 + mixer_calibration_result[0])\n",
    "    awg.set_voltage(1,100e-3)\n",
    "    awg.set_pulse_period(1,period)\n",
    "    awg.set_pulse_width(1,readout_width)\n",
    "    awg.set_pulse_period(1,period)\n",
    "    awg.set_pulse_both_edge(1, 20e-9)\n",
    "    awg.set_sync_source(\"CH1\")\n",
    "    awg.set_sync_mode(1, \"CARRier\")\n",
    "    awg.set_sync_output(\"ON\")\n",
    "    awg.set_output(1, \"ON\")\n",
    "    awg.set_output(2, \"ON\")\n",
    "def awg_init_custom_2ch(mixer_calibration_result, readout_width, period):  \n",
    "    awg.set_modulation_source(\"INT\")\n",
    "    awg.set_waveform_type(1,\"PULSe\")\n",
    "    awg.set_waveform_type(2,\"PULSe\")\n",
    "    awg.set_voltage_offset(2, 0.05 + mixer_calibration_result[1])\n",
    "    awg.set_voltage_offset(1, 0.05 + mixer_calibration_result[0])\n",
    "    awg.set_voltage(2,100e-3)\n",
    "    awg.set_voltage(1,100e-3)\n",
    "    \n",
    "    awg.set_pulse_period(1,period)\n",
    "    awg.set_pulse_width(1,readout_width)\n",
    "    awg.set_pulse_period(1,period)\n",
    "    awg.set_pulse_both_edge(1, 20e-9)\n",
    "    \n",
    "    awg.set_pulse_period(2,period)\n",
    "    awg.set_pulse_width(2,readout_width)\n",
    "    awg.set_pulse_period(2,period)\n",
    "    awg.set_pulse_both_edge(2, 20e-9)  \n",
    "    \n",
    "    awg.set_sync_source(\"CH1\")\n",
    "    awg.set_sync_mode(1, \"CARRier\")\n",
    "    awg.set_sync_output(\"ON\")\n",
    "    awg.set_output(1, \"ON\")\n",
    "    awg.set_output(2, \"ON\") \n",
    "    \n",
    "def awg_base_init():  \n",
    "    awg.set_waveform_type(1,\"DC\")\n",
    "    awg.set_waveform_type(2,\"DC\")\n",
    "    awg.set_voltage_offset(1, 0)\n",
    "    awg.set_voltage_offset(2, 0)\n",
    "    awg.set_sync_output(\"OFF\")\n",
    "    awg.set_output(1, \"ON\")\n",
    "    awg.set_output(2, \"ON\")\n",
    "def awg_set_voltage_with_offset(value, offset):\n",
    "    awg.set_voltage_offset(1, offset[0] + value/2)\n",
    "    awg.set_voltage(1, value)\n",
    "def awg_set_delay(delay):\n",
    "    awg.set_phase_units(\"SEC\")\n",
    "    awg.write(\"SOURce1:PHASe {}\".format(-100e-9 - delay*1e-9))\n",
    "    \n",
    "#n5173b part    \n",
    "def gen_init_pulse_mode(freq, pulse_start_len):\n",
    "    gen.set_output_state(\"OFF\")\n",
    "    gen.set_frequency(freq)\n",
    "    gen.set_alc_state(\"OFF\")\n",
    "    gen.set_modulation_state(\"ON\")\n",
    "    gen.set_pulse_out_state(\"ON\")\n",
    "    gen.set_power(-5)\n",
    "    gen.set_trigger_source(\"EXTernal\")\n",
    "    gen.set_trigger_external_source(\"PULSe\")\n",
    "    gen.set_pulse_mode(\"PTRain\")\n",
    "    gen.set_pulse_train_ontime(pulse_start_len)\n",
    "    gen.set_pulse_train_offtime(20e-9)\n",
    "    gen.set_pulse_train_repetition(1)\n",
    "    gen.set_pulse_train_trigger(\"TRIGgered\")\n",
    "    gen.set_pulse_internal_step_delay(10e-9)\n",
    "    gen.set_pulse_internal_delay(0)\n",
    "    gen.set_output_state(\"ON\")\n",
    "def gen_init_ramsey_mode(freq, pulse_start_len, delay = 10e-9):\n",
    "    gen.set_output_state(\"OFF\")\n",
    "    gen.set_frequency(freq)\n",
    "    gen.set_alc_state(\"OFF\")\n",
    "    gen.set_modulation_state(\"ON\")\n",
    "    gen.set_pulse_out_state(\"ON\")\n",
    "    gen.set_power(-15)\n",
    "    gen.set_trigger_source(\"EXTernal\")\n",
    "    gen.set_trigger_external_source(\"PULSe\")\n",
    "    gen.set_pulse_mode(\"PTRain\")\n",
    "    #gen.set_pulse_train_ontime(pulse_start_len)\n",
    "    #gen.set_pulse_train_offtime(20e-9 + delay, 20e-9)\n",
    "    #gen.set_pulse_train_repetition(1)\n",
    "    gen.write(\":PULM:INTernal:TRAin:ONTime {},{}\".format(pulse_start_len, pulse_start_len)) #:PULM:INTernal:TRAin:ONTime <value>,<value>\n",
    "    gen.write(\":PULM:INTernal:TRAin:OFFTime {},{}\".format(10e-9 + delay, 20e-9)) #:PULM:INTernal:TRAin:OFFTime <value>,<value>\n",
    "    gen.write(\":PULM:INTernal:TRAin:REPetition {},{}\".format(1,1)) #:PULM:INTernal:TRAin:REPetition <value>,<value>\n",
    "    gen.set_pulse_train_trigger(\"TRIGgered\")\n",
    "    gen.set_pulse_internal_step_delay(10e-9)\n",
    "    gen.set_pulse_internal_delay(0)\n",
    "    gen.set_output_state(\"ON\")\n",
    "\n",
    "  \n",
    "    \n",
    "#mixer calibration part    \n",
    "def find_minimum(x):\n",
    "    awg.set_voltage_offset(2, x[1])\n",
    "    awg.set_voltage_offset(1, x[0])\n",
    "    time.sleep(0.1)\n",
    "    nwa.trig_meas()\n",
    "    temp_data = nwa.get_data(3)\n",
    "    data_averaged = np.average(temp_data[0],0)\n",
    "    #temp_slice = data_averaged[1]\n",
    "    return (data_averaged[1])\n",
    "\n",
    "def calibrate(power, freq):\n",
    "    nwa.set_standard_config({\"power\": power,\"nop\":2, \"cf_span\":[freq, 2], \"bandwidth\":10, \"meas_counts\":10})\n",
    "    nwa.set_output_state(\"ON\")\n",
    "    awg_base_init()\n",
    "    #gen.set_output_state(\"OFF\")  \n",
    "    awg.set_output(1, \"ON\")\n",
    "    awg.set_output(2, \"ON\") \n",
    "    \n",
    "    calibrate_res = scipy.optimize.minimize(find_minimum,(0.05,-0.05), method='Nelder-Mead', options = {\"maxiter\": 50, 'xtol': 1e-2, 'disp': True}, bounds = ((-0.1,0.1), (-0.1,0.1)))\n",
    "    print(calibrate_res)\n",
    "    return (calibrate_res.x, calibrate_res.fun) \n",
    "\n",
    "def get_data_reim(data_frames_count):\n",
    "    curves = [0]*data_frames_count\n",
    "    out_data = []\n",
    "    out_phase = []\n",
    "    out_re = []\n",
    "    out_im = []\n",
    "    for i in range(data_frames_count):\n",
    "        curves[i] = nwa.query(\"CALCulate1:DATA:NSWeep? SDATa, {}\".format(i+1))\n",
    "        np_d = np.fromstring(curves[i], sep = ',')\n",
    "        temp_data = []*int(len(np_d)/2)\n",
    "        temp_phase = []*int(len(np_d)/2)\n",
    "        temp_re = []*int(len(np_d)/2)\n",
    "        temp_im = []*int(len(np_d)/2)\n",
    "        for j in range(int(len(np_d)/2)):\n",
    "            temp_data.append(20*math.log(math.sqrt(np_d[2*j]**2+np_d[2*j+1]**2),10))\n",
    "            temp_phase.append(math.atan2(np_d[2*j+1],np_d[2*j]))\n",
    "            temp_re.append(np_d[2*j])\n",
    "            temp_im.append(np_d[2*j+1])\n",
    "        out_re.append(temp_re)\n",
    "        out_im.append(temp_im)\n",
    "    return (out_re, out_im)    "
   ]
  },
  {
   "cell_type": "markdown",
   "metadata": {},
   "source": [
    "# __INIT__"
   ]
  },
  {
   "cell_type": "code",
   "execution_count": 677,
   "metadata": {},
   "outputs": [
    {
     "data": {
      "text/plain": [
       "b'\\xc1\\xe3\\xcd\\xaf\\xe68\\xef\\xef\\xef:'"
      ]
     },
     "execution_count": 677,
     "metadata": {},
     "output_type": "execute_result"
    }
   ],
   "source": [
    "nwa = zvl13(\"TCPIP0::192.168.0.73::INSTR\")\n",
    "awg = awg33500(\"TCPIP0::192.168.0.80::INSTR\")\n",
    "gen = N5173B_gen(\"TCPIP0::192.168.0.78::INSTR\")\n",
    "ncs = Nsk_current_source(\"COM5\")\n",
    "ncs.enable_channel(3)\n",
    "ncs.set_output_state(3,1)\n",
    "ncs.set_range(3,\"1mA\")\n",
    "ncs.set_current(3,110e-6)"
   ]
  },
  {
   "cell_type": "code",
   "execution_count": 68,
   "metadata": {},
   "outputs": [],
   "source": [
    "#gen.set_pulse_train_ontime(100e-9)\n",
    "gen.set_power(-10)\n",
    "#gen.set_output_state(\"ON\")\n",
    "#awg_set_delay(100)"
   ]
  },
  {
   "cell_type": "code",
   "execution_count": 124,
   "metadata": {},
   "outputs": [],
   "source": [
    "gen.set_output_state(\"OFF\")\n",
    "nwa.set_output_state(\"ON\")\n",
    "awg_init(cal_result[0])\n",
    "nwa.set_standard_config({\"power\":-20,\"nop\":2, \"cf_span\":[7.055111e9, 2], \"bandwidth\":10, \"meas_counts\":40})\n",
    "nwa.set_timeout(500000)\n",
    "dt_sin = []\n",
    "plt.ion()\n",
    "fig = plt.figure()\n",
    "\n",
    "pd_counts = 5\n",
    "\n",
    "for i in range(pd_counts):\n",
    "    awg_set_voltage_with_offset((i+1)*20e-3, cal_result[0])\n",
    "    time.sleep(0.1)\n",
    "    nwa.trig_meas()\n",
    "    temp_data = nwa.get_data(40)\n",
    "    data_sin = np.average(temp_data[0],0)\n",
    "    dt_sin.append(data_sin[0])\n",
    "    plt.title(\"{}/{}counts\".format(i+1, pd_counts))\n",
    "    plt.plot(dt_sin)\n",
    "    plt.grid()\n",
    "    fig.canvas.draw()\n",
    "    fig.canvas.flush_events()\n"
   ]
  },
  {
   "cell_type": "code",
   "execution_count": 655,
   "metadata": {},
   "outputs": [],
   "source": [
    "\n",
    "awg_init(cal_result[0])"
   ]
  },
  {
   "cell_type": "markdown",
   "metadata": {},
   "source": [
    "# __Mixer Calibration__"
   ]
  },
  {
   "cell_type": "code",
   "execution_count": 701,
   "metadata": {},
   "outputs": [
    {
     "name": "stdout",
     "output_type": "stream",
     "text": [
      "Warning: Maximum number of iterations has been exceeded.\n",
      " final_simplex: (array([[ 0.05478928, -0.02544861],\n",
      "       [ 0.05478928, -0.02544861],\n",
      "       [ 0.05478928, -0.02544861]]), array([-95.62821116, -86.72854893, -86.41919817]))\n",
      "           fun: -95.62821116458538\n",
      "       message: 'Maximum number of iterations has been exceeded.'\n",
      "          nfev: 126\n",
      "           nit: 50\n",
      "        status: 2\n",
      "       success: False\n",
      "             x: array([ 0.05478928, -0.02544861])\n"
     ]
    }
   ],
   "source": [
    "cal_result = calibrate(-10, 7.058685e9)"
   ]
  },
  {
   "cell_type": "code",
   "execution_count": 290,
   "metadata": {},
   "outputs": [],
   "source": [
    "# |DP\\__delay(loop)__|RO|\n",
    "                \n",
    "\n",
    "gen.set_modulation_state(0)\n",
    "gen.set_frequency(6.61e9)\n",
    "gen.set_output_state(\"ON\")\n",
    "gen.set_power(-5)\n",
    "\n",
    "awg_init(cal_result[0])\n",
    "#gen_init_pulse_mode(6.54e9, 1000-9)#at this moment gen wait a trigger to start pulse\n",
    "awg_set_delay(1000)#in ns| for ex. (100) = 100ns (with offset 100ns = 200ns)\n",
    "nwa.set_standard_config({\"power\":-20,\"nop\":2, \"cf_span\":[7.057069e9, 2], \"bandwidth\":10, \"meas_counts\":10})\n",
    "\n",
    "decay_step = 100\n",
    "decay_counts = 30\n",
    "\n",
    "decay_data_result = []\n",
    "decay_x_axis = []\n",
    "plt.ion()\n",
    "fig = plt.figure()\n",
    "nwa.set_timeout(500000)\n",
    "for i in range(decay_counts):\n",
    "    #awg_set_delay(1000 + i*decay_step)\n",
    "    \n",
    "    gen.set_frequency(6.61e9 + 0.1e6*i)\n",
    "    time.sleep(0.5)\n",
    "    nwa.trig_meas()\n",
    "    temp_data = nwa.get_data(10)\n",
    "    \n",
    "    temp_dB = np.average(temp_data[0],0)\n",
    "    decay_data_result.append(temp_dB[1])\n",
    "    decay_x_axis.append(20 + i*decay_step)\n",
    "    plt.ylabel(\"dB\")\n",
    "    plt.xlabel(\"delay, ns\")\n",
    "    plt.title(\"Decay {}/{}counts\".format(i+1, decay_counts))\n",
    "    plt.plot(decay_x_axis, decay_data_result, 'r')\n",
    "    \n",
    "    fig.canvas.draw()\n",
    "    fig.canvas.flush_events()\n"
   ]
  },
  {
   "cell_type": "markdown",
   "metadata": {},
   "source": [
    "# __Decay__"
   ]
  },
  {
   "cell_type": "code",
   "execution_count": null,
   "metadata": {},
   "outputs": [],
   "source": []
  },
  {
   "cell_type": "code",
   "execution_count": 190,
   "metadata": {},
   "outputs": [],
   "source": [
    "# |DP\\__delay(loop)__|RO|\n",
    "\n",
    "\n",
    "gen.set_modulation_state(0)\n",
    "gen.set_frequency(6.64e9)#6533500000.0\n",
    "gen.set_output_state(\"ON\")\n",
    "gen.set_power(-15)\n",
    "\n",
    "awg_init(cal_result[0])\n",
    "gen_init_pulse_mode(6.64e9, 45e-9)#at this moment gen wait a trigger to start pulse\n",
    "awg_set_delay(20)#in ns| for ex. (100) = 100ns (with offset 100ns = 200ns)\n",
    "nwa.set_standard_config({\"power\":-18,\"nop\":2, \"cf_span\":[7.058722e9, 2], \"bandwidth\":100, \"meas_counts\":300})\n",
    "\n",
    "decay_step = 4\n",
    "decay_counts = 500\n",
    "\n",
    "decay_data_result = []\n",
    "decay_x_axis = []\n",
    "plt.ion()\n",
    "fig = plt.figure()\n",
    "nwa.set_timeout(500000)\n",
    "for i in range(decay_counts):\n",
    "    awg_set_delay(47 + i*decay_step)\n",
    "    time.sleep(1)\n",
    "    nwa.trig_meas()\n",
    "    temp_data = nwa.get_data(20)\n",
    "    \n",
    "    temp_dB = np.average(temp_data[0],0)\n",
    "    decay_data_result.append(temp_dB[1])\n",
    "    decay_x_axis.append(i*decay_step)\n",
    "    plt.ylabel(\"dB\")\n",
    "    plt.xlabel(\"delay, ns\")\n",
    "    plt.title(\"Decay {}/{}counts\".format(i+1, decay_counts))\n",
    "    plt.plot(decay_x_axis, decay_data_result, 'r')\n",
    "    \n",
    "    fig.canvas.draw()\n",
    "    fig.canvas.flush_events()\n"
   ]
  },
  {
   "cell_type": "markdown",
   "metadata": {},
   "source": [
    "# __Decay save data__"
   ]
  },
  {
   "cell_type": "code",
   "execution_count": 191,
   "metadata": {},
   "outputs": [],
   "source": [
    "np.save(\"E:\\\\MEASUREMENTS\\\\10mK_BlueFors_BFLD400\\\\RUN33\\\\run33\\\\decay_data_result_4ns_47nsDr_500nop_100av\", decay_data_result)"
   ]
  },
  {
   "cell_type": "code",
   "execution_count": 202,
   "metadata": {},
   "outputs": [],
   "source": [
    "#nwa.set_output_state(\"ON\")\n",
    "ncs.set_current(3,103e-6)\n",
    "#gen.set_output_state(\"OFF\")\n",
    "awg.set_waveform_type(1,\"DC\")\n",
    "awg.set_voltage_offset(1, cal_result[0][1])\n",
    "awg.set_voltage_offset(1, 0.05 + cal_result[0][0])\n",
    "awg.set_voltage(1,100e-3)"
   ]
  },
  {
   "cell_type": "code",
   "execution_count": 704,
   "metadata": {},
   "outputs": [],
   "source": [
    "#nwa.set_power(-20)\n",
    "ncs.set_current(3,110e-6)\n",
    "gen.set_frequency(10.635e9)\n",
    "gen.set_modulation_state(0)"
   ]
  },
  {
   "cell_type": "markdown",
   "metadata": {},
   "source": [
    "# __Rabi__\n",
    "### _DP(in loop)__delay(fixed)__RO(fixed)_"
   ]
  },
  {
   "cell_type": "code",
   "execution_count": 705,
   "metadata": {},
   "outputs": [
    {
     "ename": "KeyboardInterrupt",
     "evalue": "",
     "output_type": "error",
     "traceback": [
      "\u001b[1;31m---------------------------------------------------------------------------\u001b[0m",
      "\u001b[1;31mKeyboardInterrupt\u001b[0m                         Traceback (most recent call last)",
      "\u001b[1;32m<ipython-input-705-d32ec0562bef>\u001b[0m in \u001b[0;36m<module>\u001b[1;34m\u001b[0m\n\u001b[0;32m     37\u001b[0m     \u001b[0mnwa\u001b[0m\u001b[1;33m.\u001b[0m\u001b[0mtrig_meas\u001b[0m\u001b[1;33m(\u001b[0m\u001b[1;33m)\u001b[0m\u001b[1;33m\u001b[0m\u001b[1;33m\u001b[0m\u001b[0m\n\u001b[0;32m     38\u001b[0m     \u001b[1;31m#temp_data = nwa.get_data(average_factor)\u001b[0m\u001b[1;33m\u001b[0m\u001b[1;33m\u001b[0m\u001b[1;33m\u001b[0m\u001b[0m\n\u001b[1;32m---> 39\u001b[1;33m     \u001b[0mtemp_data\u001b[0m \u001b[1;33m=\u001b[0m \u001b[0mget_data_reim\u001b[0m\u001b[1;33m(\u001b[0m\u001b[0maverage_factor\u001b[0m\u001b[1;33m)\u001b[0m\u001b[1;33m\u001b[0m\u001b[1;33m\u001b[0m\u001b[0m\n\u001b[0m\u001b[0;32m     40\u001b[0m \u001b[1;33m\u001b[0m\u001b[0m\n\u001b[0;32m     41\u001b[0m     \u001b[0mtemp_dB\u001b[0m \u001b[1;33m=\u001b[0m \u001b[0mnp\u001b[0m\u001b[1;33m.\u001b[0m\u001b[0maverage\u001b[0m\u001b[1;33m(\u001b[0m\u001b[0mtemp_data\u001b[0m\u001b[1;33m[\u001b[0m\u001b[1;36m0\u001b[0m\u001b[1;33m]\u001b[0m\u001b[1;33m,\u001b[0m\u001b[1;36m0\u001b[0m\u001b[1;33m)\u001b[0m\u001b[1;33m\u001b[0m\u001b[1;33m\u001b[0m\u001b[0m\n",
      "\u001b[1;32m<ipython-input-699-c855af8162b7>\u001b[0m in \u001b[0;36mget_data_reim\u001b[1;34m(data_frames_count)\u001b[0m\n\u001b[0;32m    160\u001b[0m     \u001b[0mout_im\u001b[0m \u001b[1;33m=\u001b[0m \u001b[1;33m[\u001b[0m\u001b[1;33m]\u001b[0m\u001b[1;33m\u001b[0m\u001b[1;33m\u001b[0m\u001b[0m\n\u001b[0;32m    161\u001b[0m     \u001b[1;32mfor\u001b[0m \u001b[0mi\u001b[0m \u001b[1;32min\u001b[0m \u001b[0mrange\u001b[0m\u001b[1;33m(\u001b[0m\u001b[0mdata_frames_count\u001b[0m\u001b[1;33m)\u001b[0m\u001b[1;33m:\u001b[0m\u001b[1;33m\u001b[0m\u001b[1;33m\u001b[0m\u001b[0m\n\u001b[1;32m--> 162\u001b[1;33m         \u001b[0mcurves\u001b[0m\u001b[1;33m[\u001b[0m\u001b[0mi\u001b[0m\u001b[1;33m]\u001b[0m \u001b[1;33m=\u001b[0m \u001b[0mnwa\u001b[0m\u001b[1;33m.\u001b[0m\u001b[0mquery\u001b[0m\u001b[1;33m(\u001b[0m\u001b[1;34m\"CALCulate1:DATA:NSWeep? SDATa, {}\"\u001b[0m\u001b[1;33m.\u001b[0m\u001b[0mformat\u001b[0m\u001b[1;33m(\u001b[0m\u001b[0mi\u001b[0m\u001b[1;33m+\u001b[0m\u001b[1;36m1\u001b[0m\u001b[1;33m)\u001b[0m\u001b[1;33m)\u001b[0m\u001b[1;33m\u001b[0m\u001b[1;33m\u001b[0m\u001b[0m\n\u001b[0m\u001b[0;32m    163\u001b[0m         \u001b[0mnp_d\u001b[0m \u001b[1;33m=\u001b[0m \u001b[0mnp\u001b[0m\u001b[1;33m.\u001b[0m\u001b[0mfromstring\u001b[0m\u001b[1;33m(\u001b[0m\u001b[0mcurves\u001b[0m\u001b[1;33m[\u001b[0m\u001b[0mi\u001b[0m\u001b[1;33m]\u001b[0m\u001b[1;33m,\u001b[0m \u001b[0msep\u001b[0m \u001b[1;33m=\u001b[0m \u001b[1;34m','\u001b[0m\u001b[1;33m)\u001b[0m\u001b[1;33m\u001b[0m\u001b[1;33m\u001b[0m\u001b[0m\n\u001b[0;32m    164\u001b[0m         \u001b[0mtemp_data\u001b[0m \u001b[1;33m=\u001b[0m \u001b[1;33m[\u001b[0m\u001b[1;33m]\u001b[0m\u001b[1;33m*\u001b[0m\u001b[0mint\u001b[0m\u001b[1;33m(\u001b[0m\u001b[0mlen\u001b[0m\u001b[1;33m(\u001b[0m\u001b[0mnp_d\u001b[0m\u001b[1;33m)\u001b[0m\u001b[1;33m/\u001b[0m\u001b[1;36m2\u001b[0m\u001b[1;33m)\u001b[0m\u001b[1;33m\u001b[0m\u001b[1;33m\u001b[0m\u001b[0m\n",
      "\u001b[1;32m~\\python anaconda\\LQCE-master\\LQCE\\instr.py\u001b[0m in \u001b[0;36mquery\u001b[1;34m(self, command)\u001b[0m\n\u001b[0;32m     62\u001b[0m     \u001b[1;32mdef\u001b[0m \u001b[0mquery\u001b[0m\u001b[1;33m(\u001b[0m\u001b[0mself\u001b[0m\u001b[1;33m,\u001b[0m \u001b[0mcommand\u001b[0m\u001b[1;33m)\u001b[0m\u001b[1;33m:\u001b[0m\u001b[1;33m\u001b[0m\u001b[1;33m\u001b[0m\u001b[0m\n\u001b[0;32m     63\u001b[0m         \u001b[1;31m# print(\"Querying {0}...\".format(command))\u001b[0m\u001b[1;33m\u001b[0m\u001b[1;33m\u001b[0m\u001b[1;33m\u001b[0m\u001b[0m\n\u001b[1;32m---> 64\u001b[1;33m         \u001b[1;32mreturn\u001b[0m \u001b[0mself\u001b[0m\u001b[1;33m.\u001b[0m\u001b[0m_visainstrument\u001b[0m\u001b[1;33m.\u001b[0m\u001b[0mquery\u001b[0m\u001b[1;33m(\u001b[0m\u001b[0mcommand\u001b[0m\u001b[1;33m)\u001b[0m\u001b[1;33m\u001b[0m\u001b[1;33m\u001b[0m\u001b[0m\n\u001b[0m\u001b[0;32m     65\u001b[0m \u001b[1;33m\u001b[0m\u001b[0m\n\u001b[0;32m     66\u001b[0m     \u001b[1;32mdef\u001b[0m \u001b[0mwrite\u001b[0m\u001b[1;33m(\u001b[0m\u001b[0mself\u001b[0m\u001b[1;33m,\u001b[0m \u001b[0mcommand\u001b[0m\u001b[1;33m)\u001b[0m\u001b[1;33m:\u001b[0m\u001b[1;33m\u001b[0m\u001b[1;33m\u001b[0m\u001b[0m\n",
      "\u001b[1;32m~\\Anaconda3\\lib\\site-packages\\pyvisa\\resources\\messagebased.py\u001b[0m in \u001b[0;36mquery\u001b[1;34m(self, message, delay)\u001b[0m\n\u001b[0;32m    567\u001b[0m         \u001b[1;32mif\u001b[0m \u001b[0mdelay\u001b[0m \u001b[1;33m>\u001b[0m \u001b[1;36m0.0\u001b[0m\u001b[1;33m:\u001b[0m\u001b[1;33m\u001b[0m\u001b[1;33m\u001b[0m\u001b[0m\n\u001b[0;32m    568\u001b[0m             \u001b[0mtime\u001b[0m\u001b[1;33m.\u001b[0m\u001b[0msleep\u001b[0m\u001b[1;33m(\u001b[0m\u001b[0mdelay\u001b[0m\u001b[1;33m)\u001b[0m\u001b[1;33m\u001b[0m\u001b[1;33m\u001b[0m\u001b[0m\n\u001b[1;32m--> 569\u001b[1;33m         \u001b[1;32mreturn\u001b[0m \u001b[0mself\u001b[0m\u001b[1;33m.\u001b[0m\u001b[0mread\u001b[0m\u001b[1;33m(\u001b[0m\u001b[1;33m)\u001b[0m\u001b[1;33m\u001b[0m\u001b[1;33m\u001b[0m\u001b[0m\n\u001b[0m\u001b[0;32m    570\u001b[0m \u001b[1;33m\u001b[0m\u001b[0m\n\u001b[0;32m    571\u001b[0m     \u001b[1;32mdef\u001b[0m \u001b[0mask\u001b[0m\u001b[1;33m(\u001b[0m\u001b[0mself\u001b[0m\u001b[1;33m,\u001b[0m \u001b[0mmessage\u001b[0m\u001b[1;33m,\u001b[0m \u001b[0mdelay\u001b[0m\u001b[1;33m=\u001b[0m\u001b[1;32mNone\u001b[0m\u001b[1;33m)\u001b[0m\u001b[1;33m:\u001b[0m\u001b[1;33m\u001b[0m\u001b[1;33m\u001b[0m\u001b[0m\n",
      "\u001b[1;32m~\\Anaconda3\\lib\\site-packages\\pyvisa\\resources\\messagebased.py\u001b[0m in \u001b[0;36mread\u001b[1;34m(self, termination, encoding)\u001b[0m\n\u001b[0;32m    411\u001b[0m         \u001b[1;32mif\u001b[0m \u001b[0mtermination\u001b[0m \u001b[1;32mis\u001b[0m \u001b[1;32mNone\u001b[0m\u001b[1;33m:\u001b[0m\u001b[1;33m\u001b[0m\u001b[1;33m\u001b[0m\u001b[0m\n\u001b[0;32m    412\u001b[0m             \u001b[0mtermination\u001b[0m \u001b[1;33m=\u001b[0m \u001b[0mself\u001b[0m\u001b[1;33m.\u001b[0m\u001b[0m_read_termination\u001b[0m\u001b[1;33m\u001b[0m\u001b[1;33m\u001b[0m\u001b[0m\n\u001b[1;32m--> 413\u001b[1;33m             \u001b[0mmessage\u001b[0m \u001b[1;33m=\u001b[0m \u001b[0mself\u001b[0m\u001b[1;33m.\u001b[0m\u001b[0m_read_raw\u001b[0m\u001b[1;33m(\u001b[0m\u001b[1;33m)\u001b[0m\u001b[1;33m.\u001b[0m\u001b[0mdecode\u001b[0m\u001b[1;33m(\u001b[0m\u001b[0menco\u001b[0m\u001b[1;33m)\u001b[0m\u001b[1;33m\u001b[0m\u001b[1;33m\u001b[0m\u001b[0m\n\u001b[0m\u001b[0;32m    414\u001b[0m         \u001b[1;32melse\u001b[0m\u001b[1;33m:\u001b[0m\u001b[1;33m\u001b[0m\u001b[1;33m\u001b[0m\u001b[0m\n\u001b[0;32m    415\u001b[0m             \u001b[1;32mwith\u001b[0m \u001b[0mself\u001b[0m\u001b[1;33m.\u001b[0m\u001b[0mread_termination_context\u001b[0m\u001b[1;33m(\u001b[0m\u001b[0mtermination\u001b[0m\u001b[1;33m)\u001b[0m\u001b[1;33m:\u001b[0m\u001b[1;33m\u001b[0m\u001b[1;33m\u001b[0m\u001b[0m\n",
      "\u001b[1;32m~\\Anaconda3\\lib\\site-packages\\pyvisa\\resources\\messagebased.py\u001b[0m in \u001b[0;36m_read_raw\u001b[1;34m(self, size)\u001b[0m\n\u001b[0;32m    384\u001b[0m                     logger.debug('%s - reading %d bytes (last status %r)',\n\u001b[0;32m    385\u001b[0m                                  self._resource_name, size, status)\n\u001b[1;32m--> 386\u001b[1;33m                     \u001b[0mchunk\u001b[0m\u001b[1;33m,\u001b[0m \u001b[0mstatus\u001b[0m \u001b[1;33m=\u001b[0m \u001b[0mself\u001b[0m\u001b[1;33m.\u001b[0m\u001b[0mvisalib\u001b[0m\u001b[1;33m.\u001b[0m\u001b[0mread\u001b[0m\u001b[1;33m(\u001b[0m\u001b[0mself\u001b[0m\u001b[1;33m.\u001b[0m\u001b[0msession\u001b[0m\u001b[1;33m,\u001b[0m \u001b[0msize\u001b[0m\u001b[1;33m)\u001b[0m\u001b[1;33m\u001b[0m\u001b[1;33m\u001b[0m\u001b[0m\n\u001b[0m\u001b[0;32m    387\u001b[0m                     \u001b[0mret\u001b[0m\u001b[1;33m.\u001b[0m\u001b[0mextend\u001b[0m\u001b[1;33m(\u001b[0m\u001b[0mchunk\u001b[0m\u001b[1;33m)\u001b[0m\u001b[1;33m\u001b[0m\u001b[1;33m\u001b[0m\u001b[0m\n\u001b[0;32m    388\u001b[0m             \u001b[1;32mexcept\u001b[0m \u001b[0merrors\u001b[0m\u001b[1;33m.\u001b[0m\u001b[0mVisaIOError\u001b[0m \u001b[1;32mas\u001b[0m \u001b[0me\u001b[0m\u001b[1;33m:\u001b[0m\u001b[1;33m\u001b[0m\u001b[1;33m\u001b[0m\u001b[0m\n",
      "\u001b[1;32m~\\Anaconda3\\lib\\site-packages\\pyvisa\\ctwrapper\\functions.py\u001b[0m in \u001b[0;36mread\u001b[1;34m(library, session, count)\u001b[0m\n\u001b[0;32m   1582\u001b[0m     \u001b[0mbuffer\u001b[0m \u001b[1;33m=\u001b[0m \u001b[0mcreate_string_buffer\u001b[0m\u001b[1;33m(\u001b[0m\u001b[0mcount\u001b[0m\u001b[1;33m)\u001b[0m\u001b[1;33m\u001b[0m\u001b[1;33m\u001b[0m\u001b[0m\n\u001b[0;32m   1583\u001b[0m     \u001b[0mreturn_count\u001b[0m \u001b[1;33m=\u001b[0m \u001b[0mViUInt32\u001b[0m\u001b[1;33m(\u001b[0m\u001b[1;33m)\u001b[0m\u001b[1;33m\u001b[0m\u001b[1;33m\u001b[0m\u001b[0m\n\u001b[1;32m-> 1584\u001b[1;33m     \u001b[0mret\u001b[0m \u001b[1;33m=\u001b[0m \u001b[0mlibrary\u001b[0m\u001b[1;33m.\u001b[0m\u001b[0mviRead\u001b[0m\u001b[1;33m(\u001b[0m\u001b[0msession\u001b[0m\u001b[1;33m,\u001b[0m \u001b[0mbuffer\u001b[0m\u001b[1;33m,\u001b[0m \u001b[0mcount\u001b[0m\u001b[1;33m,\u001b[0m \u001b[0mbyref\u001b[0m\u001b[1;33m(\u001b[0m\u001b[0mreturn_count\u001b[0m\u001b[1;33m)\u001b[0m\u001b[1;33m)\u001b[0m\u001b[1;33m\u001b[0m\u001b[1;33m\u001b[0m\u001b[0m\n\u001b[0m\u001b[0;32m   1585\u001b[0m     \u001b[1;32mreturn\u001b[0m \u001b[0mbuffer\u001b[0m\u001b[1;33m.\u001b[0m\u001b[0mraw\u001b[0m\u001b[1;33m[\u001b[0m\u001b[1;33m:\u001b[0m\u001b[0mreturn_count\u001b[0m\u001b[1;33m.\u001b[0m\u001b[0mvalue\u001b[0m\u001b[1;33m]\u001b[0m\u001b[1;33m,\u001b[0m \u001b[0mret\u001b[0m\u001b[1;33m\u001b[0m\u001b[1;33m\u001b[0m\u001b[0m\n\u001b[0;32m   1586\u001b[0m \u001b[1;33m\u001b[0m\u001b[0m\n",
      "\u001b[1;32m~\\Anaconda3\\lib\\site-packages\\pyvisa\\ctwrapper\\highlevel.py\u001b[0m in \u001b[0;36m_return_handler\u001b[1;34m(self, ret_value, func, arguments)\u001b[0m\n\u001b[0;32m    147\u001b[0m             \u001b[0msetattr\u001b[0m\u001b[1;33m(\u001b[0m\u001b[0mself\u001b[0m\u001b[1;33m,\u001b[0m \u001b[0mmethod_name\u001b[0m\u001b[1;33m,\u001b[0m \u001b[0mgetattr\u001b[0m\u001b[1;33m(\u001b[0m\u001b[0mself\u001b[0m\u001b[1;33m.\u001b[0m\u001b[0mlib\u001b[0m\u001b[1;33m,\u001b[0m \u001b[0mmethod_name\u001b[0m\u001b[1;33m)\u001b[0m\u001b[1;33m)\u001b[0m\u001b[1;33m\u001b[0m\u001b[1;33m\u001b[0m\u001b[0m\n\u001b[0;32m    148\u001b[0m \u001b[1;33m\u001b[0m\u001b[0m\n\u001b[1;32m--> 149\u001b[1;33m     \u001b[1;32mdef\u001b[0m \u001b[0m_return_handler\u001b[0m\u001b[1;33m(\u001b[0m\u001b[0mself\u001b[0m\u001b[1;33m,\u001b[0m \u001b[0mret_value\u001b[0m\u001b[1;33m,\u001b[0m \u001b[0mfunc\u001b[0m\u001b[1;33m,\u001b[0m \u001b[0marguments\u001b[0m\u001b[1;33m)\u001b[0m\u001b[1;33m:\u001b[0m\u001b[1;33m\u001b[0m\u001b[1;33m\u001b[0m\u001b[0m\n\u001b[0m\u001b[0;32m    150\u001b[0m         \"\"\"Check return values for errors and warnings.\n\u001b[0;32m    151\u001b[0m         \"\"\"\n",
      "\u001b[1;31mKeyboardInterrupt\u001b[0m: "
     ]
    }
   ],
   "source": [
    "#awg_init(cal_result[0])\n",
    "awg_init_custom_2ch(cal_result[0], 9e-6, 15e-6)\n",
    "gen_init_pulse_mode(6.641e9, 20e-9)#at this moment gen wait a trigger to start pulse\n",
    "awg_set_delay(20)#in ns| for ex. (100) = 100ns (with offset 100ns = 200ns)\n",
    "\n",
    "average_factor = 360\n",
    "nwa.set_standard_config({\"power\":-10,\"nop\":2, \"cf_span\":[7.058685e9, 2], \"bandwidth\":10, \"meas_counts\":average_factor})\n",
    "\n",
    "gen.set_power(-6)\n",
    "\n",
    "rabi_step = 4\n",
    "rabi_counts = 401\n",
    "rabi_data_result = []\n",
    "rabi_phase_result = []\n",
    "rabi_x_axis = []\n",
    "plt.ion()\n",
    "fig = plt.figure()\n",
    "ax1 = fig.add_subplot(2,1,1)\n",
    "ax2 = fig.add_subplot(2,1,2)\n",
    "plt.setp(ax1.get_xticklabels(), visible=False)\n",
    "fig.set_size_inches(10, 6)\n",
    "\n",
    "nwa.set_timeout(500000)\n",
    "for i in range(rabi_counts):\n",
    "    #awg.set_sync_output(\"OFF\")\n",
    "    #gen.set_output_state(\"OFF\")\n",
    "    time.sleep(1)\n",
    "    #gen.set_pulse_train_ontime(500e-9 + i*1e-9*rabi_step)\n",
    "    gen.write(\":PULM:INTernal:TRAin:ONTime {:.3e}\".format(20e-9 + i*1e-9*rabi_step))\n",
    "    time.sleep(2)\n",
    "    awg_set_delay(20 + i*rabi_step)\n",
    "    \n",
    "    \n",
    "    #awg.set_sync_output(\"ON\")\n",
    "    #gen.set_output_state(\"ON\")\n",
    "    time.sleep(1)\n",
    "    nwa.trig_meas()\n",
    "    #temp_data = nwa.get_data(average_factor)\n",
    "    temp_data = get_data_reim(average_factor)\n",
    "    \n",
    "    temp_dB = np.average(temp_data[0],0)\n",
    "    temp_Phase = np.average(temp_data[1],0)\n",
    "    \n",
    "    rabi_data_result.append(temp_dB[0])\n",
    "    rabi_phase_result.append(temp_Phase[0])\n",
    "    rabi_x_axis.append(20 + i*rabi_step)\n",
    "    \n",
    "    ax2.set_xlabel(\"delay, nS\")\n",
    "    ax1.plot(rabi_x_axis, rabi_data_result, 'b--')\n",
    "    ax1.set_ylabel(\"Re\")\n",
    "    ax2.plot(rabi_x_axis, rabi_phase_result, 'g--')\n",
    "    ax2.set_ylabel(\"Im\")\n",
    "    ax1.set_title(\"Rabi {}/{}\".format(i+1, rabi_counts))\n",
    "    \n",
    "    \n",
    "    #plt.title(\"Rabi {}/{}counts\".format(i+1, rabi_counts))\n",
    "    #plt.ylabel(\"dB\")\n",
    "    #plt.xlabel(\"dt width, ns\")\n",
    "    \n",
    "    #plt.plot(decay_x_axis, decay_data_result, 'r--')\n",
    "    \n",
    "    fig.canvas.draw()\n",
    "    fig.canvas.flush_events()\n"
   ]
  },
  {
   "cell_type": "code",
   "execution_count": 50,
   "metadata": {},
   "outputs": [
    {
     "data": {
      "text/plain": [
       "[<matplotlib.lines.Line2D at 0xf9565f8>]"
      ]
     },
     "execution_count": 50,
     "metadata": {},
     "output_type": "execute_result"
    }
   ],
   "source": [
    "plt.ion()\n",
    "fig = plt.figure()\n",
    "data_angle = []\n",
    "for i in range(len(rabi_phase_result)):\n",
    "    data_angle.append(rabi_phase_result[i]*180/(np.pi))\n",
    "plt.plot(data_angle)\n"
   ]
  },
  {
   "cell_type": "markdown",
   "metadata": {},
   "source": [
    "# _save Rabi_"
   ]
  },
  {
   "cell_type": "code",
   "execution_count": 706,
   "metadata": {},
   "outputs": [],
   "source": [
    "#np.save(\"E:\\\\MEASUREMENTS\\\\10mK_BlueFors_BFLD400\\\\RUN33\\\\run33\\\\rabi_data_result_4ns_20nsDr_360nop_100av\", decay_data_result)\n",
    "np.save(\"E:\\\\MEASUREMENTS\\\\10mK_BlueFors_BFLD400\\\\RUN33\\\\run33\\\\precise10Hz_rabi_re_4ns_20nsDr_229nop_360av\", rabi_data_result)\n",
    "np.save(\"E:\\\\MEASUREMENTS\\\\10mK_BlueFors_BFLD400\\\\RUN33\\\\run33\\\\precise10Hz_rabi_im_4ns_20nsDr_229nop_360av\", rabi_phase_result)"
   ]
  },
  {
   "cell_type": "markdown",
   "metadata": {},
   "source": [
    "# __Ramsey__\n",
    "### _min step 20ns_"
   ]
  },
  {
   "cell_type": "code",
   "execution_count": null,
   "metadata": {},
   "outputs": [],
   "source": [
    "awg_init_custom(cal_result[0], 9e-6,15e-6) #pulse width & period\n",
    "gen_init_ramsey_mode(6.651e9, 28e-9, delay = 40e-9) # freq | pulse width | delay(min 10ns)\n",
    "#6.64e9 - qubit freq\n",
    "awg_set_delay(110)#in ns| for ex. (100) = 100ns (with offset 100ns = 200ns)\n",
    "\n",
    "average_factor = 60\n",
    "nwa.set_standard_config({\"power\":-10,\"nop\":2, \"cf_span\":[7.058685e9, 2], \"bandwidth\":10, \"meas_counts\":average_factor})\n",
    "\n",
    "gen.set_power(-6)\n",
    "\n",
    "ramsey_step = 4\n",
    "ramsey_counts = 80\n",
    "\n",
    "ramsey_data_result = []\n",
    "ramsey_phase_result = []\n",
    "ramsey_x_axis = []\n",
    "plt.ion()\n",
    "fig = plt.figure()\n",
    "ax1 = fig.add_subplot(2,1,1)\n",
    "ax2 = fig.add_subplot(2,1,2)\n",
    "plt.setp(ax1.get_xticklabels(), visible=False)\n",
    "fig.set_size_inches(10, 6)\n",
    "\n",
    "nwa.set_timeout(500000)\n",
    "\n",
    "for i in range(ramsey_counts):\n",
    "\n",
    "    time.sleep(1)\n",
    "    #gen.set_pulse_train_ontime(500e-9 + i*1e-9*rabi_step)\n",
    "    #gen.write(\":PULM:INTernal:TRAin:ONTime {:.3e}\".format(20e-9 + i*1e-9*rabi_step))\n",
    "    gen.write(\":PULM:INTernal:TRAin:OFFTime {:.4e},{:.4e}\".format(20e-9 + ramsey_step*i*1e-9, 40e-9))\n",
    "    \n",
    "    time.sleep(2)\n",
    "    awg_set_delay(20 + i*ramsey_step)\n",
    "    \n",
    "    \n",
    "    time.sleep(1)\n",
    "    nwa.trig_meas()\n",
    "    #temp_data = nwa.get_data(average_factor)\n",
    "    temp_data = get_data_reim(average_factor)\n",
    "    \n",
    "    temp_dB = np.average(temp_data[0],0)\n",
    "    temp_Phase = np.average(temp_data[1],0)\n",
    "    \n",
    "    ramsey_data_result.append(temp_dB[0])\n",
    "    ramsey_phase_result.append(temp_Phase[0])\n",
    "    ramsey_x_axis.append(20 + i*ramsey_step)\n",
    "    #plt.title(\"Rabi {}/{}counts\".format(i+1, ramsey_counts))\n",
    "    ax2.set_xlabel(\"delay, nS\")\n",
    "    ax1.plot(ramsey_x_axis, ramsey_data_result, 'b--')\n",
    "    ax1.set_ylabel(\"Re\")\n",
    "    ax2.plot(ramsey_x_axis, ramsey_phase_result, 'g--')\n",
    "    ax2.set_ylabel(\"Im\")\n",
    "    ax1.set_title(\"Ramsey {}/{}\".format(i+1, ramsey_counts))\n",
    "    \n",
    "    \n",
    "    fig.canvas.draw()\n",
    "    fig.canvas.flush_events()\n"
   ]
  },
  {
   "cell_type": "code",
   "execution_count": 221,
   "metadata": {},
   "outputs": [
    {
     "data": {
      "text/plain": [
       "[<matplotlib.lines.Line2D at 0x267b9940>]"
      ]
     },
     "execution_count": 221,
     "metadata": {},
     "output_type": "execute_result"
    }
   ],
   "source": [
    "plt.ion()\n",
    "fig = plt.figure()\n",
    "plt.plot(ramsey_x_axis, ramsey_data_result, 'r--')"
   ]
  },
  {
   "cell_type": "markdown",
   "metadata": {},
   "source": [
    "# __Ramsey__\n",
    "## _save data to npy file_"
   ]
  },
  {
   "cell_type": "code",
   "execution_count": 574,
   "metadata": {},
   "outputs": [],
   "source": [
    "np.save(\"E:\\\\MEASUREMENTS\\\\10mK_BlueFors_BFLD400\\\\RUN33\\\\run33\\\\ramsey_3rdtone_+7dbm_re_4ns_27nsDr_151nop_200av\", ramsey_data_result)\n",
    "np.save(\"E:\\\\MEASUREMENTS\\\\10mK_BlueFors_BFLD400\\\\RUN33\\\\run33\\\\ramsey_3rdtone_+7dbm_im_4ns_27nsDr_151nop_200av\", ramsey_phase_result)"
   ]
  },
  {
   "cell_type": "code",
   "execution_count": 489,
   "metadata": {},
   "outputs": [
    {
     "name": "stdout",
     "output_type": "stream",
     "text": [
      "[ 1.96291466e-01 -6.78659402e+07 -2.74795274e+01 -1.49010848e+06\n",
      "  4.96687866e+00]\n"
     ]
    },
    {
     "data": {
      "text/plain": [
       "[<matplotlib.lines.Line2D at 0x1c86b2b0>]"
      ]
     },
     "execution_count": 489,
     "metadata": {},
     "output_type": "execute_result"
    }
   ],
   "source": [
    "im = np.load(\"E:\\\\MEASUREMENTS\\\\10mK_BlueFors_BFLD400\\\\RUN33\\\\run33\\\\ramsey_im_4ns_25nsDr_151nop_200av.npy\")\n",
    "re = np.load(\"E:\\\\MEASUREMENTS\\\\10mK_BlueFors_BFLD400\\\\RUN33\\\\run33\\\\ramsey_re_4ns_25nsDr_151nop_200av.npy\")\n",
    "\n",
    "dB_rabi = np.load(\"E:\\\\MEASUREMENTS\\\\10mK_BlueFors_BFLD400\\\\RUN33\\\\run33\\\\rabi_data_result_4ns_20nsDr_360nop_100av.npy\")\n",
    "\n",
    "plt.ion()\n",
    "fig = plt.figure()\n",
    "x_axis = np.linspace(20e-9, 1460e-9, 360)\n",
    "#plt.plot(x_axis, re)\n",
    "\n",
    "\n",
    "def fit_func(xi,ai, bi, of, decay, phase):\n",
    "    return (ai*np.sin(bi*xi + phase)*np.exp(decay*xi) + of)\n",
    "\n",
    "\n",
    "def fit_decay_rabi(xi, ai, bi, decay):\n",
    "    return ai*np.sin(bi * xi)*np.exp(decay)\n",
    "\n",
    "#x = np.linspace(0, 10*np.pi, 1000)\n",
    "\n",
    "ydata = dB_rabi #5*np.sin(5*x) + np.random.normal(size=1000) + 5   \n",
    "xdata = x_axis #np.linspace(0, 10*np.pi, 1000)   \n",
    "\n",
    "params, params_covariance  = scipy.optimize.curve_fit(fit_func, xdata, ydata, p0 = [20 , 70e6, -30, -50000000, np.pi/8])\n",
    "\n",
    "print(params)\n",
    "\n",
    "plt.plot(x_axis, fit_func(xdata, params[0], params[1], params[2], params[3], params[4]))\n",
    "plt.plot(x_axis, ydata)\n",
    "\n"
   ]
  },
  {
   "cell_type": "code",
   "execution_count": 477,
   "metadata": {},
   "outputs": [
    {
     "name": "stdout",
     "output_type": "stream",
     "text": [
      "[ 3.74394485e+02 -3.74409314e+02  4.25927569e-03]\n",
      "Figure(640x480)\n"
     ]
    }
   ],
   "source": [
    "dec = np.load(\"E:\\\\MEASUREMENTS\\\\10mK_BlueFors_BFLD400\\\\RUN33\\\\run33\\\\ramsey_im_4ns_27nsDr_151nop_200av.npy\")\n",
    "#здесь подгрузить данные decay нужно\n",
    "plt.ion()\n",
    "fig = plt.figure()\n",
    "x_axis = np.linspace(47e-9, 2047e-9, 151)\n",
    "#plt.plot(x_axis, re)\n",
    "\n",
    "\n",
    "def fit_func(xi,ai, of, decay):\n",
    "    return (ai*np.exp(decay*xi) + of)\n",
    "\n",
    "#x = np.linspace(0, 10*np.pi, 1000)\n",
    "\n",
    "ydata = dec #5*np.sin(5*x) + np.random.normal(size=1000) + 5   \n",
    "xdata = x_axis #np.linspace(0, 10*np.pi, 1000)   \n",
    "\n",
    "params, params_covariance  = scipy.optimize.curve_fit(fit_func, xdata, ydata, p0 = [0.2 , -30, -0.02])\n",
    "\n",
    "print(params)\n",
    "\n",
    "plt.plot(x_axis, fit_func(xdata, params[0], params[1], params[2]))\n",
    "plt.plot(x_axis, ydata)\n",
    "\n"
   ]
  },
  {
   "cell_type": "code",
   "execution_count": 110,
   "metadata": {},
   "outputs": [
    {
     "name": "stdout",
     "output_type": "stream",
     "text": [
      "Using matplotlib backend: Qt5Agg\n"
     ]
    },
    {
     "data": {
      "text/plain": [
       "<matplotlib.colorbar.Colorbar at 0x116cd828>"
      ]
     },
     "execution_count": 110,
     "metadata": {},
     "output_type": "execute_result"
    }
   ],
   "source": [
    "%matplotlib \n",
    "nwa.set_output_state(\"ON\")\n",
    "nwa.set_standard_config({\"power\":-20,\"nop\":101, \"cf_span\":[7.058422e9, 8e6], \"bandwidth\":100, \"meas_counts\":4})\n",
    "\n",
    "ncs.enable_channel(3)\n",
    "ncs.set_output_state(3,1)\n",
    "ncs.set_range(3,\"1mA\")\n",
    "#ncs.set_current(3,0)\n",
    "nwa.set_timeout(200000)\n",
    "\n",
    "\n",
    "plt.ion()\n",
    "\n",
    "fig = plt.figure()\n",
    "z_upd = []\n",
    "\n",
    "\n",
    "for i in range(4):\n",
    "    ncs.set_current(3, 50e-6+i*1e-6)#10uA step\n",
    "    nwa.trig_meas()\n",
    "    x_axis = nwa.get_X_axis_values()   \n",
    "    data = nwa.get_data(int(nwa.get_meas_counts()))\n",
    "    x_upd = x_axis#[]\n",
    "    y_upd = []\n",
    "    nx = 101#x_upd.shape[0]\n",
    "    no_labels = 5\n",
    "    step_x = int(nx/(no_labels -1))\n",
    "    x_positions = np.arange(0,nx,step_x)\n",
    "    x_labels = x_upd[::step_x]\n",
    "    plt.yticks(x_positions, x_labels)\n",
    "    \n",
    "    z_upd.append(data[0][0])\n",
    "    y_upd.append(i)\n",
    "    plt.imshow(np.transpose(z_upd),interpolation='nearest', aspect='auto', cmap=cm.RdBu, origin = 'lower')\n",
    "    #nwa.set_timeout(1000)\n",
    "    #plt.plot(x_axis, np.average(data[0],0))\n",
    "    #line1.set_ydata(data[0][i][50])\n",
    "    fig.canvas.draw()\n",
    "    fig.canvas.flush_events()\n",
    "plt.colorbar()"
   ]
  },
  {
   "cell_type": "code",
   "execution_count": 434,
   "metadata": {},
   "outputs": [
    {
     "data": {
      "text/plain": [
       "b'\\xc1\\xe3\\xcd\\xaf\\xe68\\xef\\xef\\xef:'"
      ]
     },
     "execution_count": 434,
     "metadata": {},
     "output_type": "execute_result"
    }
   ],
   "source": [
    "gen.set_modulation_state(0)\n",
    "gen.set_frequency(6.631e9)\n",
    "gen.set_output_state(\"ON\")\n",
    "gen.set_power(-6)\n",
    "ncs.set_current(3,110e-6)"
   ]
  },
  {
   "cell_type": "code",
   "execution_count": 548,
   "metadata": {},
   "outputs": [
    {
     "data": {
      "text/plain": [
       "b'\\xc1\\xe3\\xcd\\xaf\\xe68\\xef\\xef\\xef:'"
      ]
     },
     "execution_count": 548,
     "metadata": {},
     "output_type": "execute_result"
    }
   ],
   "source": [
    "ncs.set_current(3,110e-6)"
   ]
  },
  {
   "cell_type": "code",
   "execution_count": 554,
   "metadata": {},
   "outputs": [],
   "source": [
    "gen.set_output_state(\"ON\")\n",
    "gen.set_frequency(6.641e9)"
   ]
  },
  {
   "cell_type": "markdown",
   "metadata": {},
   "source": [
    "# __TWO TONE__"
   ]
  },
  {
   "cell_type": "code",
   "execution_count": 691,
   "metadata": {
    "scrolled": true
   },
   "outputs": [
    {
     "name": "stdout",
     "output_type": "stream",
     "text": [
      "Using matplotlib backend: Qt5Agg\n"
     ]
    },
    {
     "data": {
      "text/plain": [
       "<matplotlib.colorbar.Colorbar at 0x1c17c0f0>"
      ]
     },
     "execution_count": 691,
     "metadata": {},
     "output_type": "execute_result"
    }
   ],
   "source": [
    "%matplotlib \n",
    "#nwa.set_output_state(\"ON\")\n",
    "nwa.set_standard_config({\"power\":-40,\"nop\":801, \"cf_span\":[7.0555071e9, 12e6], \"bandwidth\":10000, \"meas_counts\":1})\n",
    "\n",
    "#ncs.enable_channel(3)\n",
    "#ncs.set_output_state(3,1)\n",
    "#ncs.set_range(3,\"1mA\")\n",
    "#ncs.set_current(3,0)\n",
    "nwa.set_timeout(200000)\n",
    "\n",
    "\n",
    "plt.ion()\n",
    "\n",
    "fig = plt.figure()\n",
    "z_upd = []\n",
    "\n",
    "\n",
    "for i in range(240):\n",
    "    ncs.set_current(3, 40e-6+i*1e-6)#10uA step\n",
    "    nwa.trig_meas()\n",
    "    x_axis = nwa.get_X_axis_values()   \n",
    "    data = nwa.get_data(int(nwa.get_meas_counts()))\n",
    "    x_upd = x_axis#[]\n",
    "    y_upd = []\n",
    "    nx = 101#x_upd.shape[0]\n",
    "    no_labels = 5\n",
    "    step_x = int(nx/(no_labels -1))\n",
    "    x_positions = np.arange(0,nx,step_x)\n",
    "    x_labels = x_upd[::step_x]\n",
    "    plt.yticks(x_positions, x_labels)\n",
    "    \n",
    "    z_upd.append(data[0][0])\n",
    "    y_upd.append(i)\n",
    "    plt.imshow(np.transpose(z_upd),interpolation='nearest', aspect='auto', cmap=cm.RdBu)\n",
    "    #nwa.set_timeout(1000)\n",
    "    #plt.plot(x_axis, np.average(data[0],0))\n",
    "    #line1.set_ydata(data[0][i][50])\n",
    "    fig.canvas.draw()\n",
    "    fig.canvas.flush_events()\n",
    "plt.colorbar()"
   ]
  },
  {
   "cell_type": "code",
   "execution_count": 692,
   "metadata": {},
   "outputs": [],
   "source": [
    "np.save(\"E:\\\\MEASUREMENTS\\\\10mK_BlueFors_BFLD400\\\\RUN33\\\\run33\\\\sweetspot_-40dBm_10000Hz_1av_12MHz_801nop_7p055071G_240points\", np.transpose(z_upd))\n"
   ]
  },
  {
   "cell_type": "code",
   "execution_count": 547,
   "metadata": {},
   "outputs": [
    {
     "ename": "KeyboardInterrupt",
     "evalue": "",
     "output_type": "error",
     "traceback": [
      "\u001b[1;31m---------------------------------------------------------------------------\u001b[0m",
      "\u001b[1;31mKeyboardInterrupt\u001b[0m                         Traceback (most recent call last)",
      "\u001b[1;32m<ipython-input-547-94b31ce3c430>\u001b[0m in \u001b[0;36m<module>\u001b[1;34m\u001b[0m\n\u001b[0;32m     33\u001b[0m         \u001b[0mtime\u001b[0m\u001b[1;33m.\u001b[0m\u001b[0msleep\u001b[0m\u001b[1;33m(\u001b[0m\u001b[1;36m0.02\u001b[0m\u001b[1;33m)\u001b[0m\u001b[1;33m\u001b[0m\u001b[1;33m\u001b[0m\u001b[0m\n\u001b[0;32m     34\u001b[0m         \u001b[0mnwa\u001b[0m\u001b[1;33m.\u001b[0m\u001b[0mtrig_meas\u001b[0m\u001b[1;33m(\u001b[0m\u001b[1;33m)\u001b[0m\u001b[1;33m\u001b[0m\u001b[1;33m\u001b[0m\u001b[0m\n\u001b[1;32m---> 35\u001b[1;33m         \u001b[0mx_axis\u001b[0m \u001b[1;33m=\u001b[0m \u001b[0mnwa\u001b[0m\u001b[1;33m.\u001b[0m\u001b[0mget_X_axis_values\u001b[0m\u001b[1;33m(\u001b[0m\u001b[1;33m)\u001b[0m\u001b[1;33m\u001b[0m\u001b[1;33m\u001b[0m\u001b[0m\n\u001b[0m\u001b[0;32m     36\u001b[0m         \u001b[0mtemp_data\u001b[0m \u001b[1;33m=\u001b[0m \u001b[0mnwa\u001b[0m\u001b[1;33m.\u001b[0m\u001b[0mget_data\u001b[0m\u001b[1;33m(\u001b[0m\u001b[1;36m1\u001b[0m\u001b[1;33m)\u001b[0m\u001b[1;33m\u001b[0m\u001b[1;33m\u001b[0m\u001b[0m\n\u001b[0;32m     37\u001b[0m \u001b[1;33m\u001b[0m\u001b[0m\n",
      "\u001b[1;32m~\\python anaconda\\LQCE-master\\LQCE\\zvl13.py\u001b[0m in \u001b[0;36mget_X_axis_values\u001b[1;34m(self)\u001b[0m\n\u001b[0;32m    117\u001b[0m         \u001b[0mself\u001b[0m\u001b[1;33m.\u001b[0m\u001b[0mwrite\u001b[0m\u001b[1;33m(\u001b[0m\u001b[1;34m\"SYSTEM:DISPLAY:UPDATE {}\"\u001b[0m\u001b[1;33m.\u001b[0m\u001b[0mformat\u001b[0m\u001b[1;33m(\u001b[0m\u001b[0mdisplay_state\u001b[0m\u001b[1;33m)\u001b[0m\u001b[1;33m)\u001b[0m\u001b[1;33m\u001b[0m\u001b[1;33m\u001b[0m\u001b[0m\n\u001b[0;32m    118\u001b[0m     \u001b[1;32mdef\u001b[0m \u001b[0mget_X_axis_values\u001b[0m\u001b[1;33m(\u001b[0m\u001b[0mself\u001b[0m\u001b[1;33m)\u001b[0m\u001b[1;33m:\u001b[0m\u001b[1;33m\u001b[0m\u001b[1;33m\u001b[0m\u001b[0m\n\u001b[1;32m--> 119\u001b[1;33m         \u001b[1;32mreturn\u001b[0m \u001b[1;33m(\u001b[0m\u001b[0mnp\u001b[0m\u001b[1;33m.\u001b[0m\u001b[0mfromstring\u001b[0m\u001b[1;33m(\u001b[0m\u001b[0mself\u001b[0m\u001b[1;33m.\u001b[0m\u001b[0mquery\u001b[0m\u001b[1;33m(\u001b[0m\u001b[1;34m\"CALCulate1:DATA:STIMulus?\"\u001b[0m\u001b[1;33m)\u001b[0m\u001b[1;33m,\u001b[0m \u001b[0msep\u001b[0m \u001b[1;33m=\u001b[0m \u001b[1;34m','\u001b[0m\u001b[1;33m)\u001b[0m\u001b[1;33m)\u001b[0m\u001b[1;33m\u001b[0m\u001b[1;33m\u001b[0m\u001b[0m\n\u001b[0m\u001b[0;32m    120\u001b[0m     \u001b[1;32mdef\u001b[0m \u001b[0mconvert_data_to_format\u001b[0m\u001b[1;33m(\u001b[0m\u001b[0mself\u001b[0m\u001b[1;33m,\u001b[0m \u001b[0mdata\u001b[0m\u001b[1;33m,\u001b[0m \u001b[0mdata_format\u001b[0m\u001b[1;33m)\u001b[0m\u001b[1;33m:\u001b[0m\u001b[1;33m\u001b[0m\u001b[1;33m\u001b[0m\u001b[0m\n\u001b[0;32m    121\u001b[0m         \u001b[0mconverted_data\u001b[0m \u001b[1;33m=\u001b[0m \u001b[0mnp\u001b[0m\u001b[1;33m.\u001b[0m\u001b[0marray\u001b[0m\u001b[1;33m(\u001b[0m\u001b[1;33m)\u001b[0m\u001b[1;33m\u001b[0m\u001b[1;33m\u001b[0m\u001b[0m\n",
      "\u001b[1;32m~\\python anaconda\\LQCE-master\\LQCE\\instr.py\u001b[0m in \u001b[0;36mquery\u001b[1;34m(self, command)\u001b[0m\n\u001b[0;32m     62\u001b[0m     \u001b[1;32mdef\u001b[0m \u001b[0mquery\u001b[0m\u001b[1;33m(\u001b[0m\u001b[0mself\u001b[0m\u001b[1;33m,\u001b[0m \u001b[0mcommand\u001b[0m\u001b[1;33m)\u001b[0m\u001b[1;33m:\u001b[0m\u001b[1;33m\u001b[0m\u001b[1;33m\u001b[0m\u001b[0m\n\u001b[0;32m     63\u001b[0m         \u001b[1;31m# print(\"Querying {0}...\".format(command))\u001b[0m\u001b[1;33m\u001b[0m\u001b[1;33m\u001b[0m\u001b[1;33m\u001b[0m\u001b[0m\n\u001b[1;32m---> 64\u001b[1;33m         \u001b[1;32mreturn\u001b[0m \u001b[0mself\u001b[0m\u001b[1;33m.\u001b[0m\u001b[0m_visainstrument\u001b[0m\u001b[1;33m.\u001b[0m\u001b[0mquery\u001b[0m\u001b[1;33m(\u001b[0m\u001b[0mcommand\u001b[0m\u001b[1;33m)\u001b[0m\u001b[1;33m\u001b[0m\u001b[1;33m\u001b[0m\u001b[0m\n\u001b[0m\u001b[0;32m     65\u001b[0m \u001b[1;33m\u001b[0m\u001b[0m\n\u001b[0;32m     66\u001b[0m     \u001b[1;32mdef\u001b[0m \u001b[0mwrite\u001b[0m\u001b[1;33m(\u001b[0m\u001b[0mself\u001b[0m\u001b[1;33m,\u001b[0m \u001b[0mcommand\u001b[0m\u001b[1;33m)\u001b[0m\u001b[1;33m:\u001b[0m\u001b[1;33m\u001b[0m\u001b[1;33m\u001b[0m\u001b[0m\n",
      "\u001b[1;32m~\\Anaconda3\\lib\\site-packages\\pyvisa\\resources\\messagebased.py\u001b[0m in \u001b[0;36mquery\u001b[1;34m(self, message, delay)\u001b[0m\n\u001b[0;32m    567\u001b[0m         \u001b[1;32mif\u001b[0m \u001b[0mdelay\u001b[0m \u001b[1;33m>\u001b[0m \u001b[1;36m0.0\u001b[0m\u001b[1;33m:\u001b[0m\u001b[1;33m\u001b[0m\u001b[1;33m\u001b[0m\u001b[0m\n\u001b[0;32m    568\u001b[0m             \u001b[0mtime\u001b[0m\u001b[1;33m.\u001b[0m\u001b[0msleep\u001b[0m\u001b[1;33m(\u001b[0m\u001b[0mdelay\u001b[0m\u001b[1;33m)\u001b[0m\u001b[1;33m\u001b[0m\u001b[1;33m\u001b[0m\u001b[0m\n\u001b[1;32m--> 569\u001b[1;33m         \u001b[1;32mreturn\u001b[0m \u001b[0mself\u001b[0m\u001b[1;33m.\u001b[0m\u001b[0mread\u001b[0m\u001b[1;33m(\u001b[0m\u001b[1;33m)\u001b[0m\u001b[1;33m\u001b[0m\u001b[1;33m\u001b[0m\u001b[0m\n\u001b[0m\u001b[0;32m    570\u001b[0m \u001b[1;33m\u001b[0m\u001b[0m\n\u001b[0;32m    571\u001b[0m     \u001b[1;32mdef\u001b[0m \u001b[0mask\u001b[0m\u001b[1;33m(\u001b[0m\u001b[0mself\u001b[0m\u001b[1;33m,\u001b[0m \u001b[0mmessage\u001b[0m\u001b[1;33m,\u001b[0m \u001b[0mdelay\u001b[0m\u001b[1;33m=\u001b[0m\u001b[1;32mNone\u001b[0m\u001b[1;33m)\u001b[0m\u001b[1;33m:\u001b[0m\u001b[1;33m\u001b[0m\u001b[1;33m\u001b[0m\u001b[0m\n",
      "\u001b[1;32m~\\Anaconda3\\lib\\site-packages\\pyvisa\\resources\\messagebased.py\u001b[0m in \u001b[0;36mread\u001b[1;34m(self, termination, encoding)\u001b[0m\n\u001b[0;32m    411\u001b[0m         \u001b[1;32mif\u001b[0m \u001b[0mtermination\u001b[0m \u001b[1;32mis\u001b[0m \u001b[1;32mNone\u001b[0m\u001b[1;33m:\u001b[0m\u001b[1;33m\u001b[0m\u001b[1;33m\u001b[0m\u001b[0m\n\u001b[0;32m    412\u001b[0m             \u001b[0mtermination\u001b[0m \u001b[1;33m=\u001b[0m \u001b[0mself\u001b[0m\u001b[1;33m.\u001b[0m\u001b[0m_read_termination\u001b[0m\u001b[1;33m\u001b[0m\u001b[1;33m\u001b[0m\u001b[0m\n\u001b[1;32m--> 413\u001b[1;33m             \u001b[0mmessage\u001b[0m \u001b[1;33m=\u001b[0m \u001b[0mself\u001b[0m\u001b[1;33m.\u001b[0m\u001b[0m_read_raw\u001b[0m\u001b[1;33m(\u001b[0m\u001b[1;33m)\u001b[0m\u001b[1;33m.\u001b[0m\u001b[0mdecode\u001b[0m\u001b[1;33m(\u001b[0m\u001b[0menco\u001b[0m\u001b[1;33m)\u001b[0m\u001b[1;33m\u001b[0m\u001b[1;33m\u001b[0m\u001b[0m\n\u001b[0m\u001b[0;32m    414\u001b[0m         \u001b[1;32melse\u001b[0m\u001b[1;33m:\u001b[0m\u001b[1;33m\u001b[0m\u001b[1;33m\u001b[0m\u001b[0m\n\u001b[0;32m    415\u001b[0m             \u001b[1;32mwith\u001b[0m \u001b[0mself\u001b[0m\u001b[1;33m.\u001b[0m\u001b[0mread_termination_context\u001b[0m\u001b[1;33m(\u001b[0m\u001b[0mtermination\u001b[0m\u001b[1;33m)\u001b[0m\u001b[1;33m:\u001b[0m\u001b[1;33m\u001b[0m\u001b[1;33m\u001b[0m\u001b[0m\n",
      "\u001b[1;32m~\\Anaconda3\\lib\\site-packages\\pyvisa\\resources\\messagebased.py\u001b[0m in \u001b[0;36m_read_raw\u001b[1;34m(self, size)\u001b[0m\n\u001b[0;32m    384\u001b[0m                     logger.debug('%s - reading %d bytes (last status %r)',\n\u001b[0;32m    385\u001b[0m                                  self._resource_name, size, status)\n\u001b[1;32m--> 386\u001b[1;33m                     \u001b[0mchunk\u001b[0m\u001b[1;33m,\u001b[0m \u001b[0mstatus\u001b[0m \u001b[1;33m=\u001b[0m \u001b[0mself\u001b[0m\u001b[1;33m.\u001b[0m\u001b[0mvisalib\u001b[0m\u001b[1;33m.\u001b[0m\u001b[0mread\u001b[0m\u001b[1;33m(\u001b[0m\u001b[0mself\u001b[0m\u001b[1;33m.\u001b[0m\u001b[0msession\u001b[0m\u001b[1;33m,\u001b[0m \u001b[0msize\u001b[0m\u001b[1;33m)\u001b[0m\u001b[1;33m\u001b[0m\u001b[1;33m\u001b[0m\u001b[0m\n\u001b[0m\u001b[0;32m    387\u001b[0m                     \u001b[0mret\u001b[0m\u001b[1;33m.\u001b[0m\u001b[0mextend\u001b[0m\u001b[1;33m(\u001b[0m\u001b[0mchunk\u001b[0m\u001b[1;33m)\u001b[0m\u001b[1;33m\u001b[0m\u001b[1;33m\u001b[0m\u001b[0m\n\u001b[0;32m    388\u001b[0m             \u001b[1;32mexcept\u001b[0m \u001b[0merrors\u001b[0m\u001b[1;33m.\u001b[0m\u001b[0mVisaIOError\u001b[0m \u001b[1;32mas\u001b[0m \u001b[0me\u001b[0m\u001b[1;33m:\u001b[0m\u001b[1;33m\u001b[0m\u001b[1;33m\u001b[0m\u001b[0m\n",
      "\u001b[1;32m~\\Anaconda3\\lib\\site-packages\\pyvisa\\ctwrapper\\functions.py\u001b[0m in \u001b[0;36mread\u001b[1;34m(library, session, count)\u001b[0m\n\u001b[0;32m   1582\u001b[0m     \u001b[0mbuffer\u001b[0m \u001b[1;33m=\u001b[0m \u001b[0mcreate_string_buffer\u001b[0m\u001b[1;33m(\u001b[0m\u001b[0mcount\u001b[0m\u001b[1;33m)\u001b[0m\u001b[1;33m\u001b[0m\u001b[1;33m\u001b[0m\u001b[0m\n\u001b[0;32m   1583\u001b[0m     \u001b[0mreturn_count\u001b[0m \u001b[1;33m=\u001b[0m \u001b[0mViUInt32\u001b[0m\u001b[1;33m(\u001b[0m\u001b[1;33m)\u001b[0m\u001b[1;33m\u001b[0m\u001b[1;33m\u001b[0m\u001b[0m\n\u001b[1;32m-> 1584\u001b[1;33m     \u001b[0mret\u001b[0m \u001b[1;33m=\u001b[0m \u001b[0mlibrary\u001b[0m\u001b[1;33m.\u001b[0m\u001b[0mviRead\u001b[0m\u001b[1;33m(\u001b[0m\u001b[0msession\u001b[0m\u001b[1;33m,\u001b[0m \u001b[0mbuffer\u001b[0m\u001b[1;33m,\u001b[0m \u001b[0mcount\u001b[0m\u001b[1;33m,\u001b[0m \u001b[0mbyref\u001b[0m\u001b[1;33m(\u001b[0m\u001b[0mreturn_count\u001b[0m\u001b[1;33m)\u001b[0m\u001b[1;33m)\u001b[0m\u001b[1;33m\u001b[0m\u001b[1;33m\u001b[0m\u001b[0m\n\u001b[0m\u001b[0;32m   1585\u001b[0m     \u001b[1;32mreturn\u001b[0m \u001b[0mbuffer\u001b[0m\u001b[1;33m.\u001b[0m\u001b[0mraw\u001b[0m\u001b[1;33m[\u001b[0m\u001b[1;33m:\u001b[0m\u001b[0mreturn_count\u001b[0m\u001b[1;33m.\u001b[0m\u001b[0mvalue\u001b[0m\u001b[1;33m]\u001b[0m\u001b[1;33m,\u001b[0m \u001b[0mret\u001b[0m\u001b[1;33m\u001b[0m\u001b[1;33m\u001b[0m\u001b[0m\n\u001b[0;32m   1586\u001b[0m \u001b[1;33m\u001b[0m\u001b[0m\n",
      "\u001b[1;32m~\\Anaconda3\\lib\\site-packages\\pyvisa\\ctwrapper\\highlevel.py\u001b[0m in \u001b[0;36m_return_handler\u001b[1;34m(self, ret_value, func, arguments)\u001b[0m\n\u001b[0;32m    147\u001b[0m             \u001b[0msetattr\u001b[0m\u001b[1;33m(\u001b[0m\u001b[0mself\u001b[0m\u001b[1;33m,\u001b[0m \u001b[0mmethod_name\u001b[0m\u001b[1;33m,\u001b[0m \u001b[0mgetattr\u001b[0m\u001b[1;33m(\u001b[0m\u001b[0mself\u001b[0m\u001b[1;33m.\u001b[0m\u001b[0mlib\u001b[0m\u001b[1;33m,\u001b[0m \u001b[0mmethod_name\u001b[0m\u001b[1;33m)\u001b[0m\u001b[1;33m)\u001b[0m\u001b[1;33m\u001b[0m\u001b[1;33m\u001b[0m\u001b[0m\n\u001b[0;32m    148\u001b[0m \u001b[1;33m\u001b[0m\u001b[0m\n\u001b[1;32m--> 149\u001b[1;33m     \u001b[1;32mdef\u001b[0m \u001b[0m_return_handler\u001b[0m\u001b[1;33m(\u001b[0m\u001b[0mself\u001b[0m\u001b[1;33m,\u001b[0m \u001b[0mret_value\u001b[0m\u001b[1;33m,\u001b[0m \u001b[0mfunc\u001b[0m\u001b[1;33m,\u001b[0m \u001b[0marguments\u001b[0m\u001b[1;33m)\u001b[0m\u001b[1;33m:\u001b[0m\u001b[1;33m\u001b[0m\u001b[1;33m\u001b[0m\u001b[0m\n\u001b[0m\u001b[0;32m    150\u001b[0m         \"\"\"Check return values for errors and warnings.\n\u001b[0;32m    151\u001b[0m         \"\"\"\n",
      "\u001b[1;31mKeyboardInterrupt\u001b[0m: "
     ]
    }
   ],
   "source": [
    "nwa.set_output_state(\"ON\")\n",
    "nwa.set_standard_config({\"power\":-10,\"nop\":5,\"averages\": 1, \"cf_span\":[7.058685e9, 8e6], \"bandwidth\":100, \"meas_counts\":5})\n",
    "nwa.set_timeout(500000)\n",
    "gen = N5173B_gen(\"TCPIP0::192.168.0.78::INSTR\")\n",
    "gen.set_modulation_state(0)\n",
    "gen.set_frequency(6.4e9)\n",
    "gen.set_output_state(\"ON\")\n",
    "gen.get_output_state()\n",
    "\n",
    "gen.set_power(-6)\n",
    "\n",
    "gen_freq_list = 135\n",
    "plt.ion()\n",
    "\n",
    "fig = plt.figure()\n",
    "\n",
    "pow_slice = []\n",
    "phase_slice = []\n",
    "\n",
    "for j in range(gen_freq_list):\n",
    "    \n",
    "\n",
    "    gen.set_frequency(6.4e9 + j*5e6, \"Hz\")\n",
    "    time.sleep(1)\n",
    "    temp_data = []\n",
    "    onetone_data = []\n",
    "    phase_data = []\n",
    "    \n",
    "    for i in range(20):\n",
    "        \n",
    "        \n",
    "        ncs.set_current(3,100e-6+1e-6*i)#10uA step\n",
    "        time.sleep(0.02)\n",
    "        nwa.trig_meas()\n",
    "        x_axis = nwa.get_X_axis_values()  \n",
    "        temp_data = nwa.get_data(1)\n",
    "        \n",
    "        temp_dB = np.average(temp_data[0],0)\n",
    "        #temp_Phase = temp_data[1]\n",
    "\n",
    "        #decay_data_result.append(temp_dB[0]) \n",
    "        \n",
    "        #data = nwa.get_data(int(nwa.get_meas_counts()))\n",
    "        \n",
    "        x_upd = x_axis#[]\n",
    "        y_upd = []\n",
    "        #nx = 101#x_upd.shape[0]\n",
    "        #no_labels = 5\n",
    "        #step_x = int(nx/(no_labels -1))\n",
    "        #x_positions = np.arange(0,nx,step_x)\n",
    "        #x_labels = x_upd[::step_x]\n",
    "        #plt.yticks(x_positions, x_labels)\n",
    "        \n",
    "        #z_upd.append(data[0][0])\n",
    "        #y_upd.append(i)\n",
    "        nwa_slice = temp_data[0][0]\n",
    "        nwa_slice_phase = temp_data[0][0]\n",
    "        onetone_data.append(nwa_slice[2])\n",
    "        \n",
    "        #onetone_data.append(temp_data[0])\n",
    "        phase_data.append(nwa_slice_phase[2])\n",
    "        #plt.imshow(np.transpose(z_upd),interpolation='nearest', aspect='auto', cmap=cm.RdBu)\n",
    "        #nwa.set_timeout(1000)\n",
    "        #plt.plot(x_axis, np.average(data[0],0))\n",
    "        #line1.set_ydata(data[0][i][50])\n",
    "        #fig.canvas.draw()\n",
    "        #fig.canvas.flush_events()\n",
    "    #print(\"Current freq - {}\".format((j+1)*20e6+5e9)    \n",
    "    pow_slice.append(onetone_data)\n",
    "    phase_slice.append(phase_data)\n",
    "    plt.imshow(pow_slice,interpolation='nearest', aspect='auto', cmap=cm.bone, origin = 'lower')\n",
    "    #plt.imshow(phase_slice,interpolation='nearest', aspect='auto', cmap=cm.bone, origin = 'lower')\n",
    "    plt.title(\"Two tone spectroscopy - {}/{}\".format((j+1), gen_freq_list))\n",
    "    fig.canvas.draw()\n",
    "    fig.canvas.flush_events()        \n",
    "plt.colorbar()"
   ]
  },
  {
   "cell_type": "code",
   "execution_count": 332,
   "metadata": {},
   "outputs": [
    {
     "data": {
      "text/plain": [
       "6655000000.0"
      ]
     },
     "execution_count": 332,
     "metadata": {},
     "output_type": "execute_result"
    }
   ],
   "source": [
    "#fig = plt.figure()\n",
    "#plt.imshow(pow_slice,interpolation='nearest', aspect='auto', cmap=cm.bone, origin = 'lower')\n",
    "6.3e9 + 5e6*71"
   ]
  },
  {
   "cell_type": "markdown",
   "metadata": {},
   "source": [
    "# __Save Two tone Spectroscopy__"
   ]
  },
  {
   "cell_type": "code",
   "execution_count": 519,
   "metadata": {},
   "outputs": [],
   "source": [
    "np.save(\"E:\\\\MEASUREMENTS\\\\10mK_BlueFors_BFLD400\\\\RUN33\\\\run33\\\\two_3rd_+7dbm_6.4e9_135p_90e-6_1e-6_40_5av_probe_0dbm_drive_-6dbm\", pow_slice)\n",
    "#fig = plt.figure()\n",
    "#data_2_tone = np.load(\"E:\\\\MEASUREMENTS\\\\10mK_BlueFors_BFLD400\\\\RUN33\\\\run33\\\\two_tone_6.3e9_180p_90e-6_1e-6_40_200av.npy\")\n",
    "#plt.imshow(data_2_tone, interpolation='nearest', aspect='auto', cmap=cm.bone, origin = 'lower')"
   ]
  },
  {
   "cell_type": "code",
   "execution_count": 104,
   "metadata": {},
   "outputs": [
    {
     "data": {
      "text/plain": [
       "151"
      ]
     },
     "execution_count": 104,
     "metadata": {},
     "output_type": "execute_result"
    }
   ],
   "source": [
    "data_dt = []\n",
    "for i in range(len(pow_slice)):\n",
    "    data_temp = pow_slice[i]\n",
    "    data_dt.append(data_temp[20])\n",
    "np.max(data_dt)\n",
    "np.argmax(data_dt)\n"
   ]
  },
  {
   "cell_type": "code",
   "execution_count": 105,
   "metadata": {},
   "outputs": [
    {
     "data": {
      "text/plain": [
       "<matplotlib.image.AxesImage at 0x1a3883c8>"
      ]
     },
     "execution_count": 105,
     "metadata": {},
     "output_type": "execute_result"
    }
   ],
   "source": [
    "plt.ion()\n",
    "\n",
    "fig = plt.figure()\n",
    "plt.imshow(pow_slice,interpolation='nearest', aspect='auto', cmap=cm.bone, origin = 'lower')"
   ]
  },
  {
   "cell_type": "code",
   "execution_count": 343,
   "metadata": {},
   "outputs": [
    {
     "name": "stdout",
     "output_type": "stream",
     "text": [
      "2.0e-08\n",
      "4.0e-08\n",
      "6.0e-08\n",
      "8.0e-08\n",
      "1.0e-07\n",
      "1.2e-07\n",
      "1.4e-07\n",
      "1.6e-07\n",
      "1.8e-07\n",
      "2.0e-07\n",
      "2.2e-07\n"
     ]
    }
   ],
   "source": [
    "for i in range(11):\n",
    "    #print(20e-9 + i*20e-9)\n",
    "    #print(format(20e-9 + i*20e-9, \"5.3f\"))\n",
    "    print(\"{:.1e}\".format(20e-9 + i*20e-9))"
   ]
  },
  {
   "cell_type": "markdown",
   "metadata": {},
   "source": [
    "# __FIT SIN(F * x) * exp(decay)__"
   ]
  },
  {
   "cell_type": "code",
   "execution_count": 471,
   "metadata": {},
   "outputs": [
    {
     "ename": "ValueError",
     "evalue": "operands could not be broadcast together with shapes (360,) (0,) ",
     "output_type": "error",
     "traceback": [
      "\u001b[1;31m---------------------------------------------------------------------------\u001b[0m",
      "\u001b[1;31mValueError\u001b[0m                                Traceback (most recent call last)",
      "\u001b[1;32m<ipython-input-471-cf2c4da0bbfe>\u001b[0m in \u001b[0;36m<module>\u001b[1;34m\u001b[0m\n\u001b[0;32m     13\u001b[0m \u001b[0mxdata\u001b[0m \u001b[1;33m=\u001b[0m \u001b[0mnp\u001b[0m\u001b[1;33m.\u001b[0m\u001b[0mlinspace\u001b[0m\u001b[1;33m(\u001b[0m\u001b[1;36m0\u001b[0m\u001b[1;33m,\u001b[0m \u001b[1;36m10\u001b[0m\u001b[1;33m*\u001b[0m\u001b[0mnp\u001b[0m\u001b[1;33m.\u001b[0m\u001b[0mpi\u001b[0m\u001b[1;33m,\u001b[0m \u001b[1;36m360\u001b[0m\u001b[1;33m)\u001b[0m\u001b[1;33m\u001b[0m\u001b[1;33m\u001b[0m\u001b[0m\n\u001b[0;32m     14\u001b[0m \u001b[1;33m\u001b[0m\u001b[0m\n\u001b[1;32m---> 15\u001b[1;33m \u001b[0mparams\u001b[0m\u001b[1;33m,\u001b[0m \u001b[0mparams_covariance\u001b[0m  \u001b[1;33m=\u001b[0m \u001b[0mscipy\u001b[0m\u001b[1;33m.\u001b[0m\u001b[0moptimize\u001b[0m\u001b[1;33m.\u001b[0m\u001b[0mcurve_fit\u001b[0m\u001b[1;33m(\u001b[0m\u001b[0mfit_func\u001b[0m\u001b[1;33m,\u001b[0m \u001b[0mxdata\u001b[0m\u001b[1;33m,\u001b[0m \u001b[0mydata\u001b[0m\u001b[1;33m,\u001b[0m \u001b[0mp0\u001b[0m \u001b[1;33m=\u001b[0m \u001b[1;33m[\u001b[0m\u001b[1;36m5\u001b[0m\u001b[1;33m,\u001b[0m \u001b[1;36m9\u001b[0m\u001b[1;33m]\u001b[0m\u001b[1;33m)\u001b[0m\u001b[1;33m\u001b[0m\u001b[1;33m\u001b[0m\u001b[0m\n\u001b[0m\u001b[0;32m     16\u001b[0m \u001b[1;33m\u001b[0m\u001b[0m\n\u001b[0;32m     17\u001b[0m \u001b[0mprint\u001b[0m\u001b[1;33m(\u001b[0m\u001b[0mparams\u001b[0m\u001b[1;33m)\u001b[0m\u001b[1;33m\u001b[0m\u001b[1;33m\u001b[0m\u001b[0m\n",
      "\u001b[1;32m~\\Anaconda3\\lib\\site-packages\\scipy\\optimize\\minpack.py\u001b[0m in \u001b[0;36mcurve_fit\u001b[1;34m(f, xdata, ydata, p0, sigma, absolute_sigma, check_finite, bounds, method, jac, **kwargs)\u001b[0m\n\u001b[0;32m    749\u001b[0m         \u001b[1;31m# Remove full_output from kwargs, otherwise we're passing it in twice.\u001b[0m\u001b[1;33m\u001b[0m\u001b[1;33m\u001b[0m\u001b[1;33m\u001b[0m\u001b[0m\n\u001b[0;32m    750\u001b[0m         \u001b[0mreturn_full\u001b[0m \u001b[1;33m=\u001b[0m \u001b[0mkwargs\u001b[0m\u001b[1;33m.\u001b[0m\u001b[0mpop\u001b[0m\u001b[1;33m(\u001b[0m\u001b[1;34m'full_output'\u001b[0m\u001b[1;33m,\u001b[0m \u001b[1;32mFalse\u001b[0m\u001b[1;33m)\u001b[0m\u001b[1;33m\u001b[0m\u001b[1;33m\u001b[0m\u001b[0m\n\u001b[1;32m--> 751\u001b[1;33m         \u001b[0mres\u001b[0m \u001b[1;33m=\u001b[0m \u001b[0mleastsq\u001b[0m\u001b[1;33m(\u001b[0m\u001b[0mfunc\u001b[0m\u001b[1;33m,\u001b[0m \u001b[0mp0\u001b[0m\u001b[1;33m,\u001b[0m \u001b[0mDfun\u001b[0m\u001b[1;33m=\u001b[0m\u001b[0mjac\u001b[0m\u001b[1;33m,\u001b[0m \u001b[0mfull_output\u001b[0m\u001b[1;33m=\u001b[0m\u001b[1;36m1\u001b[0m\u001b[1;33m,\u001b[0m \u001b[1;33m**\u001b[0m\u001b[0mkwargs\u001b[0m\u001b[1;33m)\u001b[0m\u001b[1;33m\u001b[0m\u001b[1;33m\u001b[0m\u001b[0m\n\u001b[0m\u001b[0;32m    752\u001b[0m         \u001b[0mpopt\u001b[0m\u001b[1;33m,\u001b[0m \u001b[0mpcov\u001b[0m\u001b[1;33m,\u001b[0m \u001b[0minfodict\u001b[0m\u001b[1;33m,\u001b[0m \u001b[0merrmsg\u001b[0m\u001b[1;33m,\u001b[0m \u001b[0mier\u001b[0m \u001b[1;33m=\u001b[0m \u001b[0mres\u001b[0m\u001b[1;33m\u001b[0m\u001b[1;33m\u001b[0m\u001b[0m\n\u001b[0;32m    753\u001b[0m         \u001b[0mcost\u001b[0m \u001b[1;33m=\u001b[0m \u001b[0mnp\u001b[0m\u001b[1;33m.\u001b[0m\u001b[0msum\u001b[0m\u001b[1;33m(\u001b[0m\u001b[0minfodict\u001b[0m\u001b[1;33m[\u001b[0m\u001b[1;34m'fvec'\u001b[0m\u001b[1;33m]\u001b[0m \u001b[1;33m**\u001b[0m \u001b[1;36m2\u001b[0m\u001b[1;33m)\u001b[0m\u001b[1;33m\u001b[0m\u001b[1;33m\u001b[0m\u001b[0m\n",
      "\u001b[1;32m~\\Anaconda3\\lib\\site-packages\\scipy\\optimize\\minpack.py\u001b[0m in \u001b[0;36mleastsq\u001b[1;34m(func, x0, args, Dfun, full_output, col_deriv, ftol, xtol, gtol, maxfev, epsfcn, factor, diag)\u001b[0m\n\u001b[0;32m    381\u001b[0m     \u001b[1;32mif\u001b[0m \u001b[1;32mnot\u001b[0m \u001b[0misinstance\u001b[0m\u001b[1;33m(\u001b[0m\u001b[0margs\u001b[0m\u001b[1;33m,\u001b[0m \u001b[0mtuple\u001b[0m\u001b[1;33m)\u001b[0m\u001b[1;33m:\u001b[0m\u001b[1;33m\u001b[0m\u001b[1;33m\u001b[0m\u001b[0m\n\u001b[0;32m    382\u001b[0m         \u001b[0margs\u001b[0m \u001b[1;33m=\u001b[0m \u001b[1;33m(\u001b[0m\u001b[0margs\u001b[0m\u001b[1;33m,\u001b[0m\u001b[1;33m)\u001b[0m\u001b[1;33m\u001b[0m\u001b[1;33m\u001b[0m\u001b[0m\n\u001b[1;32m--> 383\u001b[1;33m     \u001b[0mshape\u001b[0m\u001b[1;33m,\u001b[0m \u001b[0mdtype\u001b[0m \u001b[1;33m=\u001b[0m \u001b[0m_check_func\u001b[0m\u001b[1;33m(\u001b[0m\u001b[1;34m'leastsq'\u001b[0m\u001b[1;33m,\u001b[0m \u001b[1;34m'func'\u001b[0m\u001b[1;33m,\u001b[0m \u001b[0mfunc\u001b[0m\u001b[1;33m,\u001b[0m \u001b[0mx0\u001b[0m\u001b[1;33m,\u001b[0m \u001b[0margs\u001b[0m\u001b[1;33m,\u001b[0m \u001b[0mn\u001b[0m\u001b[1;33m)\u001b[0m\u001b[1;33m\u001b[0m\u001b[1;33m\u001b[0m\u001b[0m\n\u001b[0m\u001b[0;32m    384\u001b[0m     \u001b[0mm\u001b[0m \u001b[1;33m=\u001b[0m \u001b[0mshape\u001b[0m\u001b[1;33m[\u001b[0m\u001b[1;36m0\u001b[0m\u001b[1;33m]\u001b[0m\u001b[1;33m\u001b[0m\u001b[1;33m\u001b[0m\u001b[0m\n\u001b[0;32m    385\u001b[0m     \u001b[1;32mif\u001b[0m \u001b[0mn\u001b[0m \u001b[1;33m>\u001b[0m \u001b[0mm\u001b[0m\u001b[1;33m:\u001b[0m\u001b[1;33m\u001b[0m\u001b[1;33m\u001b[0m\u001b[0m\n",
      "\u001b[1;32m~\\Anaconda3\\lib\\site-packages\\scipy\\optimize\\minpack.py\u001b[0m in \u001b[0;36m_check_func\u001b[1;34m(checker, argname, thefunc, x0, args, numinputs, output_shape)\u001b[0m\n\u001b[0;32m     25\u001b[0m def _check_func(checker, argname, thefunc, x0, args, numinputs,\n\u001b[0;32m     26\u001b[0m                 output_shape=None):\n\u001b[1;32m---> 27\u001b[1;33m     \u001b[0mres\u001b[0m \u001b[1;33m=\u001b[0m \u001b[0matleast_1d\u001b[0m\u001b[1;33m(\u001b[0m\u001b[0mthefunc\u001b[0m\u001b[1;33m(\u001b[0m\u001b[1;33m*\u001b[0m\u001b[1;33m(\u001b[0m\u001b[1;33m(\u001b[0m\u001b[0mx0\u001b[0m\u001b[1;33m[\u001b[0m\u001b[1;33m:\u001b[0m\u001b[0mnuminputs\u001b[0m\u001b[1;33m]\u001b[0m\u001b[1;33m,\u001b[0m\u001b[1;33m)\u001b[0m \u001b[1;33m+\u001b[0m \u001b[0margs\u001b[0m\u001b[1;33m)\u001b[0m\u001b[1;33m)\u001b[0m\u001b[1;33m)\u001b[0m\u001b[1;33m\u001b[0m\u001b[1;33m\u001b[0m\u001b[0m\n\u001b[0m\u001b[0;32m     28\u001b[0m     \u001b[1;32mif\u001b[0m \u001b[1;33m(\u001b[0m\u001b[0moutput_shape\u001b[0m \u001b[1;32mis\u001b[0m \u001b[1;32mnot\u001b[0m \u001b[1;32mNone\u001b[0m\u001b[1;33m)\u001b[0m \u001b[1;32mand\u001b[0m \u001b[1;33m(\u001b[0m\u001b[0mshape\u001b[0m\u001b[1;33m(\u001b[0m\u001b[0mres\u001b[0m\u001b[1;33m)\u001b[0m \u001b[1;33m!=\u001b[0m \u001b[0moutput_shape\u001b[0m\u001b[1;33m)\u001b[0m\u001b[1;33m:\u001b[0m\u001b[1;33m\u001b[0m\u001b[1;33m\u001b[0m\u001b[0m\n\u001b[0;32m     29\u001b[0m         \u001b[1;32mif\u001b[0m \u001b[1;33m(\u001b[0m\u001b[0moutput_shape\u001b[0m\u001b[1;33m[\u001b[0m\u001b[1;36m0\u001b[0m\u001b[1;33m]\u001b[0m \u001b[1;33m!=\u001b[0m \u001b[1;36m1\u001b[0m\u001b[1;33m)\u001b[0m\u001b[1;33m:\u001b[0m\u001b[1;33m\u001b[0m\u001b[1;33m\u001b[0m\u001b[0m\n",
      "\u001b[1;32m~\\Anaconda3\\lib\\site-packages\\scipy\\optimize\\minpack.py\u001b[0m in \u001b[0;36mfunc_wrapped\u001b[1;34m(params)\u001b[0m\n\u001b[0;32m    461\u001b[0m     \u001b[1;32mif\u001b[0m \u001b[0mtransform\u001b[0m \u001b[1;32mis\u001b[0m \u001b[1;32mNone\u001b[0m\u001b[1;33m:\u001b[0m\u001b[1;33m\u001b[0m\u001b[1;33m\u001b[0m\u001b[0m\n\u001b[0;32m    462\u001b[0m         \u001b[1;32mdef\u001b[0m \u001b[0mfunc_wrapped\u001b[0m\u001b[1;33m(\u001b[0m\u001b[0mparams\u001b[0m\u001b[1;33m)\u001b[0m\u001b[1;33m:\u001b[0m\u001b[1;33m\u001b[0m\u001b[1;33m\u001b[0m\u001b[0m\n\u001b[1;32m--> 463\u001b[1;33m             \u001b[1;32mreturn\u001b[0m \u001b[0mfunc\u001b[0m\u001b[1;33m(\u001b[0m\u001b[0mxdata\u001b[0m\u001b[1;33m,\u001b[0m \u001b[1;33m*\u001b[0m\u001b[0mparams\u001b[0m\u001b[1;33m)\u001b[0m \u001b[1;33m-\u001b[0m \u001b[0mydata\u001b[0m\u001b[1;33m\u001b[0m\u001b[1;33m\u001b[0m\u001b[0m\n\u001b[0m\u001b[0;32m    464\u001b[0m     \u001b[1;32melif\u001b[0m \u001b[0mtransform\u001b[0m\u001b[1;33m.\u001b[0m\u001b[0mndim\u001b[0m \u001b[1;33m==\u001b[0m \u001b[1;36m1\u001b[0m\u001b[1;33m:\u001b[0m\u001b[1;33m\u001b[0m\u001b[1;33m\u001b[0m\u001b[0m\n\u001b[0;32m    465\u001b[0m         \u001b[1;32mdef\u001b[0m \u001b[0mfunc_wrapped\u001b[0m\u001b[1;33m(\u001b[0m\u001b[0mparams\u001b[0m\u001b[1;33m)\u001b[0m\u001b[1;33m:\u001b[0m\u001b[1;33m\u001b[0m\u001b[1;33m\u001b[0m\u001b[0m\n",
      "\u001b[1;31mValueError\u001b[0m: operands could not be broadcast together with shapes (360,) (0,) "
     ]
    }
   ],
   "source": [
    "plt.ion()\n",
    "\n",
    "fig = plt.figure()\n",
    "\n",
    "def fit_func(xi, ai, bi):\n",
    "    return ai*np.sin(bi * xi)\n",
    "def fit_decay_rabi(xi, ai, bi, decay):\n",
    "    return ai*np.sin(bi * xi)*np.exp(decay)\n",
    "\n",
    "x = np.linspace(0, 10*np.pi, 360)\n",
    "\n",
    "ydata = decay_data_result #5*np.sin(5*x) + np.random.normal(size=1000)    \n",
    "xdata = np.linspace(0, 10*np.pi, 360)   \n",
    "\n",
    "params, params_covariance  = scipy.optimize.curve_fit(fit_func, xdata, ydata, p0 = [5, 9])\n",
    "\n",
    "print(params)\n",
    "\n",
    "plt.plot(fit_func(xdata, params[0], params[1]))\n",
    "plt.plot(ydata)\n"
   ]
  },
  {
   "cell_type": "code",
   "execution_count": null,
   "metadata": {},
   "outputs": [],
   "source": [
    "nwa.set_output_state(\"ON\")\n",
    "nwa.set_standard_config({\"power\":-50,\"nop\":101,\"averages\": 1, \"cf_span\":[2.5e9, 2e9], \"bandwidth\":10, \"meas_counts\":1})\n",
    "\n",
    "ncs.enable_channel(1)\n",
    "ncs.set_output_state(1,1)\n",
    "ncs.set_range(1,\"10mA\")\n",
    "ncs.set_current(1,0)\n",
    "nwa.set_timeout(200000)\n",
    "\n",
    "\n",
    "plt.ion()\n",
    "\n",
    "fig = plt.figure()\n",
    "z_upd = []\n",
    "\n",
    "for i in range(10):\n",
    "    ncs.set_current(1,i*1e-4)\n",
    "    nwa.trig_meas()\n",
    "    x_axis = nwa.get_X_axis_values()   \n",
    "    data = nwa.get_data(int(nwa.get_meas_counts()))\n",
    "    x_upd = x_axis#[]\n",
    "    y_upd = []\n",
    "    nx = 101#x_upd.shape[0]\n",
    "    no_labels = 5\n",
    "    step_x = int(nx/(no_labels -1))\n",
    "    x_positions = np.arange(0,nx,step_x)\n",
    "    x_labels = x_upd[::step_x]\n",
    "    plt.yticks(x_positions, x_labels)\n",
    "    \n",
    "    z_upd.append(data[0][0])\n",
    "    y_upd.append(i)\n",
    "    plt.imshow(np.transpose(z_upd),interpolation='nearest', aspect='auto', cmap=cm.seismic, origin = 'lower')\n",
    "    #nwa.set_timeout(1000)\n",
    "    #plt.plot(x_axis, np.average(data[0],0))\n",
    "    #line1.set_ydata(data[0][i][50])\n",
    "    fig.canvas.draw()\n",
    "    fig.canvas.flush_events()\n"
   ]
  },
  {
   "cell_type": "code",
   "execution_count": 11,
   "metadata": {},
   "outputs": [
    {
     "data": {
      "text/plain": [
       "<matplotlib.colorbar.Colorbar at 0xeb0b208>"
      ]
     },
     "execution_count": 11,
     "metadata": {},
     "output_type": "execute_result"
    }
   ],
   "source": [
    "from __future__ import division\n",
    "from matplotlib.patches import Patch\n",
    "from pylab import *\n",
    "\n",
    "\n",
    "y = np.linspace(0,1e-3,5)\n",
    "x = x_axis\n",
    "X,Y = meshgrid(y, x)\n",
    "\n",
    "\n",
    "Z = np.transpose(np.array(act_data))\n",
    "\n",
    "pcolor(X, Y, Z, cmap=cm.RdBu, vmax=abs(Z).max(), vmin=-abs(Z).max())\n",
    "colorbar()\n",
    "#axis([-3,3,-3,3])\n",
    "\n",
    "plt.ion()\n",
    "\n",
    "    fig.canvas.draw()\n",
    "    fig.canvas.flush_events()\n",
    "\n"
   ]
  },
  {
   "cell_type": "code",
   "execution_count": 74,
   "metadata": {},
   "outputs": [
    {
     "data": {
      "text/plain": [
       "<matplotlib.collections.QuadMesh at 0xfe82ba8>"
      ]
     },
     "execution_count": 74,
     "metadata": {},
     "output_type": "execute_result"
    }
   ],
   "source": [
    "import matplotlib.animation as animation\n",
    "\n",
    "\n",
    "fig2 = plt.figure()\n",
    "x = x_axis\n",
    "y = [np.arange(3)]\n",
    "base = np.array(act_data[0:3])\n",
    "X,Y = meshgrid(x, y)\n",
    "ims = []\n",
    "plt.pcolormesh(X, Y, base)\n",
    "\n",
    "\n"
   ]
  },
  {
   "cell_type": "code",
   "execution_count": 4,
   "metadata": {},
   "outputs": [],
   "source": [
    "x = np.arange(100)\n",
    "y = np.arange(100)\n",
    "temp = [[0]*len(x)]*len(y)\n",
    "nrows, ncols = 100, 100\n",
    "grid = temp #.reshape((nrows, ncols))\n",
    "\n",
    "for i in range(len(x)):\n",
    "    temp[i] = np.random.rand(100)\n",
    "fig = plt.figure()\n",
    "plt.imshow(grid, extent=(x.min(), x.max(), y.max(), y.min()),\n",
    "           interpolation='nearest', aspect='equal', cmap=cm.jet)\n",
    "plt.colorbar()\n",
    "\n",
    "plt.ion()\n",
    "x_upd = []\n",
    "y_upd = np.array([])\n",
    "z_upd = []\n",
    "\n",
    "for i in range(10):    \n",
    "    time.sleep(1)\n",
    "    #z_upd.append([1,2,3,4])\n",
    "    z_upd.append(np.random.rand(4))\n",
    "    plt.imshow(np.transpose(z_upd),interpolation='nearest', aspect='auto', cmap=cm.RdBu)\n",
    "    \n",
    "    fig.canvas.draw()\n",
    "    fig.canvas.flush_events()    \n",
    "\n"
   ]
  },
  {
   "cell_type": "code",
   "execution_count": 2,
   "metadata": {
    "collapsed": true
   },
   "outputs": [],
   "source": [
    "def serial_ports():\n",
    "    \"\"\" Lists serial port names\n",
    "\n",
    "        :raises EnvironmentError:\n",
    "            On unsupported or unknown platforms\n",
    "        :returns:\n",
    "            A list of the serial ports available on the system\n",
    "    \"\"\"\n",
    "    if sys.platform.startswith('win'):\n",
    "        ports = ['COM%s' % (i + 1) for i in range(256)]\n",
    "    elif sys.platform.startswith('linux') or sys.platform.startswith('cygwin'):\n",
    "        # this excludes your current terminal \"/dev/tty\"\n",
    "        ports = glob.glob('/dev/tty[A-Za-z]*')\n",
    "    elif sys.platform.startswith('darwin'):\n",
    "        ports = glob.glob('/dev/tty.*')\n",
    "    else:\n",
    "        raise EnvironmentError('Unsupported platform')\n",
    "\n",
    "    result = []\n",
    "    for port in ports:\n",
    "        try:\n",
    "            s = serial.Serial(port)\n",
    "            s.close()\n",
    "            result.append(port)\n",
    "        except (OSError, serial.SerialException):\n",
    "            pass\n",
    "    return result\n",
    "\n",
    "\n",
    "data_averaged = np.average(data,0)\n",
    "peak_data = scipy.signal.find_peaks(data_averaged, height=4, distance=100)\n",
    "print(peak_data[0])\n",
    "print(x_axis[peak_data[0][0]])#,x_axis[peak_data[0][1]],x_axis[peak_data[0][2]], x_axis[peak_data[0][3]],x_axis[peak_data[0][4]],x_axis[peak_data[0][5]])\n"
   ]
  }
 ],
 "metadata": {
  "kernelspec": {
   "display_name": "Python 3",
   "language": "python",
   "name": "python3"
  },
  "language_info": {
   "codemirror_mode": {
    "name": "ipython",
    "version": 3
   },
   "file_extension": ".py",
   "mimetype": "text/x-python",
   "name": "python",
   "nbconvert_exporter": "python",
   "pygments_lexer": "ipython3",
   "version": "3.7.1"
  }
 },
 "nbformat": 4,
 "nbformat_minor": 2
}
