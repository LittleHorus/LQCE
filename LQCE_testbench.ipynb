{
 "cells": [
  {
   "cell_type": "code",
   "execution_count": 2,
   "metadata": {},
   "outputs": [
    {
     "name": "stdout",
     "output_type": "stream",
     "text": [
      "Using matplotlib backend: Qt5Agg\n"
     ]
    }
   ],
   "source": [
    "import serial\n",
    "import plotly\n",
    "#import matplotlib as plt\n",
    "import sys\n",
    "import visa\n",
    "from LQCE.zvl13 import *\n",
    "from LQCE.ncs513 import *\n",
    "from LQCE.N5173B import *\n",
    "import matplotlib.pyplot as plt\n",
    "import numpy as np\n",
    "import math\n",
    "import matplotlib.cm as cm\n",
    "from matplotlib.backends.backend_pdf import PdfPages\n",
    "import time\n",
    "import scipy.signal\n",
    "%matplotlib \n"
   ]
  },
  {
   "cell_type": "code",
   "execution_count": 26,
   "metadata": {},
   "outputs": [],
   "source": [
    "gen = N5173B_gen(\"TCPIP0::192.168.1.50::INSTR\")\n",
    "#gen.set_modulation_state(0)\n",
    "gen.set_frequency(2.5,\"GHz\")\n",
    "gen.set_power(-10)\n",
    "float(gen.get_power())\n",
    "gen.set_output_state(\"OFF\")\n",
    "gen.get_output_state()\n",
    "for i in range(10):\n",
    "    gen.set_frequency(0.1*(i+1), \"GHz\")\n",
    "    time.sleep(1)\n",
    "    gen.set_power(-20 + i)\n",
    "    "
   ]
  },
  {
   "cell_type": "code",
   "execution_count": 90,
   "metadata": {},
   "outputs": [
    {
     "name": "stdout",
     "output_type": "stream",
     "text": [
      "[50]\n",
      "2500000000.0\n"
     ]
    }
   ],
   "source": [
    "data_averaged = np.average(data,0)\n",
    "peak_data = scipy.signal.find_peaks(data_averaged, height=4, distance=100)\n",
    "print(peak_data[0])\n",
    "print(x_axis[peak_data[0][0]])#,x_axis[peak_data[0][1]],x_axis[peak_data[0][2]], x_axis[peak_data[0][3]],x_axis[peak_data[0][4]],x_axis[peak_data[0][5]])\n"
   ]
  },
  {
   "cell_type": "code",
   "execution_count": 5,
   "metadata": {},
   "outputs": [],
   "source": [
    "nwa = zvl13(\"TCPIP0::192.168.1.46::INSTR\")\n",
    "ncs = Nsk_current_source(\"COM32\")"
   ]
  },
  {
   "cell_type": "code",
   "execution_count": 16,
   "metadata": {},
   "outputs": [],
   "source": [
    "nwa.set_output_state(\"ON\")\n",
    "nwa.set_standard_config({\"power\":-50,\"nop\":101,\"averages\": 1, \"cf_span\":[2.5e9, 2e9], \"bandwidth\":10, \"meas_counts\":1})\n",
    "\n",
    "ncs.enable_channel(1)\n",
    "ncs.set_output_state(1,1)\n",
    "ncs.set_range(1,\"10mA\")\n",
    "ncs.set_current(1,0)\n",
    "nwa.set_timeout(200000)\n",
    "\n",
    "\n",
    "plt.ion()\n",
    "\n",
    "fig = plt.figure()\n",
    "z_upd = []\n",
    "\n",
    "for i in range(10):\n",
    "    ncs.set_current(1,i*1e-4)\n",
    "    nwa.trig_meas()\n",
    "    x_axis = nwa.get_X_axis_values()   \n",
    "    data = nwa.get_data(int(nwa.get_meas_counts()))\n",
    "    x_upd = x_axis#[]\n",
    "    y_upd = []\n",
    "    nx = 101#x_upd.shape[0]\n",
    "    no_labels = 5\n",
    "    step_x = int(nx/(no_labels -1))\n",
    "    x_positions = np.arange(0,nx,step_x)\n",
    "    x_labels = x_upd[::step_x]\n",
    "    plt.yticks(x_positions, x_labels)\n",
    "    \n",
    "    z_upd.append(data[0][0])\n",
    "    y_upd.append(i)\n",
    "    plt.imshow(np.transpose(z_upd),interpolation='nearest', aspect='auto', cmap=cm.RdBu)\n",
    "    #nwa.set_timeout(1000)\n",
    "    #plt.plot(x_axis, np.average(data[0],0))\n",
    "    #line1.set_ydata(data[0][i][50])\n",
    "    fig.canvas.draw()\n",
    "    fig.canvas.flush_events()\n"
   ]
  },
  {
   "cell_type": "code",
   "execution_count": 57,
   "metadata": {},
   "outputs": [],
   "source": [
    "#ncs = Nsk_current_source(\"COM32\")\n",
    "#ncs.set_output_state(1,1)\n",
    "ncs.close()\n",
    "\n"
   ]
  },
  {
   "cell_type": "code",
   "execution_count": 10,
   "metadata": {},
   "outputs": [
    {
     "data": {
      "text/plain": [
       "101"
      ]
     },
     "execution_count": 10,
     "metadata": {},
     "output_type": "execute_result"
    }
   ],
   "source": [
    "act_data = data[0]\n",
    "len(x_axis)"
   ]
  },
  {
   "cell_type": "code",
   "execution_count": 11,
   "metadata": {},
   "outputs": [
    {
     "data": {
      "text/plain": [
       "<matplotlib.colorbar.Colorbar at 0xeb0b208>"
      ]
     },
     "execution_count": 11,
     "metadata": {},
     "output_type": "execute_result"
    }
   ],
   "source": [
    "from __future__ import division\n",
    "from matplotlib.patches import Patch\n",
    "from pylab import *\n",
    "\n",
    "\n",
    "y = np.linspace(0,1e-3,5)\n",
    "x = x_axis\n",
    "X,Y = meshgrid(y, x)\n",
    "\n",
    "\n",
    "Z = np.transpose(np.array(act_data))\n",
    "\n",
    "pcolor(X, Y, Z, cmap=cm.RdBu, vmax=abs(Z).max(), vmin=-abs(Z).max())\n",
    "colorbar()\n",
    "#axis([-3,3,-3,3])\n",
    "\n",
    "plt.ion()\n",
    "\n",
    "    fig.canvas.draw()\n",
    "    fig.canvas.flush_events()\n",
    "\n"
   ]
  },
  {
   "cell_type": "code",
   "execution_count": 74,
   "metadata": {},
   "outputs": [
    {
     "data": {
      "text/plain": [
       "<matplotlib.collections.QuadMesh at 0xfe82ba8>"
      ]
     },
     "execution_count": 74,
     "metadata": {},
     "output_type": "execute_result"
    }
   ],
   "source": [
    "\n",
    "import matplotlib.animation as animation\n",
    "\n",
    "\n",
    "fig2 = plt.figure()\n",
    "x = x_axis\n",
    "y = [np.arange(3)]\n",
    "base = np.array(act_data[0:3])\n",
    "X,Y = meshgrid(x, y)\n",
    "ims = []\n",
    "plt.pcolormesh(X, Y, base)\n",
    "\n",
    "\n"
   ]
  },
  {
   "cell_type": "code",
   "execution_count": 4,
   "metadata": {},
   "outputs": [],
   "source": [
    "x = np.arange(100)\n",
    "y = np.arange(100)\n",
    "temp = [[0]*len(x)]*len(y)\n",
    "nrows, ncols = 100, 100\n",
    "grid = temp #.reshape((nrows, ncols))\n",
    "\n",
    "for i in range(len(x)):\n",
    "    temp[i] = np.random.rand(100)\n",
    "fig = plt.figure()\n",
    "plt.imshow(grid, extent=(x.min(), x.max(), y.max(), y.min()),\n",
    "           interpolation='nearest', aspect='equal', cmap=cm.jet)\n",
    "plt.colorbar()\n",
    "\n",
    "plt.ion()\n",
    "x_upd = []\n",
    "y_upd = np.array([])\n",
    "z_upd = []\n",
    "\n",
    "for i in range(10):    \n",
    "    time.sleep(1)\n",
    "    #z_upd.append([1,2,3,4])\n",
    "    z_upd.append(np.random.rand(4))\n",
    "    plt.imshow(np.transpose(z_upd),interpolation='nearest', aspect='auto', cmap=cm.RdBu)\n",
    "    \n",
    "    fig.canvas.draw()\n",
    "    fig.canvas.flush_events()    \n",
    "\n"
   ]
  },
  {
   "cell_type": "code",
   "execution_count": 2,
   "metadata": {
    "collapsed": true
   },
   "outputs": [],
   "source": [
    "def serial_ports():\n",
    "    \"\"\" Lists serial port names\n",
    "\n",
    "        :raises EnvironmentError:\n",
    "            On unsupported or unknown platforms\n",
    "        :returns:\n",
    "            A list of the serial ports available on the system\n",
    "    \"\"\"\n",
    "    if sys.platform.startswith('win'):\n",
    "        ports = ['COM%s' % (i + 1) for i in range(256)]\n",
    "    elif sys.platform.startswith('linux') or sys.platform.startswith('cygwin'):\n",
    "        # this excludes your current terminal \"/dev/tty\"\n",
    "        ports = glob.glob('/dev/tty[A-Za-z]*')\n",
    "    elif sys.platform.startswith('darwin'):\n",
    "        ports = glob.glob('/dev/tty.*')\n",
    "    else:\n",
    "        raise EnvironmentError('Unsupported platform')\n",
    "\n",
    "    result = []\n",
    "    for port in ports:\n",
    "        try:\n",
    "            s = serial.Serial(port)\n",
    "            s.close()\n",
    "            result.append(port)\n",
    "        except (OSError, serial.SerialException):\n",
    "            pass\n",
    "    return result\n"
   ]
  }
 ],
 "metadata": {
  "kernelspec": {
   "display_name": "Python 3",
   "language": "python",
   "name": "python3"
  },
  "language_info": {
   "codemirror_mode": {
    "name": "ipython",
    "version": 3
   },
   "file_extension": ".py",
   "mimetype": "text/x-python",
   "name": "python",
   "nbconvert_exporter": "python",
   "pygments_lexer": "ipython3",
   "version": "3.7.1"
  }
 },
 "nbformat": 4,
 "nbformat_minor": 2
}
