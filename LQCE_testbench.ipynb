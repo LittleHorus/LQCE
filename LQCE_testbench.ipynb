{
 "cells": [
  {
   "cell_type": "code",
   "execution_count": 2,
   "metadata": {},
   "outputs": [
    {
     "name": "stdout",
     "output_type": "stream",
     "text": [
      "Using matplotlib backend: Qt5Agg\n"
     ]
    }
   ],
   "source": [
    "import serial\n",
    "#import matplotlib as plt\n",
    "import sys\n",
    "import visa\n",
    "from LQCE.zvl13 import *\n",
    "from LQCE.ncs513 import *\n",
    "from LQCE.N5173B import *\n",
    "from LQCE.awg33500 import *\n",
    "import matplotlib.pyplot as plt\n",
    "import numpy as np\n",
    "import math\n",
    "import matplotlib.cm as cm\n",
    "from matplotlib.backends.backend_pdf import PdfPages\n",
    "import time\n",
    "import scipy.signal\n",
    "%matplotlib \n",
    "import pickle"
   ]
  },
  {
   "cell_type": "markdown",
   "metadata": {},
   "source": [
    "# __Novosibirsk current source init__"
   ]
  },
  {
   "cell_type": "code",
   "execution_count": 3,
   "metadata": {},
   "outputs": [],
   "source": [
    "import socket\n",
    "import crcmod\n",
    "from ctypes import (Union, Array, c_uint8, c_float, cdll, CDLL)\n",
    "from enum import Enum\n",
    "from ctypes import *\n",
    "\n",
    "class uint8_array(Array):\n",
    "    _type_ = c_uint8\n",
    "    _length_ = 4\n",
    "class f_type(Union):\n",
    "    _fields_ = (\"float\", c_float), (\"char\", uint8_array)\n",
    "\n",
    "def crc8_custom(data, len = 9):\n",
    "    crc = c_uint8(0xff)\n",
    "    i = c_uint32(0)\n",
    "    for j in range(len):\n",
    "        dt = c_uint8(data[j])\n",
    "        crc.value ^= dt.value;\n",
    "        for k in range(8):\n",
    "            if (crc.value&0x80) != 0:\n",
    "                crc.value = (crc.value<<1)^0x31\n",
    "            else:\n",
    "                crc.value <<=1 # crc.value<<1\n",
    "    return crc.value\n",
    "def float_to4bytes(float_data):\n",
    "    temp_data = f_type()\n",
    "    temp_data.float = float_data\n",
    "    return temp_data.char[:]\n",
    "def byteArray_toFloat(data_array, offset = 0):\n",
    "    temp_data = f_type()\n",
    "    temp_data.char[:] = (data_array[0+offset],data_array[1+offset],data_array[2+offset],data_array[3+offset])\n",
    "    return temp_data.float\n",
    "        \n",
    "def ch_output_enable(channel = 1):\n",
    "    tData = [0xc1,0x70,0x71,0x71,0x71,0x71,0x71,0x7f,0x7f,0x7f]\n",
    "    tData[1] = 0x70 | (channel)\n",
    "    tData[9] = crc8_custom(tData, 9)\n",
    "    sock.send(bytearray(tData))\n",
    "    return(sock.recv(10))\n",
    "def ch_output_disable(channel = 1):\n",
    "    tData = [0xc1,0x70,0x70,0x70,0x70,0x70,0x70,0x7f,0x7f,0x7f]\n",
    "    tData[1] = 0x70 | (channel)\n",
    "    tData[9] = crc8_custom(tData, 9)\n",
    "    sock.send(bytearray(tData))\n",
    "    return(sock.recv(10)) \n",
    "\n",
    "def ch_range(channel = 1,channel_range = '1uA'):\n",
    "    #1uA 10uA 100uA 1mA 10mA 50mA\n",
    "    tData = [0xc1,0x60,0x60,0x60,0x60,0x60,0x60,0x7f,0x7f,0x7f]\n",
    "    tData[1] = 0x60 | channel\n",
    "    if channel_range == '1uA' or channel_range == 1e-6:\n",
    "        tData[channel+1] = 0x60\n",
    "    elif channel_range == '10uA' or channel_range == 1e-5:\n",
    "        tData[channel+1] = 0x61\n",
    "    elif channel_range == '100uA' or channel_range == 1e-4:\n",
    "        tData[channel+1] = 0x62\n",
    "    elif channel_range == '1mA' or channel_range == 1e-3:\n",
    "        tData[channel+1] = 0x63\n",
    "    elif channel_range == '10mA' or channel_range == 1e-2:\n",
    "        tData[channel+1] = 0x64\n",
    "    elif channel_range == '50mA' or channel_range == 5e-2:\n",
    "        tData[channel+1] = 0x65\n",
    "    else:\n",
    "        tData[channel+1] = 0x60#1uA range\n",
    "    tData[9] = crc8_custom(tData, 9)\n",
    "    sock.send(bytearray(tData))\n",
    "    return(sock.recv(10))\n",
    "def ch_set_current(channel = 1, current = 0.0):\n",
    "    tFloat4bytes = []*4\n",
    "    tFloat4bytes = float_to4bytes(current)\n",
    "    tData = [0xc1,0xD0,0xD0,0xD0,0xD0,0xD0,0xD0,0xD0,0xD0,0x7f]\n",
    "    tData[1] = 0xD0 | channel\n",
    "    tData[2] = tFloat4bytes[0]\n",
    "    tData[3] = tFloat4bytes[1]\n",
    "    tData[4] = tFloat4bytes[2]\n",
    "    tData[5] = tFloat4bytes[3]\n",
    "    tData[9] = crc8_custom(tData, 9)\n",
    "    sock.send(bytearray(tData))\n",
    "    return (sock.recv(10))\n",
    "sock = socket.socket()\n",
    "sock.connect(('192.168.0.77',7))\n"
   ]
  },
  {
   "cell_type": "code",
   "execution_count": 22,
   "metadata": {},
   "outputs": [
    {
     "data": {
      "text/plain": [
       "b's`OK\\x00\\x00\\x00\\x00\\x00.'"
      ]
     },
     "execution_count": 22,
     "metadata": {},
     "output_type": "execute_result"
    }
   ],
   "source": [
    "ch_set_current(1,0) \n",
    "ch_output_enable(1)\n",
    "ch_output_disable(1)\n",
    "ch_range(1, '50mA')"
   ]
  },
  {
   "cell_type": "code",
   "execution_count": 16,
   "metadata": {},
   "outputs": [],
   "source": [
    "gen = N5173B_gen(\"TCPIP0::192.168.0.78::INSTR\")\n",
    "nwa = zvl13(\"TCPIP0::192.168.0.73::INSTR\")\n",
    "#gen.set_modulation_state(0)\n",
    "#gen.set_frequency(6.52,\"GHz\")\n",
    "#gen.set_power(0)\n",
    "#float(gen.get_power())\n",
    "#gen.set_output_state(\"OFF\")\n",
    "#gen.get_output_state()\n",
    "#nwa.set_output_state(\"OFF\")\n",
    " "
   ]
  },
  {
   "cell_type": "code",
   "execution_count": null,
   "metadata": {},
   "outputs": [],
   "source": [
    "#data_averaged = np.average(z_upd,0)\n",
    "peak_data = scipy.signal.find_peaks(z_upd, height=4, distance=100)\n",
    "print(peak_data)\n",
    "print(x_axis[peak_data[0][0]])#,x_axis[peak_data[0][1]],x_axis[peak_data[0][2]], x_axis[peak_data[0][3]],x_axis[peak_data[0][4]],x_axis[peak_data[0][5]])\n"
   ]
  },
  {
   "cell_type": "markdown",
   "metadata": {},
   "source": [
    "# __Resonator frequecies__"
   ]
  },
  {
   "cell_type": "code",
   "execution_count": 59,
   "metadata": {},
   "outputs": [],
   "source": [
    "#nwa = zvl13(\"TCPIP0::192.168.0.73::INSTR\")\n",
    "\n",
    "res1 = [6.48367e9, 30e6]#qubit 1\n",
    "res2 = [6.579342e9, 50e6]#qubit 2\n",
    "res3 = [6.669865e9, 20e6]\n",
    "res4 = [6.758309e9,20e6]\n",
    "res5 = [6.856067e9, 20e6]\n",
    "res6 = [6.941001e9, 100e6]#qubit 6\n",
    "res7 = [7.461176e9,20e6]#resonator\n",
    "#res8 = [6.685670e9, 6e6]"
   ]
  },
  {
   "cell_type": "markdown",
   "metadata": {},
   "source": [
    "# __AWG__\n",
    "# _if nwa connected via mixer_"
   ]
  },
  {
   "cell_type": "code",
   "execution_count": 221,
   "metadata": {},
   "outputs": [],
   "source": [
    "#awg = awg33500(\"TCPIP0::192.168.0.80::INSTR\")\n",
    "#awg.awg_init_custom_2ch([0,0], 14e-6, 15e-6)\n",
    "awg.awg_init_custom_2ch(cal_result[0],14e-6, 15e-6)\n",
    "awg_set_delay(-100-20)\n",
    "#awg.set_voltage_offset(2, 0.05)\n",
    "#awg.set_voltage_offset(1, 0.05)\n",
    "#awg.set_voltage(1,100e-3)\n",
    "\n",
    "gen.set_modulation_state(0)\n",
    "gen.set_frequency(5.0e9)\n",
    "gen.set_output_state(\"OFF\")"
   ]
  },
  {
   "cell_type": "markdown",
   "metadata": {},
   "source": [
    "# __ONE TONE__"
   ]
  },
  {
   "cell_type": "code",
   "execution_count": null,
   "metadata": {},
   "outputs": [],
   "source": [
    "nwa.set_output_state(\"ON\")\n",
    "nwa.set_standard_config({\"power\":-70,\"nop\":201, \"cf_span\":res6, \"bandwidth\":100, \"meas_counts\":2})\n",
    "\n",
    "ch_output_enable(3)\n",
    "ch_range(3, '1mA')#available ranges: 1uA 10uA 100uA 1mA 10mA 50mA\n",
    "ch_set_current(3,0) \n",
    "\n",
    "nwa.set_timeout(200000)\n",
    "\n",
    "plt.ion()\n",
    "fig = plt.figure()\n",
    "z_upd = []\n",
    "current_label = []\n",
    "\n",
    "offset_current = 100e-6\n",
    "step_current = 1e-6\n",
    "current_points = 75\n",
    "\n",
    "for i in range(current_points):\n",
    "    ch_set_current(3, offset_current+i*step_current) \n",
    "    current_label.append(offset_current+i*step_current)\n",
    "    nwa.trig_meas()\n",
    "    x_axis = nwa.get_X_axis_values() \n",
    "    data = nwa.get_data(int(nwa.get_meas_counts()))\n",
    "    x_upd = x_axis\n",
    "    y_upd = []\n",
    "    nx = 101#x_upd.shape[0]\n",
    "    no_labels = 7\n",
    "    step_x = int(nx/(no_labels -1))\n",
    "    step_current_axis = int(current_points/(no_labels -1))\n",
    "    x_positions = np.arange(0,nx,step_x)\n",
    "    \n",
    "    x_labels = x_upd[::step_x]\n",
    "    z_upd.append(np.average(data[0],0))\n",
    "    \n",
    "    y_upd.append(i)\n",
    "    plt.imshow(np.transpose(z_upd),interpolation='nearest', aspect='auto', origin = 'lower',cmap=cm.bone, extent=[offset_current*1e3,offset_current*1e3+i*step_current*1e3,x_axis[0]/1e9,x_axis[len(x_axis)-1]/1e9])\n",
    "    plt.xlabel(\"Current, mA\")\n",
    "    plt.ylabel(\"Frequency, GHz\")\n",
    "    plt.title(\"OneTone Spectroscopy {}/{}\".format(i+1,current_points))\n",
    "    fig.set_size_inches(8, 6)\n",
    "    fig.canvas.draw()\n",
    "    fig.canvas.flush_events()\n",
    "clb = plt.colorbar()\n",
    "clb.set_label(\"S21, dBm\", rotation = 0, labelpad = -40, y = 1.05)\n",
    "ch_set_current(3, 0)"
   ]
  },
  {
   "cell_type": "markdown",
   "metadata": {},
   "source": [
    "# __Save DATA__"
   ]
  },
  {
   "cell_type": "code",
   "execution_count": 15,
   "metadata": {},
   "outputs": [],
   "source": [
    "np.save(\"E:\\\\MEASUREMENTS\\\\10mK_BlueFors_BFLD400\\\\RUN49\\\\{}\\\\ONETONE\\\\{}.npy\".format('RES1',1), np.transpose(z_upd))\n"
   ]
  },
  {
   "cell_type": "code",
   "execution_count": 60,
   "metadata": {},
   "outputs": [],
   "source": [
    "#save actual data to numpy file\n",
    "np.save(\"E:\\\\MEASUREMENTS\\\\10mK_BlueFors_BFLD400\\\\RUN34\\\\res0_6.577GHz\\\\OneToneS_6.459GHz_101p_5Av_4uA_-40dBm_offset_-20uA\", np.transpose(z_upd))\n",
    "#E:\\MEASUREMENTS\\10mK_BlueFors_BFLD400\\RUN34\\res0_6.577GHz\n",
    "#b = np.load(\"E:\\\\MEASUREMENTS\\\\10mK_BlueFors_BFLD400\\\\RUN33\\\\run33\\\\sweetspot_-40dBm.npy\")\n",
    "#plt.imshow(b, interpolation='nearest', aspect='auto', cmap=cm.RdBu)"
   ]
  },
  {
   "cell_type": "code",
   "execution_count": 53,
   "metadata": {},
   "outputs": [
    {
     "data": {
      "text/plain": [
       "<matplotlib.image.AxesImage at 0x104df400>"
      ]
     },
     "execution_count": 53,
     "metadata": {},
     "output_type": "execute_result"
    }
   ],
   "source": [
    "fig = plt.figure()\n",
    "b = np.load(\"E:\\\\MEASUREMENTS\\\\10mK_BlueFors_BFLD400\\\\RUN34\\\\res0_6.577GHz\\\\OneToneS_51p_5Av_4uA_-40dBm.npy\")\n",
    "plt.imshow(b, interpolation='nearest', aspect='auto', cmap=cm.RdBu)\n"
   ]
  },
  {
   "cell_type": "markdown",
   "metadata": {},
   "source": [
    "# _TWO TONE_"
   ]
  },
  {
   "cell_type": "code",
   "execution_count": 170,
   "metadata": {},
   "outputs": [
    {
     "data": {
      "text/plain": [
       "b's\\xd0OK\\x00\\x00\\x00\\x00\\x00\\x10'"
      ]
     },
     "execution_count": 170,
     "metadata": {},
     "output_type": "execute_result"
    }
   ],
   "source": [
    "nwa.set_output_state(\"ON\")\n",
    "nwa.set_standard_config({\"power\":-70,\"nop\":3,\"averages\": 1, \"cf_span\":[res6[0],10000], \"bandwidth\":100, \"meas_counts\":3})\n",
    "nwa.set_timeout(500000)\n",
    "#gen = N5173B_gen(\"TCPIP0::192.168.0.78::INSTR\")\n",
    "gen.set_modulation_state(0)\n",
    "gen.set_frequency(5.0e9)\n",
    "gen.set_output_state(\"ON\")\n",
    "gen.get_output_state()\n",
    "\n",
    "gen.set_power(-20)#-20 at room\n",
    "\n",
    "offset_current = 110e-6#105e-6#300e-6\n",
    "current_list_len = 101 #number of points\n",
    "step_current = 0.1e-6\n",
    "\n",
    "gen_freq_list = 101\n",
    "gen_freq_offset = 7e9\n",
    "gen_freq_step = 1e6\n",
    "#gen.write(\":PULM:INTernal:TRAin:ONTime {:.3e}\".format(900e-9))\n",
    "gen.set_modulation_state(0)\n",
    "plt.ion()\n",
    "\n",
    "fig = plt.figure()\n",
    "pow_slice = []\n",
    "\n",
    "for j in range(gen_freq_list):\n",
    "    gen.set_frequency(gen_freq_offset + j*gen_freq_step, \"Hz\")\n",
    "    time.sleep(1)\n",
    "    \n",
    "    onetone_data = []\n",
    "    nwa_slice = []\n",
    "    for i in range(current_list_len):\n",
    "        #ncs.set_current(3,i*20e-6)#10uA step\n",
    "        ch_set_current(3,offset_current+i*step_current) \n",
    "        time.sleep(0.02)\n",
    "        nwa.trig_meas()\n",
    "        x_axis = nwa.get_X_axis_values()   \n",
    "        data = nwa.get_data(int(nwa.get_meas_counts()))\n",
    "        x_upd = x_axis#[]\n",
    "        y_upd = []\n",
    "        nx = 101#x_upd.shape[0]\n",
    "        no_labels = 5\n",
    "        step_x = int(nx/(no_labels -1))\n",
    "        x_positions = np.arange(0,nx,step_x)\n",
    "        x_labels = x_upd[::step_x]\n",
    "        \n",
    "        #z_upd.append(data[0][0])\n",
    "        #z_upd.append(np.average(data[0],0))\n",
    "        \n",
    "        y_upd.append(i)\n",
    "        #nwa_slice = data[0][0]\n",
    "        #onetone_data.append(nwa_slice[2])\n",
    "        nwa_slice = np.average(data[0],0)\n",
    "        onetone_data.append(nwa_slice[1])\n",
    "\n",
    "    pow_slice.append(onetone_data)\n",
    "    plt.imshow(pow_slice,interpolation='nearest', aspect='auto', cmap=cm.bone, origin = 'lower', extent=[offset_current*1e3,offset_current*1e3+i*step_current*1e3,(gen_freq_offset)/1e9,(gen_freq_offset + j*gen_freq_step)/1e9])\n",
    "    plt.title(\"Current freq - {}\".format((j+1)*gen_freq_step+gen_freq_offset))\n",
    "    #plt.yticks(x_positions, x_labels)\n",
    "    fig.canvas.draw()\n",
    "    fig.canvas.flush_events()        \n",
    "plt.colorbar()\n",
    "ch_set_current(3,0) "
   ]
  },
  {
   "cell_type": "markdown",
   "metadata": {},
   "source": [
    "# _SAVE_"
   ]
  },
  {
   "cell_type": "code",
   "execution_count": 130,
   "metadata": {},
   "outputs": [],
   "source": [
    "np.save(\"E:\\\\MEASUREMENTS\\\\10mK_BlueFors_BFLD400\\\\RUN49\\\\TwoToneS_res6\",pow_slice)"
   ]
  },
  {
   "cell_type": "markdown",
   "metadata": {},
   "source": [
    "# _LOAD_"
   ]
  },
  {
   "cell_type": "code",
   "execution_count": 70,
   "metadata": {},
   "outputs": [
    {
     "data": {
      "text/plain": [
       "<matplotlib.image.AxesImage at 0x174cf320>"
      ]
     },
     "execution_count": 70,
     "metadata": {},
     "output_type": "execute_result"
    }
   ],
   "source": [
    "fig = plt.figure()\n",
    "b = np.load(\"E:\\\\MEASUREMENTS\\\\10mK_BlueFors_BFLD400\\\\RUN34\\\\res0_6.577GHz\\\\TwoToneS_6.459GHz_7-9GHz_-40dBm_50uA_190uA_2uA.npy\")\n",
    "plt.imshow(b, interpolation='nearest', aspect='auto', cmap=cm.RdBu)"
   ]
  },
  {
   "cell_type": "code",
   "execution_count": 171,
   "metadata": {},
   "outputs": [],
   "source": [
    "\n",
    "awg = awg33500(\"TCPIP0::192.168.0.80::INSTR\")\n",
    "#awg.awg_init_custom_2ch([0,0], 14e-6, 15e-6)\n",
    "\n",
    "#awg.set_voltage_offset(2, 0.05)\n",
    "#awg.set_voltage_offset(1, 0.05)\n",
    "#awg.set_voltage(1,100e-3)\n",
    "#awg.set_voltage(2,100e-3)\n",
    "#awg.synchronize_channels()"
   ]
  },
  {
   "cell_type": "code",
   "execution_count": 98,
   "metadata": {},
   "outputs": [],
   "source": [
    "awg.awg_init_custom_2ch([0,0], 3e-6, 500e-6)\n",
    "#awg.synchronize_channels()\n",
    "#awg.awg_set_delay(20)#in ns| for ex. (100) = 100ns (with offset 100ns = 200ns)\n",
    "\n",
    "rabi_step = 4 # in ns\n",
    "rabi_counts = 11\n",
    "\n",
    "\n",
    "rabi_data_average = []\n",
    "rabi_phase_average = []\n",
    "r_data = []\n",
    "r_phase = []\n",
    "rabi_x_axis = []\n",
    "temp_dB = []\n",
    "temp_Phase = []\n",
    "\n",
    "\n",
    "#awg.awg_set_delay(20)\n",
    "#awg.synchronize_channels()\n",
    "\n",
    "\n",
    "for i in range(rabi_counts):\n",
    "    #awg.set_sync_output(\"OFF\")\n",
    "    #gen.set_output_state(\"OFF\")\n",
    "    #gen.set_pulse_train_ontime(500e-9 + i*1e-9*rabi_step)\n",
    "    #gen.write(\":PULM:INTernal:TRAin:ONTime {:.3e}\".format(20e-9 + i*1e-9*rabi_step))\n",
    "    #gen_init_ramsey_mode(5.805619, 20e-9 + i*1e-9*rabi_step, delay = 101e-6)\n",
    "    #time.sleep(0.5)\n",
    "        \n",
    "    awg.awg_init_custom_2ch([0,0],10e-6, 20e-9+i*rabi_step*1e-9)\n",
    "    awg.awg_set_delay(20 + i*rabi_step)\n",
    "    awg.synchronize_channels()\n",
    "    time.sleep(2)\n"
   ]
  },
  {
   "cell_type": "code",
   "execution_count": 126,
   "metadata": {},
   "outputs": [],
   "source": [
    "awg.synchronize_channels()\n",
    "awg.awg_init_custom_2ch([0,0],20e-9, 10e-6)\n",
    "awg_set_delay(-100-20)\n",
    "awg.synchronize_channels()\n",
    "rabi_counts = 11\n",
    "for i in range(rabi_counts):  \n",
    "    awg_set_delay(-100-20-i*4) \n",
    "    time.sleep(1)"
   ]
  },
  {
   "cell_type": "code",
   "execution_count": 120,
   "metadata": {},
   "outputs": [],
   "source": [
    "def awg_set_delay(delay):\n",
    "    set_phase_units(\"SEC\")\n",
    "    awg.write(\"SOURce1:PHASe {}\".format(delay*1e-9))\n",
    "    awg.write(\"SOURce2:PHASe {}\".format(delay*1e-9))\n",
    "def set_phase_units(units = \"DEG\"):\n",
    "    \"\"\"DEGree | RADian | SECond \"\"\"\n",
    "    awg.write(\"UNIT:ANGLe {}\".format(units))  "
   ]
  },
  {
   "cell_type": "code",
   "execution_count": 172,
   "metadata": {},
   "outputs": [
    {
     "name": "stderr",
     "output_type": "stream",
     "text": [
      "C:\\Users\\Qubit105s\\Anaconda3\\lib\\site-packages\\scipy\\optimize\\_minimize.py:518: RuntimeWarning: Method Nelder-Mead cannot handle constraints nor bounds.\n",
      "  RuntimeWarning)\n"
     ]
    },
    {
     "name": "stdout",
     "output_type": "stream",
     "text": [
      "Warning: Maximum number of iterations has been exceeded.\n",
      " final_simplex: (array([[ 0.00759617, -0.00663007],\n",
      "       [ 0.00759617, -0.00663007],\n",
      "       [ 0.00759617, -0.00663007]]), array([-82.38403536, -69.82047872, -65.20746188]))\n",
      "           fun: -82.38403535568146\n",
      "       message: 'Maximum number of iterations has been exceeded.'\n",
      "          nfev: 249\n",
      "           nit: 100\n",
      "        status: 2\n",
      "       success: False\n",
      "             x: array([ 0.00759617, -0.00663007])\n"
     ]
    }
   ],
   "source": [
    "cal_result = calibrate(-40, res5[0])"
   ]
  },
  {
   "cell_type": "code",
   "execution_count": 176,
   "metadata": {},
   "outputs": [],
   "source": [
    "def get_data_reim(data_frames_count):\n",
    "    curves = [0]*data_frames_count\n",
    "    out_data = []\n",
    "    out_phase = []\n",
    "    out_re = []\n",
    "    out_im = []\n",
    "    for i in range(data_frames_count):\n",
    "        curves[i] = nwa.query(\"CALCulate1:DATA:NSWeep? SDATa, {}\".format(i+1))\n",
    "        np_d = np.fromstring(curves[i], sep = ',')\n",
    "        temp_data = []*int(len(np_d)/2)\n",
    "        temp_phase = []*int(len(np_d)/2)\n",
    "        temp_re = []*int(len(np_d)/2)\n",
    "        temp_im = []*int(len(np_d)/2)\n",
    "        for j in range(int(len(np_d)/2)):\n",
    "            temp_data.append(20*math.log(math.sqrt(np_d[2*j]**2+np_d[2*j+1]**2),10))\n",
    "            temp_phase.append(math.atan2(np_d[2*j+1],np_d[2*j]))\n",
    "            temp_re.append(np_d[2*j])\n",
    "            temp_im.append(np_d[2*j+1])\n",
    "        out_re.append(temp_re)\n",
    "        out_im.append(temp_im)\n",
    "    return (out_re, out_im)    "
   ]
  },
  {
   "cell_type": "code",
   "execution_count": 188,
   "metadata": {},
   "outputs": [
    {
     "data": {
      "text/plain": [
       "[<matplotlib.lines.Line2D at 0x20203be0>]"
      ]
     },
     "execution_count": 188,
     "metadata": {},
     "output_type": "execute_result"
    }
   ],
   "source": [
    "rabi_data_result\n",
    "plt.figure()\n",
    "plt.plot(rabi_data_result)"
   ]
  },
  {
   "cell_type": "code",
   "execution_count": 223,
   "metadata": {},
   "outputs": [
    {
     "data": {
      "text/plain": [
       "[5710691000.0, 20000000.0]"
      ]
     },
     "execution_count": 223,
     "metadata": {},
     "output_type": "execute_result"
    }
   ],
   "source": [
    "ch_set_current(3,0) \n",
    "[5.710691e9,20e6]"
   ]
  },
  {
   "cell_type": "code",
   "execution_count": 235,
   "metadata": {},
   "outputs": [],
   "source": [
    "res4_pulse_excited = 7.625e9\n",
    "re4_current = 73e-6\n",
    "gen.write(\":PULM:INTernal:TRAin:ONTime {:.3e}\".format(20e-9 + 8*1e-9))"
   ]
  },
  {
   "cell_type": "markdown",
   "metadata": {},
   "source": [
    "# __Calibration procedure__"
   ]
  },
  {
   "cell_type": "code",
   "execution_count": null,
   "metadata": {},
   "outputs": [],
   "source": [
    "import time\n",
    "import scipy.signal\n",
    "import scipy.optimize\n",
    "#mixer calibration part    \n",
    "def find_minimum(x):\n",
    "    awg.set_voltage_offset(2, x[1])\n",
    "    awg.set_voltage_offset(1, x[0])\n",
    "    time.sleep(0.1)\n",
    "    nwa.trig_meas()\n",
    "    temp_data = nwa.get_data(3)\n",
    "    data_averaged = np.average(temp_data[0],0)\n",
    "    #temp_slice = data_averaged[1]\n",
    "    return (data_averaged[1])\n",
    "\n",
    "def calibrate(power, freq):\n",
    "    nwa.set_standard_config({\"power\": power,\"nop\":2, \"cf_span\":[freq, 2], \"bandwidth\":100, \"meas_counts\":10})\n",
    "    nwa.set_output_state(\"ON\")\n",
    "    awg.awg_base_init()\n",
    "    #gen.set_output_state(\"OFF\")  \n",
    "    awg.set_output(1, \"ON\")\n",
    "    awg.set_output(2, \"ON\") \n",
    "    \n",
    "    calibrate_res = scipy.optimize.minimize(find_minimum,(0.1,-0.1), method='Nelder-Mead', options = {\"maxiter\": 100, 'xtol': 1e-2, 'disp': True}, bounds = ((-0.5,0.5), (-0.5,0.5)))\n",
    "    print(calibrate_res)\n",
    "    return (calibrate_res.x, calibrate_res.fun) \n"
   ]
  },
  {
   "cell_type": "code",
   "execution_count": 358,
   "metadata": {},
   "outputs": [],
   "source": [
    "#rabi_data_result\n",
    "#plt.figure()\n",
    "#plt.plot(rabi_phase_result)\n",
    "awg.set_voltage(1,100e-3)\n",
    "awg.set_voltage(2,100e-3)"
   ]
  },
  {
   "cell_type": "markdown",
   "metadata": {},
   "source": [
    "# __Rabi Power change__"
   ]
  },
  {
   "cell_type": "code",
   "execution_count": 371,
   "metadata": {},
   "outputs": [],
   "source": [
    "awg.awg_init_custom_2ch(cal_result[0], 3e-6, 500e-6)\n",
    "gen.gen_init_pulse_mode(res4_pulse_excited, 20e-9)#at this moment gen wait a trigger to start pulse\n",
    "#awg.synchronize_channels()\n",
    "#awg.awg_set_delay(20)#in ns| for ex. (100) = 100ns (with offset 100ns = 200ns)\n",
    "\n",
    "average_factor = 1\n",
    "average_times = 200\n",
    "nwa.set_standard_config({\"power\":-70,\"nop\":2, \"cf_span\":[5.710691e9,10], \"bandwidth\":100, \"meas_counts\":average_times})\n",
    "\n",
    "gen.set_power(-20)\n",
    "\n",
    "rabi_step = 4 # in ns\n",
    "rabi_counts = 101\n",
    "rabi_power_step = 0.01\n",
    "\n",
    "rabi_data_average = []\n",
    "rabi_phase_average = []\n",
    "r_data = []\n",
    "r_phase = []\n",
    "rabi_x_axis = []\n",
    "temp_dB = []\n",
    "temp_Phase = []\n",
    "\n",
    "#awg.awg_set_delay(20)\n",
    "#awg.synchronize_channels()\n",
    "\n",
    "#plt.figure()\n",
    "#plt.ion()\n",
    "#ax1 = fig.add_subplot(2,1,1)\n",
    "#ax2 = fig.add_subplot(2,1,2)\n",
    "\n",
    "fig,axis = plt.subplots(2)\n",
    "#plt.setp(axis[0].get_xticklabels(), visible=False)\n",
    "fig.set_size_inches(10, 6)\n",
    "axis[0].grid()\n",
    "axis[1].grid()\n",
    "\n",
    "#rabi_x_axis = np.arange(20, 20+rabi_power_step*rabi_counts, rabi_power_step)\n",
    "rabi_x_axis = []\n",
    "\n",
    "nwa.set_timeout(500000)\n",
    "#for j in range(average_factor):\n",
    "r_data = np.zeros(rabi_counts)\n",
    "r_phase = np.zeros(rabi_counts)\n",
    "rabi_data_result = np.zeros(rabi_counts)\n",
    "rabi_phase_result = np.zeros(rabi_counts)\n",
    "for i in range(rabi_counts):\n",
    "    #awg.set_sync_output(\"OFF\")\n",
    "    #gen.set_output_state(\"OFF\")\n",
    "    #gen.set_pulse_train_ontime(500e-9 + i*1e-9*rabi_step)\n",
    "    #gen.write(\":PULM:INTernal:TRAin:ONTime {:.3e}\".format(20e-9 + i*1e-9*rabi_step))\n",
    "    #gen_init_ramsey_mode(5.805619, 20e-9 + i*1e-9*rabi_step, delay = 101e-6)\n",
    "    gen.set_power(-20+i*rabi_power_step)\n",
    "    #time.sleep(0.5)\n",
    "        \n",
    "    #awg_init_custom_2ch(cal_result[0],10e-6, 100e-6+20e-9+i*rabi_step*1e-9)\n",
    "    #awg.awg_set_delay(20 + i*rabi_step)\n",
    "    time.sleep(0.5)\n",
    "        \n",
    "    nwa.trig_meas()\n",
    "    #temp_data = nwa.get_data(average_factor)\n",
    "    temp_data = get_data_reim(average_times)#[real, image]\n",
    "\n",
    "    #temp_dB = np.average(temp_data[0][0])# np.average(temp_data[0],0)\n",
    "    #temp_Phase =np.average(temp_data[1][0])# np.average(temp_data[1],0)\n",
    "\n",
    "    #rabi_data_result[i] = temp_dB[1]\n",
    "    #rabi_phase_result[i] = temp_Phase[1]\n",
    "    #rabi_data_average.append(temp_dB)\n",
    "    #rabi_phase_average.append(temp_Phase)\n",
    "\n",
    "    #r_data = np.average(rabi_data_average,0)\n",
    "    #r_phase = np.average(rabi_phase_average,0)\n",
    "    ##rabi_data_result[i] = r_data\n",
    "    #rabi_phase_result[i] = r_phase\n",
    "    #ax2.set_xlabel(\"delay, nS\")\n",
    "    #ax1.plot(rabi_data_result, 'b--')\n",
    "    #ax1.set_ylabel(\"S21\")\n",
    "    #ax2.plot(rabi_phase_result, 'g--')\n",
    "    #ax2.set_ylabel(\"Phase\")\n",
    "    #ax1.set_title(\"Rabi {}/{}\".format(j+1, average_factor))\n",
    "\n",
    "    temp_dB.append(np.average(temp_data[0][0]))# np.average(temp_data[0],0)\n",
    "    temp_Phase.append(np.average(temp_data[1][0]))# np.average(temp_data[1],0)\n",
    "   \n",
    "    axis[0].set_title(\"Rabi {}/{}\".format(i+1, rabi_counts))\n",
    "    axis[0].set_xlabel(\"Power, dBm\")\n",
    "\n",
    "    rabi_x_axis.append(i*rabi_power_step - 20)\n",
    "    \n",
    "    axis[1].set_xlabel(\"Power, dBm\")\n",
    "    axis[1].plot(rabi_x_axis, temp_Phase, 'g--')\n",
    "    axis[1].set_ylabel(\"Imag Part, a.u.\")    \n",
    "    axis[0].plot(rabi_x_axis, temp_dB, 'b--')\n",
    "    axis[0].set_ylabel(\"Real Part, a.u.\")    \n",
    "    \n",
    "    fig.canvas.draw()\n",
    "    fig.canvas.flush_events()\n"
   ]
  },
  {
   "cell_type": "code",
   "execution_count": 286,
   "metadata": {},
   "outputs": [
    {
     "data": {
      "text/plain": [
       "[<matplotlib.lines.Line2D at 0x47b7ed30>]"
      ]
     },
     "execution_count": 286,
     "metadata": {},
     "output_type": "execute_result"
    }
   ],
   "source": [
    "fig = plt.figure()\n",
    "plt.plot(rabi_phase_average)"
   ]
  },
  {
   "cell_type": "code",
   "execution_count": 281,
   "metadata": {},
   "outputs": [
    {
     "data": {
      "text/plain": [
       "[<matplotlib.lines.Line2D at 0x4116c0f0>]"
      ]
     },
     "execution_count": 281,
     "metadata": {},
     "output_type": "execute_result"
    }
   ],
   "source": [
    "fig = plt.figure()\n",
    "plt.plot(rabi_data_average)\n",
    "plt.plot(rabi_phase_average)"
   ]
  },
  {
   "cell_type": "code",
   "execution_count": 263,
   "metadata": {},
   "outputs": [
    {
     "name": "stdout",
     "output_type": "stream",
     "text": [
      "[-37.57455273686062, -44.93010134236209] [0.041769006610889926, 1.0172103613189392]\n",
      "[-35.987080489544205, -41.885044264400655] [0.0452909754656667, 0.7363707022173953]\n"
     ]
    }
   ],
   "source": [
    "plt.figure()\n",
    "ax1 = fig.add_subplot(2,1,1)\n",
    "ax2 = fig.add_subplot(2,1,2)\n",
    "ax1.plot()"
   ]
  },
  {
   "cell_type": "code",
   "execution_count": 179,
   "metadata": {},
   "outputs": [
    {
     "data": {
      "text/plain": [
       "b's\\xd0OK\\x00\\x00\\x00\\x00\\x00\\x10'"
      ]
     },
     "execution_count": 179,
     "metadata": {},
     "output_type": "execute_result"
    }
   ],
   "source": [
    "res4_pulse_excited = 7.550e9\n",
    "res5_pulse_excited = 8.49171e9\n",
    "ch_set_current(3,0.153136e-3) "
   ]
  },
  {
   "cell_type": "markdown",
   "metadata": {},
   "source": [
    "# __Rabi default__"
   ]
  },
  {
   "cell_type": "code",
   "execution_count": 219,
   "metadata": {},
   "outputs": [],
   "source": [
    "awg.synchronize_channels()\n",
    "\n",
    "#awg.awg_init_custom_2ch(cal_result[0], 1e-6, 20e-6)\n",
    "gen.gen_init_pulse_mode(res5_pulse_excited, 100e-9)#at this moment gen wait a trigger to start pulse\n",
    "awg.synchronize_channels()\n",
    "awg.awg_init_custom_2ch(cal_result[0],10e-6, 15e-6)\n",
    "awg_set_delay(-100-20)\n",
    "awg.synchronize_channels()\n",
    "#awg.awg_set_delay(20)#in ns| for ex. (100) = 100ns (with offset 100ns = 200ns)\n",
    "#awg.set_voltage(1,100e-3)\n",
    "#awg.set_voltage(2,100e-3)\n",
    "average_factor = 500\n",
    "nwa.set_standard_config({\"power\":-30,\"nop\":2, \"cf_span\":[res5[0],2], \"bandwidth\":100, \"meas_counts\":average_factor})\n",
    "\n",
    "\n",
    "gen.set_power(-10)\n",
    "\n",
    "rabi_step = 20 # in ns\n",
    "rabi_counts = 201\n",
    "\n",
    "rabi_data_average = []\n",
    "rabi_phase_average = []\n",
    "r_data = []\n",
    "r_phase = []\n",
    "rabi_x_axis = []\n",
    "temp_dB = []\n",
    "temp_Phase = []\n",
    "\n",
    "plt.ion()\n",
    "\n",
    "\n",
    "rabi_x_axis = []\n",
    "\n",
    "fig,axis = plt.subplots(2)\n",
    "#plt.setp(axis[0].get_xticklabels(), visible=False)\n",
    "fig.set_size_inches(10, 6)\n",
    "axis[0].grid()\n",
    "axis[1].grid()\n",
    "nwa.set_timeout(500000)\n",
    "#for j in range(average_factor):\n",
    "r_data = np.zeros(rabi_counts)\n",
    "r_phase = np.zeros(rabi_counts)\n",
    "rabi_data_result = np.zeros(rabi_counts)\n",
    "rabi_phase_result = np.zeros(rabi_counts)\n",
    "for i in range(rabi_counts):\n",
    "    #awg.set_sync_output(\"OFF\")\n",
    "    #gen.set_output_state(\"OFF\")\n",
    "    #gen.set_pulse_train_ontime(500e-9 + i*1e-9*rabi_step)\n",
    "    gen.write(\":PULM:INTernal:TRAin:ONTime {:.3e}\".format(20e-9 + i*1e-9*rabi_step))\n",
    "    #gen_init_ramsey_mode(5.805619, 20e-9 + i*1e-9*rabi_step, delay = 101e-6)\n",
    "    #time.sleep(0.5)\n",
    "        \n",
    "    #awg_init_custom_2ch(cal_result[0],10e-6, 100e-6+20e-9+i*rabi_step*1e-9)\n",
    "    #awg.awg_set_delay(20+ i*rabi_step)\n",
    "    awg_set_delay(-100-20-i*rabi_step) \n",
    "    #awg.synchronize_channels()\n",
    "    #time.sleep(0.5)\n",
    "        \n",
    "    nwa.trig_meas()\n",
    "    #temp_data = nwa.get_data(average_factor)\n",
    "    temp_data = get_data_reim(average_factor)\n",
    "\n",
    "    temp_dB.append(np.average(temp_data[0][0]))# np.average(temp_data[0],0)\n",
    "    temp_Phase.append(np.average(temp_data[1][0]))# np.average(temp_data[1],0)\n",
    "   \n",
    "    axis[0].set_title(\"Rabi {}/{}\".format(i+1, rabi_counts))\n",
    "    axis[0].set_xlabel(\"Pulse width, ns\")\n",
    "\n",
    "    rabi_x_axis.append(i*rabi_step+20)\n",
    "    \n",
    "    axis[1].set_xlabel(\"Pulse width, ns\")\n",
    "    axis[1].plot(rabi_x_axis, temp_Phase, 'g--')\n",
    "    axis[1].set_ylabel(\"Imag Part, a.u.\")    \n",
    "    axis[0].plot(rabi_x_axis, temp_dB, 'b--')\n",
    "    axis[0].set_ylabel(\"Real Part, a.u.\")\n",
    "\n",
    "    \n",
    "    #plt.plot(rabi_data_average)\n",
    "    fig.canvas.draw()\n",
    "    fig.canvas.flush_events()\n",
    "\n",
    "phase = [0]*rabi_counts\n",
    "ampl = [0]*rabi_counts\n",
    "for i in range(rabi_counts):\n",
    "    phase[i] = math.atan2(temp_dB[i],temp_Phase[i])\n",
    "    ampl[i] = 20*math.log(math.sqrt(temp_dB[i]**2+temp_Phase[i]**2),10)\n",
    "    \n",
    "#fig = plt.figure()\n",
    "#plt.plot(phase)\n",
    "#fig = plt.figure()\n",
    "#plt.plot(ampl)\n",
    "    \n",
    "#rabi_data_result\n",
    "#plt.figure()\n",
    "#plt.plot(rabi_phase_average)"
   ]
  },
  {
   "cell_type": "code",
   "execution_count": 218,
   "metadata": {},
   "outputs": [
    {
     "data": {
      "text/plain": [
       "[<matplotlib.lines.Line2D at 0x2b096160>]"
      ]
     },
     "execution_count": 218,
     "metadata": {},
     "output_type": "execute_result"
    }
   ],
   "source": [
    "fig = plt.figure()\n",
    "plt.plot(phase)\n",
    "fig = plt.figure()\n",
    "plt.plot(ampl)"
   ]
  },
  {
   "cell_type": "code",
   "execution_count": 307,
   "metadata": {},
   "outputs": [
    {
     "data": {
      "text/plain": [
       "Text(0, 0.5, 'Imag Part')"
      ]
     },
     "execution_count": 307,
     "metadata": {},
     "output_type": "execute_result"
    }
   ],
   "source": [
    "plt.ion()\n",
    "\n",
    "fig,axis = plt.subplots(2)\n",
    "\n",
    "\n",
    "#plt.setp(ax1.get_xticklabels(), visible=False)\n",
    "fig.set_size_inches(10, 6)\n",
    "\n",
    "axis[1].set_xlabel(\"Pulse width, ns\")\n",
    "axis[0].plot(rabi_x_axis, temp_dB, 'b--')\n",
    "axis[0].set_ylabel(\"Real Part\")\n",
    "axis[1].plot(rabi_x_axis, temp_Phase, 'g--')\n",
    "axis[1].set_ylabel(\"Imag Part\")"
   ]
  },
  {
   "cell_type": "code",
   "execution_count": 135,
   "metadata": {},
   "outputs": [
    {
     "data": {
      "text/plain": [
       "<matplotlib.image.AxesImage at 0x499e7630>"
      ]
     },
     "execution_count": 135,
     "metadata": {},
     "output_type": "execute_result"
    }
   ],
   "source": [
    "fig = plt.figure()\n",
    "b = np.load(\"E:\\\\MEASUREMENTS\\\\10mK_BlueFors_BFLD400\\\\RUN33\\\\run33\\\\CAmp\\\\spec_0dBm.npy\")\n",
    "plt.imshow(b,interpolation='nearest', aspect='auto', cmap=cm.RdBu, origin = 'lower')\n",
    "\n",
    "#plt.plot(b)\n",
    "#np.savetxt('E:\\\\MEASUREMENTS\\\\10mK_BlueFors_BFLD400\\\\RUN33\\\\run33\\\\csv_data\\\\2tone_0dBm.csv', b, delimiter=',')"
   ]
  },
  {
   "cell_type": "code",
   "execution_count": 292,
   "metadata": {},
   "outputs": [
    {
     "data": {
      "text/plain": [
       "<matplotlib.image.AxesImage at 0x50fdf748>"
      ]
     },
     "execution_count": 292,
     "metadata": {},
     "output_type": "execute_result"
    }
   ],
   "source": [
    "plt.ion()\n",
    "\n",
    "fig = plt.figure()\n",
    "plt.imshow(pow_slice,interpolation='nearest', aspect='auto', cmap=cm.bone, origin = 'lower')\n",
    "#np.save(\"E:\\\\MEASUREMENTS\\\\10mK_BlueFors_BFLD400\\\\RUN33\\\\run33\\\\CAmp\\\\spec_5dBm\", pow_slice)\n",
    "#ncs = Nsk_current_source(\"COM32\")\n",
    "#ncs.set_output_state(3,0)\n",
    "#ncs.close()\n",
    "#nwa.close()\n",
    "#nwa.set_output_state(\"OFF\")\n",
    "#nwa.get_output_state()\n",
    "#ncs.set_current(3,105e-6)"
   ]
  },
  {
   "cell_type": "code",
   "execution_count": 41,
   "metadata": {},
   "outputs": [],
   "source": [
    "nwa = zvl13(\"TCPIP0::192.168.0.73::INSTR\")\n",
    "ncs = Nsk_current_source(\"COM5\")\n",
    "gen = N5173B_gen(\"TCPIP0::192.168.0.78::INSTR\")"
   ]
  },
  {
   "cell_type": "markdown",
   "metadata": {},
   "source": [
    "#  __AC-STARK SHIFT__"
   ]
  },
  {
   "cell_type": "code",
   "execution_count": null,
   "metadata": {},
   "outputs": [],
   "source": [
    "nwa.set_output_state(\"ON\")\n",
    "nwa.set_standard_config({\"power\":-40,\"nop\":5,\"averages\": 1, \"cf_span\":[7.055083e9, 8e6], \"bandwidth\":10, \"meas_counts\":2})\n",
    "nwa.set_timeout(500000)\n",
    "gen = N5173B_gen(\"TCPIP0::192.168.0.78::INSTR\")\n",
    "gen.set_modulation_state(0)\n",
    "gen.set_frequency(2.5e9)\n",
    "gen.set_output_state(\"ON\")\n",
    "gen.get_output_state()\n",
    "ncs.set_current(3,106e-6)#10uA step\n",
    "gen.set_power(0)#power drive tone\n",
    "#-10 + 7\n",
    "gen_pow_list = 41\n",
    "gen_freq_list = 601\n",
    "plt.ion()\n",
    "\n",
    "fig = plt.figure()\n",
    "\n",
    "pow_slice = []\n",
    "gen.set_power(0)\n",
    "for j in range(gen_pow_list):\n",
    "    nwa.set_power(-55 + j)\n",
    "    time.sleep(1)\n",
    "    temp_data = []\n",
    "    onetone_data = []\n",
    "    nwa_slice = []\n",
    "    for i in range(gen_freq_list):\n",
    "        gen.set_frequency(6.1e9+1e6*i)\n",
    "        time.sleep(0.02)\n",
    "        nwa.trig_meas()\n",
    "        x_axis = nwa.get_X_axis_values()\n",
    "        \n",
    "        temp_data = nwa.get_data(int(nwa.get_meas_counts()))\n",
    "        \n",
    "        temp_dB = np.average(temp_data[0],0)\n",
    "        \n",
    "        #data = nwa.get_data(int(nwa.get_meas_counts()))\n",
    "        \n",
    "        x_upd = x_axis#[]\n",
    "        y_upd = []\n",
    "        nx = 101#x_upd.shape[0]\n",
    "        no_labels = 5\n",
    "        step_x = int(nx/(no_labels -1))\n",
    "        x_positions = np.arange(0,nx,step_x)\n",
    "        x_labels = x_upd[::step_x]\n",
    "        plt.yticks(x_positions, x_labels)\n",
    "        \n",
    "        #z_upd.append(data[0][0])\n",
    "        #y_upd.append(i)\n",
    "        nwa_slice = temp_dB #[0][0]\n",
    "        onetone_data.append(nwa_slice[2])\n",
    "        \n",
    "        #plt.imshow(np.transpose(z_upd),interpolation='nearest', aspect='auto', cmap=cm.RdBu)\n",
    "        #nwa.set_timeout(1000)\n",
    "        #plt.plot(x_axis, np.average(data[0],0))\n",
    "        #line1.set_ydata(data[0][i][50])\n",
    "        #fig.canvas.draw()\n",
    "        #fig.canvas.flush_events()\n",
    "    #print(\"Current freq - {}\".format((j+1)*20e6+5e9)    \n",
    "    pow_slice.append(onetone_data)\n",
    "    plt.imshow(pow_slice,interpolation='nearest', aspect='auto', cmap=cm.bone, origin = 'lower')\n",
    "    plt.title(\"Current freq - {}\".format((j+1)*10e6+7e9))\n",
    "    fig.canvas.draw()\n",
    "    fig.canvas.flush_events()        \n",
    "plt.colorbar()\n",
    "\n",
    "nwa.set_output_state(\"OFF\")\n",
    "gen.set_output_state(\"OFF\")"
   ]
  },
  {
   "cell_type": "code",
   "execution_count": 44,
   "metadata": {},
   "outputs": [],
   "source": [
    "plt.imshow(pow_slice,interpolation='nearest', aspect='auto', cmap=cm.bone, origin = 'lower')\n",
    "np.save(\"E:\\\\MEASUREMENTS\\\\10mK_BlueFors_BFLD400\\\\RUN33\\\\run33\\\\CAmp\\\\ac_Stark_overnight_prec_6GHz1-6GHz7_601p_-55pownwa-15_0powdr_.csv\", pow_slice)"
   ]
  },
  {
   "cell_type": "code",
   "execution_count": 47,
   "metadata": {},
   "outputs": [],
   "source": [
    "b = np.load(\"E:\\\\MEASUREMENTS\\\\10mK_BlueFors_BFLD400\\\\RUN33\\\\run33\\\\CAmp\\\\ac_Stark_overnight_prec_6GHz1-6GHz7_601p_-55pownwa-15_0powdr_.csv.npy\")\n",
    "plt.imshow(b, interpolation='nearest', aspect='auto', cmap=cm.RdBu, origin = 'lower')\n",
    "\n",
    "#plt.plot(b)\n",
    "np.savetxt('E:\\\\MEASUREMENTS\\\\10mK_BlueFors_BFLD400\\\\RUN33\\\\run33\\\\Camp\\\\ac_Stark_overnight_prec_6GHz1-6GHz7_601p_-55pownwa-15_0powdr_.csv.csv', b, delimiter=',')\n"
   ]
  },
  {
   "cell_type": "code",
   "execution_count": 98,
   "metadata": {},
   "outputs": [
    {
     "name": "stdout",
     "output_type": "stream",
     "text": [
      "Qubit frequency - 6540000000Hz\n"
     ]
    }
   ],
   "source": [
    "print(\"Qubit frequency - {}Hz\".format(int(5.5e9+20e6*52)))"
   ]
  },
  {
   "cell_type": "code",
   "execution_count": 91,
   "metadata": {},
   "outputs": [],
   "source": [
    "with open('12.04.19 13h36m_pulse.prn', 'wb') as f:\n",
    "    pickle.dump(pow_slice, f)"
   ]
  },
  {
   "cell_type": "code",
   "execution_count": 106,
   "metadata": {},
   "outputs": [
    {
     "data": {
      "text/plain": [
       "<matplotlib.image.AxesImage at 0x24641908>"
      ]
     },
     "execution_count": 106,
     "metadata": {},
     "output_type": "execute_result"
    }
   ],
   "source": [
    "with open('qubit3_twotone_-5dB.pickle', 'rb') as f:\n",
    "    data_new = pickle.load(f)\n",
    "fig = plt.figure()\n",
    "plt.imshow(data_new, interpolation='nearest', aspect='auto', cmap=cm.bone, origin = 'lower')"
   ]
  },
  {
   "cell_type": "code",
   "execution_count": 10,
   "metadata": {},
   "outputs": [
    {
     "data": {
      "text/plain": [
       "101"
      ]
     },
     "execution_count": 10,
     "metadata": {},
     "output_type": "execute_result"
    }
   ],
   "source": [
    "act_data = data[0]\n",
    "len(x_axis)"
   ]
  },
  {
   "cell_type": "code",
   "execution_count": 11,
   "metadata": {},
   "outputs": [
    {
     "data": {
      "text/plain": [
       "<matplotlib.colorbar.Colorbar at 0xeb0b208>"
      ]
     },
     "execution_count": 11,
     "metadata": {},
     "output_type": "execute_result"
    }
   ],
   "source": [
    "from __future__ import division\n",
    "from matplotlib.patches import Patch\n",
    "from pylab import *\n",
    "\n",
    "y = np.linspace(0,1e-3,5)\n",
    "x = x_axis\n",
    "X,Y = meshgrid(y, x)\n",
    "\n",
    "Z = np.transpose(np.array(act_data))\n",
    "\n",
    "pcolor(X, Y, Z, cmap=cm.RdBu, vmax=abs(Z).max(), vmin=-abs(Z).max())\n",
    "colorbar()\n",
    "#axis([-3,3,-3,3])\n",
    "\n",
    "plt.ion()\n",
    "fig.canvas.draw()\n",
    "fig.canvas.flush_events()"
   ]
  },
  {
   "cell_type": "code",
   "execution_count": 74,
   "metadata": {},
   "outputs": [
    {
     "data": {
      "text/plain": [
       "<matplotlib.collections.QuadMesh at 0xfe82ba8>"
      ]
     },
     "execution_count": 74,
     "metadata": {},
     "output_type": "execute_result"
    }
   ],
   "source": [
    "import matplotlib.animation as animation\n",
    "\n",
    "fig2 = plt.figure()\n",
    "x = x_axis\n",
    "y = [np.arange(3)]\n",
    "base = np.array(act_data[0:3])\n",
    "X,Y = meshgrid(x, y)\n",
    "ims = []\n",
    "plt.pcolormesh(X, Y, base)"
   ]
  },
  {
   "cell_type": "code",
   "execution_count": 4,
   "metadata": {
    "collapsed": true
   },
   "outputs": [],
   "source": [
    "x = np.arange(100)\n",
    "y = np.arange(100)\n",
    "temp = [[0]*len(x)]*len(y)\n",
    "nrows, ncols = 100, 100\n",
    "grid = temp #.reshape((nrows, ncols))\n",
    "\n",
    "for i in range(len(x)):\n",
    "    temp[i] = np.random.rand(100)\n",
    "fig = plt.figure()\n",
    "plt.imshow(grid, extent=(x.min(), x.max(), y.max(), y.min()),\n",
    "           interpolation='nearest', aspect='equal', cmap=cm.jet)\n",
    "plt.colorbar()\n",
    "\n",
    "plt.ion()\n",
    "x_upd = []\n",
    "y_upd = np.array([])\n",
    "z_upd = []\n",
    "\n",
    "for i in range(10):    \n",
    "    time.sleep(1)\n",
    "    #z_upd.append([1,2,3,4])\n",
    "    z_upd.append(np.random.rand(4))\n",
    "    plt.imshow(np.transpose(z_upd),interpolation='nearest', aspect='auto', cmap=cm.RdBu)\n",
    "    \n",
    "    fig.canvas.draw()\n",
    "    fig.canvas.flush_events()    "
   ]
  },
  {
   "cell_type": "code",
   "execution_count": 2,
   "metadata": {
    "collapsed": true
   },
   "outputs": [],
   "source": [
    "def serial_ports():\n",
    "    \"\"\" Lists serial port names\n",
    "\n",
    "        :raises EnvironmentError:\n",
    "            On unsupported or unknown platforms\n",
    "        :returns:\n",
    "            A list of the serial ports available on the system\n",
    "    \"\"\"\n",
    "    if sys.platform.startswith('win'):\n",
    "        ports = ['COM%s' % (i + 1) for i in range(256)]\n",
    "    elif sys.platform.startswith('linux') or sys.platform.startswith('cygwin'):\n",
    "        # this excludes your current terminal \"/dev/tty\"\n",
    "        ports = glob.glob('/dev/tty[A-Za-z]*')\n",
    "    elif sys.platform.startswith('darwin'):\n",
    "        ports = glob.glob('/dev/tty.*')\n",
    "    else:\n",
    "        raise EnvironmentError('Unsupported platform')\n",
    "\n",
    "    result = []\n",
    "    for port in ports:\n",
    "        try:\n",
    "            s = serial.Serial(port)\n",
    "            s.close()\n",
    "            result.append(port)\n",
    "        except (OSError, serial.SerialException):\n",
    "            pass\n",
    "    return result"
   ]
  }
 ],
 "metadata": {
  "kernelspec": {
   "display_name": "Python 3",
   "language": "python",
   "name": "python3"
  },
  "language_info": {
   "codemirror_mode": {
    "name": "ipython",
    "version": 3
   },
   "file_extension": ".py",
   "mimetype": "text/x-python",
   "name": "python",
   "nbconvert_exporter": "python",
   "pygments_lexer": "ipython3",
   "version": "3.7.1"
  }
 },
 "nbformat": 4,
 "nbformat_minor": 2
}
